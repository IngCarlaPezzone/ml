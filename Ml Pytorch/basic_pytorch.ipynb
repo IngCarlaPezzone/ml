{
 "cells": [
  {
   "cell_type": "markdown",
   "metadata": {},
   "source": [
    "# Pythoch\n",
    "\n",
    "https://pytorch.org/"
   ]
  },
  {
   "cell_type": "code",
   "execution_count": 1,
   "metadata": {},
   "outputs": [],
   "source": [
    "# !pip3 install torch torchvision torchaudio"
   ]
  },
  {
   "cell_type": "code",
   "execution_count": 2,
   "metadata": {},
   "outputs": [],
   "source": [
    "import torch"
   ]
  },
  {
   "cell_type": "markdown",
   "metadata": {},
   "source": [
    "## ¿ Qué es Pytorch ?\n",
    "\n",
    "`Pytorch` es un framework de `redes neuronales`, un conjunto de librerías y herramientas que nos hacen la vida más fácil a la hora de diseñar, entrenar y poner en producción nuestros modelos de `Deep Learning`. Una forma sencilla de entender qué es `Pytorch` es la siguiente:\n",
    "\n",
    "$$ Pytorch = Numpy + Autograd + GPU $$\n",
    "\n",
    "Vamos a ver qué significa cada uno de estos términos."
   ]
  },
  {
   "cell_type": "markdown",
   "metadata": {},
   "source": [
    "De la misma manera que en `NumPy` el objeto principal es el `ndarray`, en `Pytorch` el objeto principal es el `tensor`. Podemos definir un tensor de manera similar a como definimos un array, incluso podemos inicializar tensores a partir de arrays."
   ]
  },
  {
   "cell_type": "code",
   "execution_count": 3,
   "metadata": {},
   "outputs": [
    {
     "name": "stdout",
     "output_type": "stream",
     "text": [
      "escalar\n",
      "tensor([-1.0994e+30])\n"
     ]
    }
   ],
   "source": [
    "# torch.empty(size): uninitiallized\n",
    "print(\"escalar\")\n",
    "x = torch.empty(1) # scalar\n",
    "print(x)\n"
   ]
  },
  {
   "cell_type": "code",
   "execution_count": 4,
   "metadata": {},
   "outputs": [
    {
     "name": "stdout",
     "output_type": "stream",
     "text": [
      "vector, 1D\n",
      "tensor([-1.0996e+30,  7.2027e-43, -6.3386e+29])\n"
     ]
    }
   ],
   "source": [
    "\n",
    "print(\"vector, 1D\")\n",
    "x = torch.empty(3) # vector, 1D\n",
    "print(x)\n"
   ]
  },
  {
   "cell_type": "code",
   "execution_count": 5,
   "metadata": {},
   "outputs": [
    {
     "name": "stdout",
     "output_type": "stream",
     "text": [
      "matrix, 2D\n",
      "tensor([[1.0384e+21, 6.3017e-10, 2.6826e+23],\n",
      "        [8.5389e-07, 5.2386e-11, 7.1450e+31]])\n"
     ]
    }
   ],
   "source": [
    "print(\"matrix, 2D\")\n",
    "x = torch.empty(2,3) # matrix, 2D\n",
    "print(x)\n"
   ]
  },
  {
   "cell_type": "code",
   "execution_count": 6,
   "metadata": {},
   "outputs": [
    {
     "name": "stdout",
     "output_type": "stream",
     "text": [
      "tensor 3D\n",
      "tensor([[[0., 0., 0.],\n",
      "         [0., 0., 0.]],\n",
      "\n",
      "        [[0., 0., 0.],\n",
      "         [0., 0., 0.]]])\n"
     ]
    }
   ],
   "source": [
    "print(\"tensor 3D\")\n",
    "x = torch.empty(2,2,3) # tensor, 3 dimensions\n",
    "print(x)\n"
   ]
  },
  {
   "cell_type": "code",
   "execution_count": 7,
   "metadata": {},
   "outputs": [
    {
     "name": "stdout",
     "output_type": "stream",
     "text": [
      "tensor 4D\n",
      "tensor([[[[0., 0., 0.],\n",
      "          [0., 0., 0.]],\n",
      "\n",
      "         [[0., 0., 0.],\n",
      "          [0., 0., 0.]]],\n",
      "\n",
      "\n",
      "        [[[0., 0., 0.],\n",
      "          [0., 0., 0.]],\n",
      "\n",
      "         [[0., 0., 0.],\n",
      "          [0., 0., 0.]]]])\n"
     ]
    }
   ],
   "source": [
    "print(\"tensor 4D\")\n",
    "x = torch.empty(2,2,2,3) # tensor, 4 dimensions\n",
    "print(x)"
   ]
  },
  {
   "cell_type": "code",
   "execution_count": 8,
   "metadata": {},
   "outputs": [
    {
     "name": "stdout",
     "output_type": "stream",
     "text": [
      "torch.Size([5, 3])\n",
      "torch.float32\n"
     ]
    },
    {
     "data": {
      "text/plain": [
       "tensor([[0., 0., 0.],\n",
       "        [0., 0., 0.],\n",
       "        [0., 0., 0.],\n",
       "        [0., 0., 0.],\n",
       "        [0., 0., 0.]])"
      ]
     },
     "execution_count": 8,
     "metadata": {},
     "output_type": "execute_result"
    }
   ],
   "source": [
    "# matriz de ceros, 5 filas y 3 columnas\n",
    "\n",
    "x = torch.zeros(5, 3)\n",
    "print(x.size())\n",
    "print(x.dtype)\n",
    "x"
   ]
  },
  {
   "cell_type": "code",
   "execution_count": 9,
   "metadata": {},
   "outputs": [
    {
     "name": "stdout",
     "output_type": "stream",
     "text": [
      "torch.Size([5, 3])\n",
      "torch.float16\n",
      "tensor([[0., 0., 0.],\n",
      "        [0., 0., 0.],\n",
      "        [0., 0., 0.],\n",
      "        [0., 0., 0.],\n",
      "        [0., 0., 0.]], dtype=torch.float16)\n"
     ]
    }
   ],
   "source": [
    "x = torch.zeros(5, 3, dtype=torch.float16)\n",
    "print(x.size())\n",
    "print(x.dtype)\n",
    "print(x)"
   ]
  },
  {
   "cell_type": "code",
   "execution_count": 10,
   "metadata": {},
   "outputs": [],
   "source": [
    "# print(dir(torch))"
   ]
  },
  {
   "cell_type": "code",
   "execution_count": 11,
   "metadata": {},
   "outputs": [
    {
     "data": {
      "text/plain": [
       "tensor([[[-0.0378, -1.8230],\n",
       "         [ 0.4017,  1.3474],\n",
       "         [ 0.8228,  0.1199]],\n",
       "\n",
       "        [[ 0.3585,  1.5232],\n",
       "         [ 1.3720, -0.5326],\n",
       "         [ 1.0980, -1.3284]],\n",
       "\n",
       "        [[ 0.5932, -0.6409],\n",
       "         [-1.2312, -1.6198],\n",
       "         [ 0.3014, -0.4456]],\n",
       "\n",
       "        [[ 0.7500,  0.7306],\n",
       "         [ 0.7568, -0.1349],\n",
       "         [-0.4658, -0.7019]],\n",
       "\n",
       "        [[-0.2169,  1.2506],\n",
       "         [-0.4123, -0.2663],\n",
       "         [-1.7423, -0.0460]]])"
      ]
     },
     "execution_count": 11,
     "metadata": {},
     "output_type": "execute_result"
    }
   ],
   "source": [
    "# tensor con valores aleatorios\n",
    "\n",
    "x = torch.randn(5, 3, 2)\n",
    "x"
   ]
  },
  {
   "cell_type": "code",
   "execution_count": 12,
   "metadata": {},
   "outputs": [
    {
     "data": {
      "text/plain": [
       "tensor([[1, 2, 3],\n",
       "        [4, 5, 6]])"
      ]
     },
     "execution_count": 12,
     "metadata": {},
     "output_type": "execute_result"
    }
   ],
   "source": [
    "# tensor a partir de lista \n",
    "\n",
    "x = torch.tensor([[1, 2, 3],[4, 5, 6]])\n",
    "x"
   ]
  },
  {
   "cell_type": "code",
   "execution_count": 13,
   "metadata": {},
   "outputs": [],
   "source": [
    "import numpy as np\n"
   ]
  },
  {
   "cell_type": "code",
   "execution_count": 14,
   "metadata": {},
   "outputs": [
    {
     "name": "stdout",
     "output_type": "stream",
     "text": [
      "[[1 2 3]\n",
      " [4 5 6]]\n"
     ]
    }
   ],
   "source": [
    "\n",
    "# tensor a partir de array\n",
    "\n",
    "a = np.array([[1, 2, 3],[4, 5, 6]])\n",
    "print(a)\n"
   ]
  },
  {
   "cell_type": "code",
   "execution_count": 15,
   "metadata": {},
   "outputs": [
    {
     "data": {
      "text/plain": [
       "tensor([[1, 2, 3],\n",
       "        [4, 5, 6]], dtype=torch.int32)"
      ]
     },
     "execution_count": 15,
     "metadata": {},
     "output_type": "execute_result"
    }
   ],
   "source": [
    "x = torch.from_numpy(a)\n",
    "x"
   ]
  },
  {
   "cell_type": "code",
   "execution_count": 16,
   "metadata": {},
   "outputs": [
    {
     "data": {
      "text/plain": [
       "(tensor([[ 0.1723,  0.8282,  0.6904],\n",
       "         [-0.7513, -1.7227,  0.6238],\n",
       "         [-0.0786,  0.9943, -0.4944]]),\n",
       " tensor([[-1.0850, -1.7309, -1.0061],\n",
       "         [-1.2589,  1.5788,  0.1823],\n",
       "         [-0.5418,  0.3315, -0.9687]]))"
      ]
     },
     "execution_count": 16,
     "metadata": {},
     "output_type": "execute_result"
    }
   ],
   "source": [
    "# operaciones\n",
    "\n",
    "x = torch.randn(3, 3)\n",
    "y = torch.randn(3, 3)\n",
    "\n",
    "x, y"
   ]
  },
  {
   "cell_type": "markdown",
   "metadata": {},
   "source": []
  },
  {
   "cell_type": "code",
   "execution_count": 17,
   "metadata": {},
   "outputs": [
    {
     "data": {
      "text/plain": [
       "tensor([[-0.9127, -0.9027, -0.3157],\n",
       "        [-2.0102, -0.1439,  0.8061],\n",
       "        [-0.6204,  1.3258, -1.4632]])"
      ]
     },
     "execution_count": 17,
     "metadata": {},
     "output_type": "execute_result"
    }
   ],
   "source": [
    "x + y"
   ]
  },
  {
   "cell_type": "code",
   "execution_count": 18,
   "metadata": {},
   "outputs": [
    {
     "data": {
      "text/plain": [
       "tensor([[-0.9127, -0.9027, -0.3157],\n",
       "        [-2.0102, -0.1439,  0.8061],\n",
       "        [-0.6204,  1.3258, -1.4632]])"
      ]
     },
     "execution_count": 18,
     "metadata": {},
     "output_type": "execute_result"
    }
   ],
   "source": [
    "torch.add(x,y)"
   ]
  },
  {
   "cell_type": "code",
   "execution_count": 19,
   "metadata": {},
   "outputs": [
    {
     "data": {
      "text/plain": [
       "tensor([[ 1.2574,  2.5591,  1.6965],\n",
       "        [ 0.5076, -3.3016,  0.4414],\n",
       "        [ 0.4632,  0.6628,  0.4743]])"
      ]
     },
     "execution_count": 19,
     "metadata": {},
     "output_type": "execute_result"
    }
   ],
   "source": [
    "x - y"
   ]
  },
  {
   "cell_type": "code",
   "execution_count": 20,
   "metadata": {},
   "outputs": [
    {
     "data": {
      "text/plain": [
       "tensor([[ 1.2574,  2.5591,  1.6965],\n",
       "        [ 0.5076, -3.3016,  0.4414],\n",
       "        [ 0.4632,  0.6628,  0.4743]])"
      ]
     },
     "execution_count": 20,
     "metadata": {},
     "output_type": "execute_result"
    }
   ],
   "source": [
    "torch.sub(x, y)"
   ]
  },
  {
   "cell_type": "code",
   "execution_count": 21,
   "metadata": {},
   "outputs": [
    {
     "data": {
      "text/plain": [
       "tensor([[-0.1870, -1.4336, -0.6946],\n",
       "        [ 0.9458, -2.7199,  0.1137],\n",
       "        [ 0.0426,  0.3296,  0.4790]])"
      ]
     },
     "execution_count": 21,
     "metadata": {},
     "output_type": "execute_result"
    }
   ],
   "source": [
    "x  * y"
   ]
  },
  {
   "cell_type": "code",
   "execution_count": 22,
   "metadata": {},
   "outputs": [
    {
     "data": {
      "text/plain": [
       "tensor([[-0.1870, -1.4336, -0.6946],\n",
       "        [ 0.9458, -2.7199,  0.1137],\n",
       "        [ 0.0426,  0.3296,  0.4790]])"
      ]
     },
     "execution_count": 22,
     "metadata": {},
     "output_type": "execute_result"
    }
   ],
   "source": [
    "torch.mul(x,y)"
   ]
  },
  {
   "cell_type": "code",
   "execution_count": 23,
   "metadata": {},
   "outputs": [
    {
     "name": "stdout",
     "output_type": "stream",
     "text": [
      "tensor([[-0.1588, -0.4785, -0.6862],\n",
      "        [ 0.5968, -1.0911,  3.4210],\n",
      "        [ 0.1451,  2.9992,  0.5104]])\n",
      "tensor([[-0.1588, -0.4785, -0.6862],\n",
      "        [ 0.5968, -1.0911,  3.4210],\n",
      "        [ 0.1451,  2.9992,  0.5104]])\n"
     ]
    }
   ],
   "source": [
    "z = x / y\n",
    "print(z)\n",
    "z = torch.div(x,y)\n",
    "print(z)"
   ]
  },
  {
   "cell_type": "code",
   "execution_count": 24,
   "metadata": {},
   "outputs": [
    {
     "data": {
      "text/plain": [
       "tensor([0.1723, 0.8282, 0.6904])"
      ]
     },
     "execution_count": 24,
     "metadata": {},
     "output_type": "execute_result"
    }
   ],
   "source": [
    "# primera fila\n",
    "\n",
    "x[0]"
   ]
  },
  {
   "cell_type": "code",
   "execution_count": 25,
   "metadata": {},
   "outputs": [
    {
     "name": "stdout",
     "output_type": "stream",
     "text": [
      "tensor([[0.0410, 0.2562, 0.8380],\n",
      "        [0.2342, 0.6077, 0.9014],\n",
      "        [0.8772, 0.1148, 0.6655],\n",
      "        [0.5306, 0.9404, 0.3471],\n",
      "        [0.4115, 0.8789, 0.7840]])\n",
      "tensor([0.0410, 0.2342, 0.8772, 0.5306, 0.4115])\n",
      "tensor([0.2342, 0.6077, 0.9014])\n",
      "tensor(0.6077)\n"
     ]
    }
   ],
   "source": [
    "# Slicing\n",
    "x = torch.rand(5,3)\n",
    "print(x)\n",
    "print(x[:, 0]) # all rows, column 0\n",
    "print(x[1, :]) # row 1, all columns\n",
    "print(x[1,1]) # element at 1, 1"
   ]
  },
  {
   "cell_type": "code",
   "execution_count": 26,
   "metadata": {},
   "outputs": [
    {
     "name": "stdout",
     "output_type": "stream",
     "text": [
      "tensor(0.6077)\n",
      "0.6076529622077942\n"
     ]
    }
   ],
   "source": [
    "print(x[1,1])\n",
    "print(x[1,1].item())"
   ]
  },
  {
   "cell_type": "code",
   "execution_count": 27,
   "metadata": {},
   "outputs": [
    {
     "name": "stdout",
     "output_type": "stream",
     "text": [
      "tensor([[0.0410, 0.2562, 0.8380],\n",
      "        [0.2342, 0.6077, 0.9014],\n",
      "        [0.8772, 0.1148, 0.6655]])\n"
     ]
    }
   ],
   "source": [
    "print(x[:3,:]) "
   ]
  },
  {
   "cell_type": "code",
   "execution_count": null,
   "metadata": {},
   "outputs": [],
   "source": []
  },
  {
   "cell_type": "code",
   "execution_count": 28,
   "metadata": {},
   "outputs": [
    {
     "data": {
      "text/plain": [
       "torch.Size([5, 3])"
      ]
     },
     "execution_count": 28,
     "metadata": {},
     "output_type": "execute_result"
    }
   ],
   "source": [
    "x.shape"
   ]
  },
  {
   "cell_type": "code",
   "execution_count": 29,
   "metadata": {},
   "outputs": [],
   "source": [
    "z = torch.rand(3,1\n",
    "               )"
   ]
  },
  {
   "cell_type": "code",
   "execution_count": 30,
   "metadata": {},
   "outputs": [
    {
     "data": {
      "text/plain": [
       "tensor([[0.2130],\n",
       "        [0.7093],\n",
       "        [0.7374]])"
      ]
     },
     "execution_count": 30,
     "metadata": {},
     "output_type": "execute_result"
    }
   ],
   "source": [
    "z"
   ]
  },
  {
   "cell_type": "code",
   "execution_count": 31,
   "metadata": {},
   "outputs": [
    {
     "data": {
      "text/plain": [
       "tensor([[0.0410, 0.2562, 0.8380],\n",
       "        [0.2342, 0.6077, 0.9014],\n",
       "        [0.8772, 0.1148, 0.6655],\n",
       "        [0.5306, 0.9404, 0.3471],\n",
       "        [0.4115, 0.8789, 0.7840]])"
      ]
     },
     "execution_count": 31,
     "metadata": {},
     "output_type": "execute_result"
    }
   ],
   "source": [
    "x"
   ]
  },
  {
   "cell_type": "markdown",
   "metadata": {},
   "source": [
    "# multiplicacion de punto o dot con pytorch"
   ]
  },
  {
   "cell_type": "code",
   "execution_count": 32,
   "metadata": {},
   "outputs": [
    {
     "data": {
      "text/plain": [
       "tensor([[0.8084],\n",
       "        [1.1455],\n",
       "        [0.7590],\n",
       "        [1.0360],\n",
       "        [1.2891]])"
      ]
     },
     "execution_count": 32,
     "metadata": {},
     "output_type": "execute_result"
    }
   ],
   "source": [
    "torch.mm(x,z)"
   ]
  },
  {
   "cell_type": "code",
   "execution_count": 33,
   "metadata": {},
   "outputs": [],
   "source": [
    "tensor_example_one = torch.Tensor(\n",
    "[\n",
    "    [1, 1, 1],\n",
    "    [2, 2, 2],\n",
    "    [3, 3, 3]\n",
    "])"
   ]
  },
  {
   "cell_type": "code",
   "execution_count": 34,
   "metadata": {},
   "outputs": [],
   "source": [
    "tensor_example_two = torch.Tensor(\n",
    "[\n",
    "    [4, 5, 6],\n",
    "    [4, 5, 6],\n",
    "    [4, 5, 6]\n",
    "])"
   ]
  },
  {
   "cell_type": "code",
   "execution_count": 35,
   "metadata": {},
   "outputs": [],
   "source": [
    "tensor_dot_product = torch.mm(tensor_example_one, tensor_example_two)"
   ]
  },
  {
   "cell_type": "code",
   "execution_count": 36,
   "metadata": {},
   "outputs": [
    {
     "name": "stdout",
     "output_type": "stream",
     "text": [
      "tensor([[12., 15., 18.],\n",
      "        [24., 30., 36.],\n",
      "        [36., 45., 54.]])\n"
     ]
    }
   ],
   "source": [
    "print(tensor_dot_product)"
   ]
  },
  {
   "cell_type": "markdown",
   "metadata": {},
   "source": [
    "## Autograd\n",
    "Ya hemos visto que Pytorch es muy similar a NumPy, sin embargo su funcionalidad va más allá de una estructura de datos eficiente con la que podemos llevar a cabo operaciones (para eso ya nos basta con NumPy). La funcionalidad más importante que Pytorch añade es la conocidad como autograd, la cual nos proporciona la posibilidad de calcular derivadas de manera automática con respecto a cualquier tensor. Esto le da a Pytorch un gran potencial para diseñar redes neuronales complejas y entrenarlas utilizando algoritmos de gradientes sin tener que calcular todas estas derivadas manualmente (como hemos hecho en los posts anteriores). Para poder llevar a cabo estas operaciones, Pytorch va construyendo de manera dinámica un grafo computacional. Cada vez que aplicamos una operación sobre uno o varios tensores, éstos se añaden al grafo computacional junto a la operación en concreto. De esta manera, si queremos calcular la derivada de cualquier valor con respecto a cualquier tensor, simplemente tenemos que aplicar el algoritmo de backpropagation (que no es más que la regla de la cadena de la derivada) en el grafo. Vamos a ilustrarlo con un ejemplo."
   ]
  },
  {
   "cell_type": "code",
   "execution_count": 37,
   "metadata": {},
   "outputs": [
    {
     "data": {
      "text/plain": [
       "tensor(3., grad_fn=<AddBackward0>)"
      ]
     },
     "execution_count": 37,
     "metadata": {},
     "output_type": "execute_result"
    }
   ],
   "source": [
    "x = torch.tensor(1., requires_grad=True)\n",
    "y = torch.tensor(2., requires_grad=True)\n",
    "p = x + y\n",
    "p"
   ]
  },
  {
   "cell_type": "code",
   "execution_count": 38,
   "metadata": {},
   "outputs": [
    {
     "data": {
      "text/plain": [
       "tensor(4., grad_fn=<AddBackward0>)"
      ]
     },
     "execution_count": 38,
     "metadata": {},
     "output_type": "execute_result"
    }
   ],
   "source": [
    "x = torch.tensor(2., requires_grad=True)\n",
    "y = torch.tensor(2., requires_grad=True)\n",
    "# p = torch.tensor (x + y,requires_grad=True) \n",
    "p = x + y\n",
    "p"
   ]
  },
  {
   "cell_type": "code",
   "execution_count": 39,
   "metadata": {},
   "outputs": [
    {
     "data": {
      "text/plain": [
       "tensor(12., grad_fn=<MulBackward0>)"
      ]
     },
     "execution_count": 39,
     "metadata": {},
     "output_type": "execute_result"
    }
   ],
   "source": [
    "\n",
    "z = torch.tensor(3., requires_grad=True)\n",
    "g = p * z\n",
    "g"
   ]
  },
  {
   "cell_type": "code",
   "execution_count": 40,
   "metadata": {},
   "outputs": [],
   "source": [
    "g.backward()"
   ]
  },
  {
   "cell_type": "code",
   "execution_count": 41,
   "metadata": {},
   "outputs": [
    {
     "data": {
      "text/plain": [
       "tensor(4.)"
      ]
     },
     "execution_count": 41,
     "metadata": {},
     "output_type": "execute_result"
    }
   ],
   "source": [
    "z.grad"
   ]
  },
  {
   "cell_type": "code",
   "execution_count": 42,
   "metadata": {},
   "outputs": [
    {
     "data": {
      "text/plain": [
       "tensor(3.)"
      ]
     },
     "execution_count": 42,
     "metadata": {},
     "output_type": "execute_result"
    }
   ],
   "source": [
    "y.grad"
   ]
  },
  {
   "cell_type": "code",
   "execution_count": 43,
   "metadata": {},
   "outputs": [
    {
     "data": {
      "text/plain": [
       "tensor(3.)"
      ]
     },
     "execution_count": 43,
     "metadata": {},
     "output_type": "execute_result"
    }
   ],
   "source": [
    "x.grad"
   ]
  },
  {
   "cell_type": "code",
   "execution_count": 44,
   "metadata": {},
   "outputs": [],
   "source": [
    "# p.grad"
   ]
  },
  {
   "cell_type": "code",
   "execution_count": 45,
   "metadata": {},
   "outputs": [],
   "source": [
    "x = torch.randn(3, 3, requires_grad=True)\n",
    "y = torch.randn(3, 3, requires_grad=True)"
   ]
  },
  {
   "cell_type": "code",
   "execution_count": 46,
   "metadata": {},
   "outputs": [],
   "source": [
    "g1 = x * y"
   ]
  },
  {
   "cell_type": "code",
   "execution_count": 47,
   "metadata": {},
   "outputs": [
    {
     "data": {
      "text/plain": [
       "tensor([[ 0.1114, -0.1246,  1.2659],\n",
       "        [-0.0729, -0.1052,  0.3237],\n",
       "        [ 0.3616, -1.3968, -0.2633]], grad_fn=<MulBackward0>)"
      ]
     },
     "execution_count": 47,
     "metadata": {},
     "output_type": "execute_result"
    }
   ],
   "source": [
    "g1"
   ]
  },
  {
   "cell_type": "code",
   "execution_count": 48,
   "metadata": {},
   "outputs": [
    {
     "data": {
      "text/plain": [
       "False"
      ]
     },
     "execution_count": 48,
     "metadata": {},
     "output_type": "execute_result"
    }
   ],
   "source": [
    "torch.cuda.is_available()"
   ]
  },
  {
   "cell_type": "code",
   "execution_count": 49,
   "metadata": {},
   "outputs": [],
   "source": [
    "import sklearn "
   ]
  },
  {
   "cell_type": "code",
   "execution_count": 50,
   "metadata": {},
   "outputs": [
    {
     "data": {
      "text/plain": [
       "'1.0.2'"
      ]
     },
     "execution_count": 50,
     "metadata": {},
     "output_type": "execute_result"
    }
   ],
   "source": [
    "sklearn .__version__"
   ]
  },
  {
   "cell_type": "code",
   "execution_count": 51,
   "metadata": {},
   "outputs": [
    {
     "data": {
      "text/plain": [
       "((70000, 784), (70000,))"
      ]
     },
     "execution_count": 51,
     "metadata": {},
     "output_type": "execute_result"
    }
   ],
   "source": [
    "from sklearn.datasets import fetch_openml\n",
    "\n",
    "mnist = fetch_openml('mnist_784', version=1)\n",
    "X, Y = mnist[\"data\"], mnist[\"target\"]\n",
    "\n",
    "X.shape, Y.shape"
   ]
  },
  {
   "cell_type": "code",
   "execution_count": 52,
   "metadata": {},
   "outputs": [
    {
     "data": {
      "text/plain": [
       "'5'"
      ]
     },
     "execution_count": 52,
     "metadata": {},
     "output_type": "execute_result"
    }
   ],
   "source": [
    "Y[0]"
   ]
  },
  {
   "cell_type": "code",
   "execution_count": 53,
   "metadata": {},
   "outputs": [
    {
     "data": {
      "text/plain": [
       "pandas.core.frame.DataFrame"
      ]
     },
     "execution_count": 53,
     "metadata": {},
     "output_type": "execute_result"
    }
   ],
   "source": [
    "type(X)"
   ]
  },
  {
   "cell_type": "code",
   "execution_count": 54,
   "metadata": {},
   "outputs": [
    {
     "data": {
      "image/png": "[encoded data removed]",
      "text/plain": [
       "<Figure size 720x432 with 15 Axes>"
      ]
     },
     "metadata": {
      "needs_background": "light"
     },
     "output_type": "display_data"
    }
   ],
   "source": [
    "%matplotlib inline\n",
    "\n",
    "import matplotlib as mpl\n",
    "import matplotlib.pyplot as plt\n",
    "import random \n",
    "\n",
    "r, c = 3, 5\n",
    "fig = plt.figure(figsize=(2*c, 2*r))\n",
    "for _r in range(r):\n",
    "    for _c in range(c):\n",
    "        plt.subplot(r, c, _r*c + _c + 1)\n",
    "        ix  = random.randint(0, len(X)-1)\n",
    "        # img = X[ix]  # para versiones de dataset de sklearn inferiores a 1.0\n",
    "        img = X.iloc[ix].values\n",
    "        plt.imshow(img.reshape(28,28), cmap='gray')\n",
    "        plt.axis(\"off\")\n",
    "        plt.title(Y[ix])\n",
    "plt.tight_layout()\n",
    "plt.show()"
   ]
  },
  {
   "cell_type": "code",
   "execution_count": 55,
   "metadata": {},
   "outputs": [],
   "source": [
    "X_train, X_test, y_train, y_test = X[:60000] / 255., X[60000:] / 255., Y[:60000].astype(\"int\"), Y[60000:].astype(\"int\")"
   ]
  },
  {
   "cell_type": "code",
   "execution_count": 56,
   "metadata": {},
   "outputs": [],
   "source": [
    "# función de pérdida y derivada\n",
    "\n",
    "def softmax(x):\n",
    "    return torch.exp(x) / torch.exp(x).sum(axis=-1,keepdims=True)\n",
    "\n",
    "def cross_entropy(output, target):\n",
    "    logits = output[torch.arange(len(output)), target]\n",
    "    loss = - logits + torch.log(torch.sum(torch.exp(output), axis=-1))\n",
    "    loss = loss.mean()\n",
    "    return loss"
   ]
  },
  {
   "cell_type": "code",
   "execution_count": 57,
   "metadata": {},
   "outputs": [],
   "source": [
    "D_in  = 784 # neuronas de entrada\n",
    "H     = 100 # neuronas de capa oculta\n",
    "D_out = 10  # neuronas de salidas "
   ]
  },
  {
   "cell_type": "code",
   "execution_count": 58,
   "metadata": {},
   "outputs": [],
   "source": [
    "w1 = torch.tensor (np.random.normal(\n",
    "            loc   = 0.0, \n",
    "            scale = 0.1,\n",
    "            #scale = np.sqrt( 2 / (D_in + H )),\n",
    "            size  = ( D_in , H)),\n",
    "    requires_grad = True,\n",
    "    device        = \"cpu\",\n",
    "    dtype         = torch.float)\n",
    "\n",
    "b1 = torch.zeros(H, \n",
    "                 requires_grad = True, \n",
    "                 device = \"cpu\", \n",
    "                 dtype = torch.float)\n",
    "\n",
    "w2 = torch.tensor(np.random.normal(\n",
    "          loc   = 0.0, \n",
    "          scale = 0.1,\n",
    "          #scale = np.sqrt( 2 / ( D_out + H) ), \n",
    "          size  = ( H , D_out )), \n",
    "                  requires_grad = True, \n",
    "                  device        = \"cpu\", \n",
    "                  dtype         = torch.float)\n",
    "\n",
    "b2 = torch.zeros(D_out, \n",
    "                 requires_grad = True, \n",
    "                 device        = \"cpu\", \n",
    "                 dtype         = torch.float)\n",
    "\n"
   ]
  },
  {
   "cell_type": "code",
   "execution_count": 59,
   "metadata": {},
   "outputs": [],
   "source": [
    "# convertimos datos a tensores y copiamos en gpu\n",
    "X_t = torch.from_numpy(X_train.values).float()   #.cuda()\n",
    "Y_t = torch.from_numpy(y_train.values).long()   # .cuda()"
   ]
  },
  {
   "cell_type": "code",
   "execution_count": 60,
   "metadata": {},
   "outputs": [],
   "source": [
    "epochs    = 100\n",
    "lr        = 0.8\n",
    "log_each  = 10\n",
    "l = []"
   ]
  },
  {
   "cell_type": "code",
   "execution_count": 61,
   "metadata": {},
   "outputs": [
    {
     "name": "stdout",
     "output_type": "stream",
     "text": [
      "Epoch 10/100 Loss 1.51261\n",
      "Epoch 20/100 Loss 1.14745\n",
      "Epoch 30/100 Loss 0.94151\n",
      "Epoch 40/100 Loss 0.81502\n",
      "Epoch 50/100 Loss 0.72485\n",
      "Epoch 60/100 Loss 0.65875\n",
      "Epoch 70/100 Loss 0.60863\n",
      "Epoch 80/100 Loss 0.56772\n",
      "Epoch 90/100 Loss 0.53399\n",
      "Epoch 100/100 Loss 0.50575\n"
     ]
    }
   ],
   "source": [
    "for e in range(1, epochs+1): \n",
    "    \n",
    "    # forward\n",
    "    h = X_t.mm(w1) + b1\n",
    "    h_relu = h.clamp(min=0) # relu  \n",
    "    y_pred = h_relu.mm(w2) + b2\n",
    "\n",
    "    # loss\n",
    "    loss = cross_entropy(y_pred, Y_t)\n",
    "    l.append(loss.item())\n",
    "\n",
    "    # Backprop (calculamos todos los gradientes automáticamente)\n",
    "    loss.backward()\n",
    "    \n",
    "    with torch.no_grad():\n",
    "        # update pesos\n",
    "        w1 -= lr * w1.grad\n",
    "        b1 -= lr * b1.grad\n",
    "        w2 -= lr * w2.grad  \n",
    "        b2 -= lr * b2.grad\n",
    "        \n",
    "        # ponemos a cero los gradientes para la siguiente iteración\n",
    "        # (sino acumularíamos gradientes)\n",
    "        w1.grad.zero_()\n",
    "        w2.grad.zero_()\n",
    "        b1.grad.zero_()\n",
    "        b2.grad.zero_()\n",
    "    \n",
    "    if not e % log_each:\n",
    "        print(f\"Epoch {e}/{epochs} Loss {np.mean(l):.5f}\")"
   ]
  },
  {
   "cell_type": "code",
   "execution_count": 62,
   "metadata": {},
   "outputs": [
    {
     "data": {
      "text/plain": [
       "array([[-0.01119353, -0.01683981, -0.00195235,  0.00290719, -0.01430026],\n",
       "       [-0.00732373,  0.00086835, -0.00612938, -0.00139533,  0.00025567],\n",
       "       [-0.00366721,  0.00536738,  0.00409007, -0.02350764,  0.01553715],\n",
       "       [-0.00425929,  0.01965963,  0.00294402,  0.0118328 ,  0.00286383],\n",
       "       [ 0.00382896,  0.01633122, -0.0032515 ,  0.00354212, -0.01567875],\n",
       "       [ 0.01862255, -0.00209658, -0.01113777,  0.00350512, -0.00022166],\n",
       "       [ 0.01388433,  0.01143066, -0.00367034,  0.01298517,  0.01004752],\n",
       "       [ 0.00267137, -0.01218147,  0.01679473,  0.00160905, -0.00020316],\n",
       "       [-0.00336341,  0.00218254,  0.0030469 , -0.00271729, -0.00174439],\n",
       "       [-0.01018866,  0.00119252, -0.00892668,  0.00326563, -0.00103187]])"
      ]
     },
     "execution_count": 62,
     "metadata": {},
     "output_type": "execute_result"
    }
   ],
   "source": [
    "np.random.normal(\n",
    "          loc   = 0.0, \n",
    "          #scale = np.sqrt( 2 / ( D_out + H) ),\n",
    "          scale = 0.01,\n",
    "          size  = ( 10,5 ))"
   ]
  },
  {
   "cell_type": "code",
   "execution_count": 63,
   "metadata": {},
   "outputs": [],
   "source": [
    "def evaluate(x):\n",
    "    h = x.mm(w1) + b1\n",
    "    h_relu = h.clamp(min=0)\n",
    "    y_pred = h_relu.mm(w2) + b2\n",
    "    y_probas = softmax(y_pred)\n",
    "    return torch.argmax(y_probas, axis=1)"
   ]
  },
  {
   "cell_type": "code",
   "execution_count": 67,
   "metadata": {},
   "outputs": [
    {
     "data": {
      "text/plain": [
       "0.9323"
      ]
     },
     "execution_count": 67,
     "metadata": {},
     "output_type": "execute_result"
    }
   ],
   "source": [
    "from sklearn.metrics import accuracy_score\n",
    "\n",
    "y_pred = evaluate(torch.from_numpy(X_test.values).float())#.cuda())\n",
    "accuracy_score(y_test, y_pred.cpu().numpy())"
   ]
  },
  {
   "cell_type": "code",
   "execution_count": 79,
   "metadata": {},
   "outputs": [
    {
     "data": {
      "image/png": "[encoded data removed]",
      "text/plain": [
       "<Figure size 720x432 with 15 Axes>"
      ]
     },
     "metadata": {
      "needs_background": "light"
     },
     "output_type": "display_data"
    }
   ],
   "source": [
    "r, c = 3, 5\n",
    "fig = plt.figure(figsize=(2*c, 2*r))\n",
    "test_imgs, test_labs = [], []\n",
    "for _r in range(r):\n",
    "    for _c in range(c):\n",
    "        plt.subplot(r, c, _r*c + _c + 1)\n",
    "        ix = random.randint(0, len(X_test)-1)\n",
    "        img = X_test.iloc[ix].values\n",
    "        y_pred = evaluate(torch.tensor([img]).float())[0] #.cuda())[0]\n",
    "        plt.imshow(img.reshape(28,28), cmap='gray')\n",
    "        plt.axis(\"off\")\n",
    "        #print(y_pred)\n",
    "        #print(y_test.iloc[ix])\n",
    "        plt.title(f\"{y_test.iloc[ix]}/{y_pred}\", color=\"green\" if y_test.iloc[ix] == y_pred.item() else \"red\")\n",
    "plt.tight_layout()\n",
    "plt.show()"
   ]
  },
  {
   "cell_type": "code",
   "execution_count": 73,
   "metadata": {},
   "outputs": [
    {
     "data": {
      "text/plain": [
       "numpy.int32"
      ]
     },
     "execution_count": 73,
     "metadata": {},
     "output_type": "execute_result"
    }
   ],
   "source": [
    "type(y_test.iloc[5910])"
   ]
  },
  {
   "cell_type": "code",
   "execution_count": 142,
   "metadata": {},
   "outputs": [
    {
     "name": "stdout",
     "output_type": "stream",
     "text": [
      "tensor([[1, 2],\n",
      "        [4, 5],\n",
      "        [3, 3]])\n",
      "tensor([ 8, 10])\n",
      "tensor([3, 9, 6])\n",
      "tensor([3, 9, 6])\n"
     ]
    }
   ],
   "source": [
    "mat1 = torch.tensor([[1,2],[4,5],[3,3]])\n",
    "print(mat1)\n",
    "\n",
    "print(mat1.sum(axis=0))\n",
    "print(mat1.sum(axis=1))\n",
    "print(mat1.sum(axis=-1))"
   ]
  },
  {
   "cell_type": "code",
   "execution_count": 143,
   "metadata": {},
   "outputs": [
    {
     "name": "stdout",
     "output_type": "stream",
     "text": [
      "tensor([[[1, 2],\n",
      "         [4, 5],\n",
      "         [3, 6]]])\n",
      "tensor([[1, 2],\n",
      "        [4, 5],\n",
      "        [3, 6]])\n",
      "tensor([[ 8, 13]])\n",
      "tensor([[3, 9, 9]])\n"
     ]
    }
   ],
   "source": [
    "mat1 = torch.tensor([[[1,2],[4,5],[3,6]]])\n",
    "print(mat1)\n",
    "\n",
    "print(mat1.sum(axis=0))\n",
    "print(mat1.sum(axis=1))\n",
    "print(mat1.sum(axis=-1))"
   ]
  },
  {
   "cell_type": "code",
   "execution_count": 127,
   "metadata": {},
   "outputs": [],
   "source": [
    "exp_x=torch.exp(x)"
   ]
  },
  {
   "cell_type": "code",
   "execution_count": null,
   "metadata": {},
   "outputs": [],
   "source": []
  }
 ],
 "metadata": {
  "kernelspec": {
   "display_name": "Python 3.10.4 64-bit",
   "language": "python",
   "name": "python3"
  },
  "language_info": {
   "codemirror_mode": {
    "name": "ipython",
    "version": 3
   },
   "file_extension": ".py",
   "mimetype": "text/x-python",
   "name": "python",
   "nbconvert_exporter": "python",
   "pygments_lexer": "ipython3",
   "version": "3.10.4"
  },
  "orig_nbformat": 4,
  "vscode": {
   "interpreter": {
    "hash": "26de051ba29f2982a8de78e945f0abaf191376122a1563185a90213a26c5da77"
   }
  }
 },
 "nbformat": 4,
 "nbformat_minor": 2
}
