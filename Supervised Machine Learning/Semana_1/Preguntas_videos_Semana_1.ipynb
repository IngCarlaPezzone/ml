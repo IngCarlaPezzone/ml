{
 "cells": [
  {
   "cell_type": "markdown",
   "metadata": {},
   "source": [
    "# Preguntas de Videos "
   ]
  },
  {
   "cell_type": "markdown",
   "metadata": {},
   "source": [
    "## What is machine learning?\n",
    "\n",
    "### Si al programa de juego de damas de Arthur Samuel se le hubiera permitido jugar sólo 10 partidas (en lugar de decenas de miles de partidas) contra sí mismo, \n",
    "### ¿cómo habría afectado esto a su rendimiento?"
   ]
  },
  {
   "cell_type": "markdown",
   "metadata": {},
   "source": [
    "Habría mejorado\n",
    "\n",
    "\n",
    "**Habría empeorado**"
   ]
  },
  {
   "cell_type": "markdown",
   "metadata": {},
   "source": [
    "## Supervised learning part 2\n",
    "\n",
    "### El aprendizaje supervisado es cuando damos a nuestro algoritmo de aprendizaje la respuesta correcta y para cada ejemplo del que debe aprender.  \n",
    "### ¿Cuál es un ejemplo de aprendizaje supervisado?"
   ]
  },
  {
   "cell_type": "markdown",
   "metadata": {},
   "source": [
    "**El filtrado de spam.**\n",
    "\n",
    "Calcular la edad media de un grupo de clientes."
   ]
  },
  {
   "cell_type": "markdown",
   "metadata": {},
   "source": [
    "## Unsupervised learning part 2\n",
    "\n",
    "### De los siguientes ejemplos, ¿cuál abordaría utilizando un algoritmo de aprendizaje no supervisado?  (Marque todas las que correspondan)."
   ]
  },
  {
   "cell_type": "markdown",
   "metadata": {},
   "source": [
    "**Dado un conjunto de artículos de \n",
    "noticias encontrados en la web, \n",
    "agruparlos en conjuntos de artículos \n",
    "sobre las mismas historias.**\n",
    "\n",
    "\n",
    "Dado un correo electrónico etiquetado como \n",
    "spam/no spam, aprender un filtro de spam.\n",
    "\n",
    "\n",
    "**Dada una base de datos de clientes, \n",
    "descubrir automáticamente segmentos de mercado \n",
    "y agrupar a los clientes en diferentes segmentos \n",
    "de mercado.**\n",
    "\n",
    "\n",
    "### Dado un conjunto de datos de pacientes \n",
    "diagnosticados como diabéticos o no, \n",
    "aprender a clasificar a los nuevos pacientes \n",
    "como diabéticos o no."
   ]
  },
  {
   "cell_type": "markdown",
   "metadata": {},
   "source": [
    "## Linear regression model part 2\n",
    "\n",
    "<img src=\"pre_video_Linear_regression_2.png\">\n",
    "\n",
    "En el caso de la regresión lineal, el modelo se representa mediante $ f_{w,b}(x) = wx + b$ \n",
    "\n",
    " ¿Cuál de las siguientes es la variable de salida o \"objetivo\"?"
   ]
  },
  {
   "cell_type": "markdown",
   "metadata": {},
   "source": [
    "- **y**\n",
    "- x\n",
    "- w\n",
    "- $ \\hat {y} $"
   ]
  },
  {
   "cell_type": "markdown",
   "metadata": {},
   "source": [
    "## Cost function formula\n",
    "\n",
    "<img src=\"pre_video_cost_function_formula.png\">\n",
    "\n",
    "### La funcion de costo usada en la regresion Lineal es :\n",
    "\n",
    "### $ J(w,b) = \\frac{1}{2m} \\sum\\limits_{i=1}^{m} (f_{w,b}(x^{(i)}) - y^{(i)})^2J(w,b) $\n",
    " \n",
    "\n",
    "## ¿Cuáles son los parámetros del modelo que se pueden ajustar?"
   ]
  },
  {
   "cell_type": "markdown",
   "metadata": {},
   "source": [
    "- **$ {w} $ y $ {b} $**\n",
    "- $ f_{w,b}(x^{(i)}) $\n",
    "- $ {w} $ solamente ,porque debemos elegir  $ {b}=0 $\n",
    "- $\\hat{y}$ "
   ]
  },
  {
   "cell_type": "markdown",
   "metadata": {},
   "source": [
    "## Cost function intuition\n",
    "\n",
    "<img src=\"pre_video_cost_function_intuition.png\">\n",
    "\n",
    "### ¿Cuándo se ajusta el modelo a los datos relativamente bien, en comparación con otras opciones de parámetros w?"
   ]
  },
  {
   "cell_type": "markdown",
   "metadata": {},
   "source": [
    "\n",
    "- Cuando ${x}$ está en el mínimo o cerca de él.\n",
    "- **Cuando el coste ${J}$ está en o cerca de un mínimo.**\n",
    "- Cuando $f_w(x)$ está en o cerca de un mínimo para todos los valores de x en el conjunto de entrenamiento. \n",
    "- Cuando ${w}$ es cercano a cero."
   ]
  },
  {
   "cell_type": "markdown",
   "metadata": {},
   "source": [
    "## Implementing gradient descent\n",
    "\n",
    "<img src=\"pre_video_implementing_gradent_descent.png\">\n",
    "\n",
    "### El descenso gradual es un algoritmo para encontrar los valores de los parámetros w y b que minimizan la función de coste J. ¿Qué hace este enunciado de actualización? (Supongamos que $ \\alpha $  es pequeño). \n",
    "\n",
    "$ w = w - \\alpha\\frac{\\partial J(w,b)}{\\partial w}$\n",
    "∂w\n",
    "∂J(w,b)"
   ]
  },
  {
   "cell_type": "markdown",
   "metadata": {},
   "source": [
    "- **Actualiza el parámetro ${w}$ en una pequeña cantidad**\n",
    "- Comprueba si ${w}$ es igual a w - $\\alpha \\frac{\\partial J(w,b)}{\\partial w} $"
   ]
  },
  {
   "cell_type": "markdown",
   "metadata": {},
   "source": [
    "## Gradient descent intuition\n",
    "\n",
    "<img src=\"pre_video_gadient_descent_intuition.png\">\n",
    "\n",
    "### El descenso gradual es un algoritmo para encontrar los valores de los parámetros w y b que minimizan la función de coste J.\n",
    "\n",
    "$$ \\begin{align*} \\text{repetir}&\\text{ hasta la convergencia:} \\; \\lbrace \\newline\n",
    "\\;  w &= w -  \\alpha \\frac{\\partial J(w,b)}{\\partial w}  \\; \\newline\n",
    " b &= b -  \\alpha \\frac{\\partial J(w,b)}{\\partial b}  \\newline \\rbrace\n",
    "\\end{align*} $$\n",
    "\n",
    "### Supongamos que la tasa de aprendizaje $ \\alpha $ es un número positivo pequeño. Cuando $ \\frac{\\partial J(w,b)}{\\partial w} $ es un número positivo (mayor que cero) - como en el ejemplo de la parte superior de la diapositiva mostrada arriba - ¿qué sucede con ${w}$ después de un paso de actualización?"
   ]
  },
  {
   "cell_type": "markdown",
   "metadata": {},
   "source": [
    "- w aumenta\n",
    "- **w disminuye.**\n",
    "- No es posible saber si ww aumentará o disminuirá. \n",
    "- w se mantiene igual "
   ]
  }
 ],
 "metadata": {
  "kernelspec": {
   "display_name": "Python 3.10.4 64-bit",
   "language": "python",
   "name": "python3"
  },
  "language_info": {
   "codemirror_mode": {
    "name": "ipython",
    "version": 3
   },
   "file_extension": ".py",
   "mimetype": "text/x-python",
   "name": "python",
   "nbconvert_exporter": "python",
   "pygments_lexer": "ipython3",
   "version": "3.10.4"
  },
  "orig_nbformat": 4,
  "vscode": {
   "interpreter": {
    "hash": "26de051ba29f2982a8de78e945f0abaf191376122a1563185a90213a26c5da77"
   }
  }
 },
 "nbformat": 4,
 "nbformat_minor": 2
}
