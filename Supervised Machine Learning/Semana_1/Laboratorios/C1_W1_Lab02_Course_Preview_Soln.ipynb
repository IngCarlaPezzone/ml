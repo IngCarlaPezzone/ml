{
 "cells": [
  {
   "cell_type": "markdown",
   "id": "e88b730b",
   "metadata": {
    "tags": []
   },
   "source": [
    "# Ungraded Lab - Examples of Material that will be covered in this course\n",
    "Work in Progress"
   ]
  },
  {
   "cell_type": "code",
   "execution_count": null,
   "id": "ac29cc04-edc3-40e8-bbb3-47002ec4ee57",
   "metadata": {},
   "outputs": [],
   "source": []
  }
 ],
 "metadata": {
  "kernelspec": {
   "display_name": "python_conda",
   "language": "python",
   "name": "python3"
  },
  "language_info": {
   "codemirror_mode": {
    "name": "ipython",
    "version": 3
   },
   "file_extension": ".py",
   "mimetype": "text/x-python",
   "name": "python",
   "nbconvert_exporter": "python",
   "pygments_lexer": "ipython3",
   "version": "3.9.7"
  }
 },
 "nbformat": 4,
 "nbformat_minor": 5
}
