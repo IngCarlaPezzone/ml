{
 "cells": [
  {
   "cell_type": "markdown",
   "metadata": {},
   "source": [
    "# Preguntas Videos Semana 3"
   ]
  },
  {
   "cell_type": "markdown",
   "metadata": {},
   "source": [
    "## Motivations\n",
    "\n",
    "### ¿Cuál de los siguientes es un ejemplo de tarea de clasificación?\n",
    "\n",
    "\n",
    "- Estimar el peso de un gato a partir de su altura.\n",
    "- **Decidir si un animal es un gato o no es un gato.**"
   ]
  },
  {
   "cell_type": "markdown",
   "metadata": {},
   "source": [
    "## Logistic regression\n",
    "\n",
    "<img src=\"pre_video_logisticl_regression.png\">\n",
    "\n",
    "Recordemos que la función sigmoidea es $ g(z) = \\frac{1}{1+e^{-z}}$  \n",
    "Si z es un número negativo grande entonces\n",
    "\n",
    "- $g(z)$ está cerca de cero\n",
    "- $g(z)$ está cerca de uno negativo (-1) "
   ]
  },
  {
   "cell_type": "markdown",
   "metadata": {},
   "source": []
  }
 ],
 "metadata": {
  "kernelspec": {
   "display_name": "Python 3.10.4 64-bit",
   "language": "python",
   "name": "python3"
  },
  "language_info": {
   "name": "python",
   "version": "3.10.4"
  },
  "orig_nbformat": 4,
  "vscode": {
   "interpreter": {
    "hash": "26de051ba29f2982a8de78e945f0abaf191376122a1563185a90213a26c5da77"
   }
  }
 },
 "nbformat": 4,
 "nbformat_minor": 2
}
