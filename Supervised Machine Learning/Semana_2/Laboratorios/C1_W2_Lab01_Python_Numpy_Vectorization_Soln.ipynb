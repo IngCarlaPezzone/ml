{
 "cells": [
  {
   "cell_type": "markdown",
   "metadata": {},
   "source": [
    "# Laboratorio opcional: Python, NumPy y Vectorización\n",
    "Una breve introducción a algunas de las técnicas de cálculo científico utilizadas en este curso. En particular el paquete de computación científica NumPy y su uso con python.\n",
    "\n",
    "<details>\n",
    "   <summary><font size=\"2\" color=\"green\"><b>Texto original</b></font></summary>\n",
    "\n",
    "# Optional Lab: Python, NumPy and Vectorization\n",
    "A brief introduction to some of the scientific computing used in this course. In particular the NumPy scientific computing package and its use with python.\n",
    "</details>\n",
    "\n",
    "\n",
    "# Outline\n",
    "- [&nbsp;&nbsp;1.1 Goals](#toc_40015_1.1)\n",
    "- [&nbsp;&nbsp;1.2 Useful References](#toc_40015_1.2)\n",
    "- [2 Python and NumPy <a name='Python and NumPy'></a>](#toc_40015_2)\n",
    "- [3 Vectors](#toc_40015_3)\n",
    "- [&nbsp;&nbsp;3.1 Abstract](#toc_40015_3.1)\n",
    "- [&nbsp;&nbsp;3.2 NumPy Arrays](#toc_40015_3.2)\n",
    "- [&nbsp;&nbsp;3.3 Vector Creation](#toc_40015_3.3)\n",
    "- [&nbsp;&nbsp;3.4 Operations on Vectors](#toc_40015_3.4)\n",
    "- [4 Matrices](#toc_40015_4)\n",
    "- [&nbsp;&nbsp;4.1 Abstract](#toc_40015_4.1)\n",
    "- [&nbsp;&nbsp;4.2 NumPy Arrays](#toc_40015_4.2)\n",
    "- [&nbsp;&nbsp;4.3 Matrix Creation](#toc_40015_4.3)\n",
    "- [&nbsp;&nbsp;4.4 Operations on Matrices](#toc_40015_4.4)\n"
   ]
  },
  {
   "cell_type": "code",
   "execution_count": 2,
   "metadata": {},
   "outputs": [],
   "source": [
    "import numpy as np    # it is an unofficial standard to use np for numpy\n",
    "import time"
   ]
  },
  {
   "cell_type": "markdown",
   "metadata": {},
   "source": [
    "<a name=\"toc_40015_1.1\"></a>\n",
    "## 1.1 Objetivos\n",
    "En este laboratorio, usted:\n",
    "- Revisar las características de NumPy y Python que se utilizan en el Curso 1\n",
    "\n",
    "<details>\n",
    "   <summary><font size=\"2\" color=\"green\"><b>Texto original</b></font></summary>\n",
    "## 1.1 Goals\n",
    "In this lab, you will:\n",
    "- Review the features of NumPy and Python that are used in Course 1\n",
    "</details>"
   ]
  },
  {
   "cell_type": "markdown",
   "metadata": {},
   "source": [
    "<a name=\"toc_40015_1.2\"></a>\n",
    "## 1.2 Referencias útiles\n",
    "- Documentación de NumPy incluyendo una introducción básica: [NumPy.org](https://NumPy.org/doc/stable/)\n",
    "- Un tema de características desafiantes: [NumPy Broadcasting](https://NumPy.org/doc/stable/user/basics.broadcasting.html)\n",
    "\n",
    "<details>\n",
    "   <summary><font size=\"2\" color=\"green\"><b>Texto original</b></font></summary>\n",
    "## 1.2 Useful References\n",
    "- NumPy Documentation including a basic introduction: [NumPy.org](https://NumPy.org/doc/stable/)\n",
    "- A challenging feature topic: [NumPy Broadcasting](https://NumPy.org/doc/stable/user/basics.broadcasting.html)\n",
    "</details>"
   ]
  },
  {
   "cell_type": "markdown",
   "metadata": {},
   "source": [
    "<a name=\"toc_40015_2\"></a>\n",
    "# 2 Python y NumPy <a name='Python and NumPy'></a>\n",
    "Python es el lenguaje de programación que utilizaremos en este curso. Tiene un conjunto de tipos de datos numéricos y operaciones aritméticas. NumPy es una biblioteca que amplía las capacidades básicas de python para añadir un conjunto de datos más rico que incluye más tipos numéricos, vectores, matrices y muchas funciones matriciales. NumPy y python trabajan juntos sin problemas. Los operadores aritméticos de Python funcionan con los tipos de datos de NumPy y muchas funciones de NumPy aceptan los tipos de datos de Python.\n",
    "\n",
    "<details>\n",
    "   <summary><font size=\"2\" color=\"green\"><b>Texto original</b></font></summary>\n",
    "\n",
    "# 2 Python and NumPy <a name='Python and NumPy'></a>\n",
    "Python is the programming language we will be using in this course. It has a set of numeric data types and arithmetic operations. NumPy is a library that extends the base capabilities of python to add a richer data set including more numeric types, vectors, matrices, and many matrix functions. NumPy and python  work together fairly seamlessly. Python arithmetic operators work on NumPy data types and many NumPy functions will accept python data types.\n",
    "</details>\n"
   ]
  },
  {
   "cell_type": "markdown",
   "metadata": {},
   "source": [
    "<a name=\"toc_40015_3\"></a>\n",
    "# 3 Vectores\n",
    "<a name=\"toc_40015_3.1\"></a>\n",
    "## 3.1 Abstract\n",
    "<img align=\"right\" src=\"./images/C1_W2_Lab04_Vectors.PNG\" style=\"width:340px;\" >Los vectores, tal y como los utilizarás en este curso, son matrices ordenadas de números. En la notación, los vectores se denotan con letras minúsculas en negrita como $\\mathbf{x}$.  Los elementos de un vector son todos del mismo tipo. Un vector no contiene, por ejemplo, tanto caracteres como números. El número de elementos de la matriz suele denominarse *dimensión*, aunque los matemáticos prefieren *rango*. El vector mostrado tiene una dimensión de $n$. Los elementos de un vector pueden ser referenciados con un índice. En entornos matemáticos, los índices suelen ir de 1 a n. En informática y en estos laboratorios, la indexación suele ir de 0 a n-1.  En la notación, los elementos de un vector, cuando se hace referencia de forma individual indicará el índice en un subíndice, por ejemplo, el $0^{th}$ elemento, del vector $\\mathbf{x}$ es $x_0$. Nota, la x no está en negrita en este caso.\n",
    "\n",
    "<details>\n",
    "   <summary><font size=\"2\" color=\"green\"><b>Texto original</b></font></summary>\n",
    "Vectors, as you will use them in this course, are ordered arrays of numbers. In notation, vectors are denoted with lower case bold letters such as $\\mathbf{x}$.  The elements of a vector are all the same type. A vector does not, for example, contain both characters and numbers. The number of elements in the array is often referred to as the *dimension* though mathematicians may prefer *rank*. The vector shown has a dimension of $n$. The elements of a vector can be referenced with an index. In math settings, indexes typically run from 1 to n. In computer science and these labs, indexing will typically run from 0 to n-1.  In notation, elements of a vector, when referenced individually will indicate the index in a subscript, for example, the $0^{th}$ element, of the vector $\\mathbf{x}$ is $x_0$. Note, the x is not bold in this case.\n"
   ]
  },
  {
   "cell_type": "markdown",
   "metadata": {},
   "source": [
    "<a name=\"toc_40015_3.2\"></a>\n",
    "## 3.2 NumPy Arrays\n",
    "La estructura de datos básica de NumPy es un *array* indexable y n-dimensional que contiene elementos del mismo tipo (`dtype`). De inmediato, puedes notar que hemos sobrecargado el término `dimensión`. Antes era el número de elementos del vector, aquí la dimensión se refiere al número de índices de un array. Un array unidimensional o 1-D tiene un índice. En el curso 1, representaremos los vectores como arrays NumPy 1-D. \n",
    "\n",
    " - Array 1-D, forma (n,): n elementos indexados [0] hasta [n-1]\n",
    " \n",
    "<details>\n",
    "   <summary><font size=\"2\" color=\"green\"><b>Texto original</b></font></summary>\n",
    "   \n",
    "NumPy's basic data structure is an indexable, n-dimensional *array* containing elements of the same type (`dtype`). Right away, you may notice we have overloaded the term 'dimension'. Above, it was the number of elements in the vector, here, dimension refers to the number of indexes of an array. A one-dimensional or 1-D array has one index. In Course 1, we will represent vectors as NumPy 1-D arrays. \n",
    "\n",
    " - 1-D array, shape (n,): n elements indexed [0] through [n-1]\n",
    " "
   ]
  },
  {
   "cell_type": "markdown",
   "metadata": {},
   "source": [
    "<a name=\"toc_40015_3.3\"></a>\n",
    "## 3.3 Vector Creation\n"
   ]
  },
  {
   "cell_type": "markdown",
   "metadata": {},
   "source": [
    "Las rutinas de creación de datos en NumPy suelen tener un primer parámetro que es la forma del objeto. Esto puede ser un valor único para un resultado 1-D o una tupla (n,m,...) que especifica la forma del resultado. A continuación se muestran ejemplos de creación de vectores utilizando estas rutinas.\n",
    "\n",
    "<details>\n",
    "   <summary><font size=\"2\" color=\"green\"><b>Texto original</b></font></summary>\n",
    "\n",
    "Data creation routines in NumPy will generally have a first parameter which is the shape of the object. This can either be a single value for a 1-D result or a tuple (n,m,...) specifying the shape of the result. Below are examples of creating vectors using these routines."
   ]
  },
  {
   "cell_type": "code",
   "execution_count": 3,
   "metadata": {},
   "outputs": [
    {
     "name": "stdout",
     "output_type": "stream",
     "text": [
      "np.zeros(4) :   a = [0. 0. 0. 0.], a shape = (4,), a data type = float64\n",
      "\n",
      "np.zeros(4,) :  a = [0. 0. 0. 0.], a shape = (4,), a data type = float64\n",
      "\n",
      "np.random.random_sample(4): a = [0.01611391 0.85981524 0.05969802 0.93603781], a shape = (4,), a data type = float64\n"
     ]
    }
   ],
   "source": [
    "# Rutinas NumPy que asignan memoria y llenan arrays con valor Rutinas NumPy que asignan memoria y llenan arrays con valor\n",
    "\n",
    "a = np.zeros(4)              \n",
    "print(f\"np.zeros(4) :   a = {a}, a shape = {a.shape}, a data type = {a.dtype}\")\n",
    "print()\n",
    "a = np.zeros((4,))\n",
    "print(f\"np.zeros(4,) :  a = {a}, a shape = {a.shape}, a data type = {a.dtype}\")\n",
    "print()\n",
    "a = np.random.random_sample(4)\n",
    "print(f\"np.random.random_sample(4): a = {a}, a shape = {a.shape}, a data type = {a.dtype}\")"
   ]
  },
  {
   "cell_type": "markdown",
   "metadata": {},
   "source": [
    "Some data creation routines do not take a shape tuple:  \n",
    "Algunas rutinas de creación de datos no toman una tupla de forma:"
   ]
  },
  {
   "cell_type": "code",
   "execution_count": 4,
   "metadata": {},
   "outputs": [
    {
     "name": "stdout",
     "output_type": "stream",
     "text": [
      "np.arange(4.):     a = [0. 1. 2. 3.], a shape = (4,), a data type = float64\n",
      "np.random.rand(4): a = [0.63352153 0.11620574 0.76641402 0.79332267], a shape = (4,), a data type = float64\n"
     ]
    }
   ],
   "source": [
    "# Rutinas NumPy que asignan memoria y llenan arrays con valores pero no aceptan la forma como argumento de entrada\n",
    "a = np.arange(4.)\n",
    "print(f\"np.arange(4.):     a = {a}, a shape = {a.shape}, a data type = {a.dtype}\")\n",
    "a = np.random.rand(4)\n",
    "print(f\"np.random.rand(4): a = {a}, a shape = {a.shape}, a data type = {a.dtype}\")"
   ]
  },
  {
   "cell_type": "markdown",
   "metadata": {},
   "source": [
    "values can be specified manually as well. "
   ]
  },
  {
   "cell_type": "code",
   "execution_count": 5,
   "metadata": {},
   "outputs": [
    {
     "name": "stdout",
     "output_type": "stream",
     "text": [
      "np.array([5,4,3,2]):  a = [5 4 3 2],     a shape = (4,), a data type = int32\n",
      "np.array([5.,4,3,2]): a = [5. 4. 3. 2.], a shape = (4,), a data type = float64\n"
     ]
    }
   ],
   "source": [
    "# Rutinas NumPy que asignan memoria y la llenan con valores especificados por el usuario\n",
    "a = np.array([5,4,3,2]);  print(f\"np.array([5,4,3,2]):  a = {a},     a shape = {a.shape}, a data type = {a.dtype}\")\n",
    "a = np.array([5.,4,3,2]); print(f\"np.array([5.,4,3,2]): a = {a}, a shape = {a.shape}, a data type = {a.dtype}\")"
   ]
  },
  {
   "cell_type": "markdown",
   "metadata": {},
   "source": [
    "Todos ellos han creado un vector unidimensional `a` con cuatro elementos. La función \"a.shape\" devuelve las dimensiones. Aquí vemos a.shape = `(4,)` indicando un array unidimensional con 4 elementos.\n",
    "\n",
    "<details>\n",
    "   <summary><font size=\"2\" color=\"green\"><b>Texto original</b></font></summary>\n",
    "\n",
    "These have all created a one-dimensional vector  `a` with four elements. `a.shape` returns the dimensions. Here we see a.shape = `(4,)` indicating a 1-d array with 4 elements.  "
   ]
  },
  {
   "cell_type": "markdown",
   "metadata": {},
   "source": [
    "<a name=\"toc_40015_3.4\"></a>\n",
    "## 3.4 Operaciones con vectores\n",
    "Vamos a explorar algunas operaciones con vectores.\n",
    "<a name=\"toc_40015_3.4.1\"></a>\n",
    "### 3.4.1 Indexación\n",
    "Se puede acceder a los elementos de los vectores mediante la indexación y el corte. NumPy proporciona un conjunto muy completo de capacidades de indexación y corte. Aquí exploraremos sólo lo básico necesario para el curso. Consulta [Slicing and Indexing](https://NumPy.org/doc/stable/reference/arrays.indexing.html) para más detalles.  \n",
    "**Indexar** significa referirse a *un elemento* de un array por su posición dentro del array.  \n",
    "**Slicing** (rebanar) significa obtener un *subconjunto* de elementos de un array basado en sus índices.  \n",
    "NumPy comienza a indexar en cero, por lo que el tercer elemento de un vector $\\mathbf{a}$ es `a[2]`.\n",
    "\n",
    "<details>\n",
    "   <summary><font size=\"2\" color=\"green\"><b>Texto original</b></font></summary>\n",
    "\n",
    "## 3.4 Operations on Vectors\n",
    "Let's explore some operations using vectors.\n",
    "<a name=\"toc_40015_3.4.1\"></a>\n",
    "### 3.4.1 Indexing\n",
    "Elements of vectors can be accessed via indexing and slicing. NumPy provides a very complete set of indexing and slicing capabilities. We will explore only the basics needed for the course here. Reference [Slicing and Indexing](https://NumPy.org/doc/stable/reference/arrays.indexing.html) for more details.  \n",
    "**Indexing** means referring to *an element* of an array by its position within the array.  \n",
    "**Slicing** means getting a *subset* of elements from an array based on their indices.  \n",
    "NumPy starts indexing at zero so the 3rd element of an vector $\\mathbf{a}$ is `a[2]`."
   ]
  },
  {
   "cell_type": "code",
   "execution_count": 6,
   "metadata": {},
   "outputs": [
    {
     "name": "stdout",
     "output_type": "stream",
     "text": [
      "[0 1 2 3 4 5 6 7 8 9]\n",
      "a[2].shape: () a[2]  = 2, Accessing an element returns a scalar\n",
      "a[-1] = 9\n",
      "The error message you'll see is:\n",
      "index 10 is out of bounds for axis 0 with size 10\n"
     ]
    }
   ],
   "source": [
    "#vector indexing operations on 1-D vectors\n",
    "# operaciones de indexación de vectores en vectores 1-D\n",
    "a = np.arange(10)\n",
    "print(a)\n",
    "\n",
    "#access an element\n",
    "print(f\"a[2].shape: {a[2].shape} a[2]  = {a[2]}, Accessing an element returns a scalar\")\n",
    "\n",
    "# access the last element, negative indexes count from the end\n",
    "print(f\"a[-1] = {a[-1]}\")\n",
    "\n",
    "# indexs must be within the range of the vector or they will produce and error\n",
    "# los índices deben estar dentro del rango del vector o producirán un error\n",
    "try:\n",
    "    c = a[10]\n",
    "except Exception as e:\n",
    "    print(\"The error message you'll see is:\")\n",
    "    print(e)"
   ]
  },
  {
   "cell_type": "markdown",
   "metadata": {},
   "source": [
    "<a name=\"toc_40015_3.4.2\"></a>\n",
    "### 3.4.2 Slicing (Rebanar)\n",
    "La segmentación crea una matriz de índices utilizando un conjunto de tres valores (`start:stop:step`). También es válido un subconjunto de valores. Su uso se explica mejor con un ejemplo:\n",
    "\n",
    "<details>\n",
    "   <summary><font size=\"2\" color=\"green\"><b>Texto original</b></font></summary>\n",
    "\n",
    "### 3.4.2 Slicing\n",
    "Slicing creates an array of indices using a set of three values (`start:stop:step`). A subset of values is also valid. Its use is best explained by example:"
   ]
  },
  {
   "cell_type": "code",
   "execution_count": 7,
   "metadata": {},
   "outputs": [
    {
     "name": "stdout",
     "output_type": "stream",
     "text": [
      "a        = [0 1 2 3 4 5 6 7 8 9]\n",
      "a[2:7:1] =  [2 3 4 5 6]\n",
      "a[2:7:2] =  [2 4 6]\n",
      "a[3:]    =  [3 4 5 6 7 8 9]\n",
      "a[:3]    =  [0 1 2]\n",
      "a[:]     =  [0 1 2 3 4 5 6 7 8 9]\n"
     ]
    }
   ],
   "source": [
    "#vector slicing operations\n",
    "a = np.arange(10)\n",
    "print(f\"a        = {a}\")\n",
    "\n",
    "#access 5 consecutive elements (start:stop:step)\n",
    "c = a[2:7:1];     print(\"a[2:7:1] = \", c)\n",
    "\n",
    "# access 3 elements separated by two \n",
    "c = a[2:7:2];     print(\"a[2:7:2] = \", c)\n",
    "\n",
    "# access all elements index 3 and above\n",
    "c = a[3:];        print(\"a[3:]    = \", c)\n",
    "\n",
    "# access all elements below index 3\n",
    "c = a[:3];        print(\"a[:3]    = \", c)\n",
    "\n",
    "# access all elements\n",
    "c = a[:];         print(\"a[:]     = \", c)"
   ]
  },
  {
   "cell_type": "markdown",
   "metadata": {},
   "source": [
    "<a name=\"toc_40015_3.4.3\"></a>\n",
    "### 3.4.3 Operaciones con un solo vector\n",
    "Hay una serie de operaciones útiles que implican operaciones sobre un solo vector.\n",
    "<details>\n",
    "   <summary><font size=\"2\" color=\"green\"><b>Texto original</b></font></summary>\n",
    "\n",
    "### 3.4.3 Single vector operations\n",
    "There are a number of useful operations that involve operations on a single vector."
   ]
  },
  {
   "cell_type": "code",
   "execution_count": 8,
   "metadata": {},
   "outputs": [
    {
     "name": "stdout",
     "output_type": "stream",
     "text": [
      "a             : [1 2 3 4]\n",
      "b = -a        : [-1 -2 -3 -4]\n",
      "b = np.sum(a) : 10\n",
      "b = np.mean(a): 2.5\n",
      "b = a**2      : [ 1  4  9 16]\n"
     ]
    }
   ],
   "source": [
    "a = np.array([1,2,3,4])\n",
    "print(f\"a             : {a}\")\n",
    "# negate elements of a\n",
    "b = -a \n",
    "print(f\"b = -a        : {b}\")\n",
    "\n",
    "# sum all elements of a, returns a scalar\n",
    "b = np.sum(a) \n",
    "print(f\"b = np.sum(a) : {b}\")\n",
    "\n",
    "b = np.mean(a)\n",
    "print(f\"b = np.mean(a): {b}\")\n",
    "\n",
    "b = a**2\n",
    "print(f\"b = a**2      : {b}\")"
   ]
  },
  {
   "cell_type": "markdown",
   "metadata": {},
   "source": [
    "<a name=\"toc_40015_3.4.4\"></a>\n",
    "### 3.4.4 Vector Operaciones con elementos del vector\n",
    "La mayoría de las operaciones aritméticas, lógicas y de comparación de NumPy se aplican también a los vectores. Estos operadores funcionan elemento por elemento. Por ejemplo \n",
    "\n",
    "\n",
    "<details>\n",
    "   <summary><font size=\"2\" color=\"green\"><b>Texto original</b></font></summary>\n",
    "\n",
    "### 3.4.4 Vector Vector element-wise operations\n",
    "Most of the NumPy arithmetic, logical and comparison operations apply to vectors as well. These operators work on an element-by-element basis. For example \n",
    "</details>\n",
    "\n",
    "$$ \\mathbf{a} + \\mathbf{b} = \\sum_{i=0}^{n-1} a_i + b_i $$"
   ]
  },
  {
   "cell_type": "code",
   "execution_count": 9,
   "metadata": {},
   "outputs": [
    {
     "name": "stdout",
     "output_type": "stream",
     "text": [
      "Binary operators work element wise: [0 0 6 8]\n"
     ]
    }
   ],
   "source": [
    "a = np.array([ 1, 2, 3, 4])\n",
    "b = np.array([-1,-2, 3, 4])\n",
    "print(f\"Binary operators work element wise: {a + b}\")"
   ]
  },
  {
   "cell_type": "markdown",
   "metadata": {},
   "source": [
    "Por supuesto, para que esto funcione correctamente, los vectores deben tener el mismo tamaño:\n",
    "\n",
    "<details>\n",
    "   <summary><font size=\"2\" color=\"green\"><b>Texto original</b></font></summary>\n",
    "\n",
    "Of course, for this to work correctly, the vectors must be of the same size: \n",
    "</details>"
   ]
  },
  {
   "cell_type": "code",
   "execution_count": 10,
   "metadata": {},
   "outputs": [
    {
     "name": "stdout",
     "output_type": "stream",
     "text": [
      "The error message you'll see is:\n",
      "operands could not be broadcast together with shapes (4,) (2,) \n"
     ]
    }
   ],
   "source": [
    "#try a mismatched vector operation\n",
    "c = np.array([1, 2])\n",
    "try:\n",
    "    d = a + c\n",
    "except Exception as e:\n",
    "    print(\"The error message you'll see is:\")\n",
    "    print(e)"
   ]
  },
  {
   "cell_type": "markdown",
   "metadata": {},
   "source": [
    "<a name=\"toc_40015_3.4.5\"></a>\n",
    "### 3.4.5 Operaciones con vectores escalares\n",
    "Los vectores pueden ser \"escalados\" por valores escalares. Un valor escalar es simplemente un número. El escalar multiplica todos los elementos del vector.\n",
    "<details>\n",
    "   <summary><font size=\"2\" color=\"green\"><b>Texto original</b></font></summary>\n",
    "   \n",
    "### 3.4.5 Scalar Vector operations\n",
    "Vectors can be 'scaled' by scalar values. A scalar value is just a number. The scalar multiplies all the elements of the vector."
   ]
  },
  {
   "cell_type": "code",
   "execution_count": 12,
   "metadata": {},
   "outputs": [
    {
     "name": "stdout",
     "output_type": "stream",
     "text": [
      "b = 5 * a : [ 5 10 15 20]\n"
     ]
    }
   ],
   "source": [
    "a = np.array([1, 2, 3, 4])\n",
    "\n",
    "# multiply a by a scalar\n",
    "b = 5 * a \n",
    "print(f\"b = 5 * a : {b}\")"
   ]
  },
  {
   "cell_type": "markdown",
   "metadata": {},
   "source": [
    "<a name=\"toc_40015_3.4.6\"></a>\n",
    "### 3.4.6 Producto punto vectorial\n",
    "El producto punto es un pilar del Álgebra Lineal y de NumPy. Esta es una operación utilizada ampliamente en este curso y debe ser bien entendida. El producto punto se muestra a continuación.\n",
    "<details>\n",
    "   <summary><font size=\"2\" color=\"green\"><b>Texto original</b></font></summary>\n",
    "\n",
    "### 3.4.6 Vector Vector dot product\n",
    "The dot product is a mainstay of Linear Algebra and NumPy. This is an operation used extensively in this course and should be well understood. The dot product is shown below."
   ]
  },
  {
   "cell_type": "markdown",
   "metadata": {},
   "source": [
    "<img src=\"./images/C1_W2_Lab04_dot_notrans.gif\" width=800> "
   ]
  },
  {
   "cell_type": "markdown",
   "metadata": {},
   "source": [
    "El producto punto multiplica los valores de dos vectores de forma elemental y luego suma el resultado.\n",
    "El producto punto vectorial requiere que las dimensiones de los dos vectores sean las mismas. \n",
    "\n",
    "<details>\n",
    "   <summary><font size=\"2\" color=\"green\"><b>Texto original</b></font></summary>\n",
    "The dot product multiplies the values in two vectors element-wise and then sums the result.\n",
    "Vector dot product requires the dimensions of the two vectors to be the same. "
   ]
  },
  {
   "cell_type": "markdown",
   "metadata": {},
   "source": [
    "Vamos a implementar nuestra propia versión del producto punto a continuación:\n",
    "\n",
    "**Utilizando un bucle for**, implementa una función que devuelva el producto punto de dos vectores. La función a devolver dadas las entradas $a$ y $b$:\n",
    "$$ x = \\sum_{i=0}^{n-1} a_i b_i $$\n",
    "Supongamos que tanto `a` como `b` tienen la misma forma.\n",
    "\n",
    "\n",
    "<details>\n",
    "   <summary><font size=\"2\" color=\"green\"><b>Texto original</b></font></summary>\n",
    "\n",
    "Let's implement our own version of the dot product below:\n",
    "\n",
    "**Using a for loop**, implement a function which returns the dot product of two vectors. The function to return given inputs $a$ and $b$:\n",
    "$$ x = \\sum_{i=0}^{n-1} a_i b_i $$\n",
    "Assume both `a` and `b` are the same shape."
   ]
  },
  {
   "cell_type": "code",
   "execution_count": 13,
   "metadata": {},
   "outputs": [],
   "source": [
    "def my_dot(a, b): \n",
    "    \"\"\"\n",
    "   Compute the dot product of two vectors\n",
    " \n",
    "    Args:\n",
    "      a (ndarray (n,)):  input vector \n",
    "      b (ndarray (n,)):  input vector with same dimension as a\n",
    "    \n",
    "    Returns:\n",
    "      x (scalar): \n",
    "    \"\"\"\n",
    "    x=0\n",
    "    for i in range(a.shape[0]):\n",
    "        x = x + a[i] * b[i]\n",
    "    return x"
   ]
  },
  {
   "cell_type": "code",
   "execution_count": 14,
   "metadata": {},
   "outputs": [
    {
     "name": "stdout",
     "output_type": "stream",
     "text": [
      "my_dot(a, b) = 24\n"
     ]
    }
   ],
   "source": [
    "# test 1-D\n",
    "a = np.array([1, 2, 3, 4])\n",
    "b = np.array([-1, 4, 3, 2])\n",
    "print(f\"my_dot(a, b) = {my_dot(a, b)}\")"
   ]
  },
  {
   "cell_type": "markdown",
   "metadata": {},
   "source": [
    "Tenga en cuenta que se espera que el producto punto devuelva un valor escalar. \n",
    "\n",
    "Intentemos las mismas operaciones utilizando `np.dot`.  \n",
    "\n",
    "\n",
    "<details>\n",
    "   <summary><font size=\"2\" color=\"green\"><b>Texto original</b></font></summary>\n",
    "\n",
    "Note, the dot product is expected to return a scalar value. \n",
    "\n",
    "Let's try the same operations using `np.dot`.  "
   ]
  },
  {
   "cell_type": "code",
   "execution_count": 15,
   "metadata": {},
   "outputs": [
    {
     "name": "stdout",
     "output_type": "stream",
     "text": [
      "NumPy 1-D np.dot(a, b) = 24, np.dot(a, b).shape = () \n",
      "NumPy 1-D np.dot(b, a) = 24, np.dot(a, b).shape = () \n"
     ]
    }
   ],
   "source": [
    "# test 1-D\n",
    "a = np.array([1, 2, 3, 4])\n",
    "b = np.array([-1, 4, 3, 2])\n",
    "c = np.dot(a, b)\n",
    "print(f\"NumPy 1-D np.dot(a, b) = {c}, np.dot(a, b).shape = {c.shape} \") \n",
    "c = np.dot(b, a)\n",
    "print(f\"NumPy 1-D np.dot(b, a) = {c}, np.dot(a, b).shape = {c.shape} \")\n"
   ]
  },
  {
   "cell_type": "markdown",
   "metadata": {},
   "source": [
    "Arriba, observará que los resultados para 1-D coinciden con nuestra implementación.\n",
    "\n",
    "<details>\n",
    "   <summary><font size=\"2\" color=\"green\"><b>Texto original</b></font></summary>\n",
    "Above, you will note that the results for 1-D matched our implementation."
   ]
  },
  {
   "cell_type": "markdown",
   "metadata": {},
   "source": [
    "<a name=\"toc_40015_3.4.7\"></a>\n",
    "\n",
    "### 3.4.7 La necesidad de velocidad: vector vs bucle for\n",
    "Utilizamos la biblioteca NumPy porque mejora la eficiencia de la memoria de velocidad. Hagamos una demostración:\n",
    "\n",
    "<details>\n",
    "   <summary><font size=\"2\" color=\"green\"><b>Texto original</b></font></summary>\n",
    "### 3.4.7 The Need for Speed: vector vs for loop\n",
    "We utilized the NumPy  library because it improves speed memory efficiency. Let's demonstrate:\n",
    "\n"
   ]
  },
  {
   "cell_type": "code",
   "execution_count": 16,
   "metadata": {},
   "outputs": [
    {
     "name": "stdout",
     "output_type": "stream",
     "text": [
      "np.dot(a, b) =  2501072.5817\n",
      "Vectorized version duration: 18.0027 ms \n",
      "my_dot(a, b) =  2501072.5817\n",
      "loop version duration: 21181.3991 ms \n"
     ]
    }
   ],
   "source": [
    "np.random.seed(1)\n",
    "a = np.random.rand(10000000)  # very large arrays\n",
    "b = np.random.rand(10000000)\n",
    "\n",
    "tic = time.time()  # capture start time\n",
    "c = np.dot(a, b)\n",
    "toc = time.time()  # capture end time\n",
    "\n",
    "print(f\"np.dot(a, b) =  {c:.4f}\")\n",
    "print(f\"Vectorized version duration: {1000*(toc-tic):.4f} ms \")\n",
    "\n",
    "tic = time.time()  # capture start time\n",
    "c = my_dot(a,b)\n",
    "toc = time.time()  # capture end time\n",
    "\n",
    "print(f\"my_dot(a, b) =  {c:.4f}\")\n",
    "print(f\"loop version duration: {1000*(toc-tic):.4f} ms \")\n",
    "\n",
    "del(a);del(b)  #remove these big arrays from memory"
   ]
  },
  {
   "cell_type": "markdown",
   "metadata": {},
   "source": [
    "Así, la vectorización proporciona un gran aumento de velocidad en este ejemplo. Esto se debe a que NumPy hace un mejor uso del paralelismo de datos disponible en el hardware subyacente. Las GPUs y las CPUs modernas implementan pipelines de instrucción única, datos múltiples (SIMD) que permiten realizar múltiples operaciones en paralelo. Esto es fundamental en el aprendizaje automático, donde los conjuntos de datos suelen ser muy grandes.\n",
    "\n",
    "<details>\n",
    "   <summary><font size=\"2\" color=\"green\"><b>Texto original</b></font></summary>\n",
    "So, vectorization provides a large speed up in this example. This is because NumPy makes better use of available data parallelism in the underlying hardware. GPU's and modern CPU's implement Single Instruction, Multiple Data (SIMD) pipelines allowing multiple operations to be issued in parallel. This is critical in Machine Learning where the data sets are often very large."
   ]
  },
  {
   "cell_type": "markdown",
   "metadata": {},
   "source": [
    "<a name=\"toc_12345_3.4.8\"></a>\n",
    "\n",
    "### 3.4.8 Vector Operaciones vectoriales en el curso 1\n",
    "Vector Las operaciones vectoriales aparecerán con frecuencia en el curso 1. He aquí la razón:\n",
    "- En adelante, nuestros ejemplos se almacenarán en un array, `X_train` de dimensión (m,n). Esto se explicará más en el contexto, pero aquí es importante notar que es un array o matriz de 2 dimensiones (ver la siguiente sección sobre matrices).\n",
    "- `w` será un vector unidimensional de forma (n,).\n",
    "- realizaremos las operaciones haciendo un bucle a través de los ejemplos, extrayendo cada ejemplo para trabajar individualmente mediante la indexación de X. Por ejemplo:`X[i]`\n",
    "- `X[i]` devuelve un valor de forma (n,), un vector unidimensional. Por lo tanto, las operaciones con `X[i]` suelen ser vectoriales.  \n",
    "\n",
    "Esta es una explicación algo larga, pero alinear y entender las formas de tus operandos es importante cuando se realizan operaciones vectoriales.\n",
    "\n",
    "<details>\n",
    "   <summary><font size=\"2\" color=\"green\"><b>Texto original</b></font></summary>\n",
    "\n",
    "\n",
    "### 3.4.8 Vector Vector operations in Course 1\n",
    "Vector Vector operations will appear frequently in course 1. Here is why:\n",
    "- Going forward, our examples will be stored in an array, `X_train` of dimension (m,n). This will be explained more in context, but here it is important to note it is a 2 Dimensional array or matrix (see next section on matrices).\n",
    "- `w` will be a 1-dimensional vector of shape (n,).\n",
    "- we will perform operations by looping through the examples, extracting each example to work on individually by indexing X. For example:`X[i]`\n",
    "- `X[i]` returns a value of shape (n,), a 1-dimensional vector. Consequently, operations involving `X[i]` are often vector-vector.  \n",
    "\n",
    "That is a somewhat lengthy explanation, but aligning and understanding the shapes of your operands is important when performing vector operations."
   ]
  },
  {
   "cell_type": "code",
   "execution_count": 17,
   "metadata": {},
   "outputs": [
    {
     "name": "stdout",
     "output_type": "stream",
     "text": [
      "X[1] has shape (1,)\n",
      "w has shape (1,)\n",
      "c has shape ()\n"
     ]
    }
   ],
   "source": [
    "# show common Course 1 example\n",
    "X = np.array([[1],[2],[3],[4]])\n",
    "w = np.array([2])\n",
    "c = np.dot(X[1], w)\n",
    "\n",
    "print(f\"X[1] has shape {X[1].shape}\")\n",
    "print(f\"w has shape {w.shape}\")\n",
    "print(f\"c has shape {c.shape}\")"
   ]
  },
  {
   "cell_type": "markdown",
   "metadata": {},
   "source": [
    "<a name=\"toc_40015_4\"></a>\n",
    "# 4 Matrices\n"
   ]
  },
  {
   "cell_type": "markdown",
   "metadata": {},
   "source": [
    "<a name=\"toc_40015_4.1\"></a>\n",
    "\n",
    "## 4.1 Resumen\n",
    "Las matrices, son matrices bidimensionales. Los elementos de una matriz son todos del mismo tipo. En la notación, las matrices se denotan con letra mayúscula y negrita, como $\\mathbf{X}$. En este y otros laboratorios, `m` suele ser el número de filas y `n` el número de columnas. Los elementos de una matriz pueden ser referenciados con un índice bidimensional. En entornos matemáticos, los números del índice suelen ir de 1 a n. En informática y en estos laboratorios, la indexación irá de 0 a n-1.\n",
    "\n",
    "\n",
    "<details>\n",
    "   <summary><font size=\"2\" color=\"green\"><b>Texto original</b></font></summary>\n",
    "\n",
    "## 4.1 Abstract\n",
    "Matrices, are two dimensional arrays. The elements of a matrix are all of the same type. In notation, matrices are denoted with capitol, bold letter such as $\\mathbf{X}$. In this and other labs, `m` is often the number of rows and `n` the number of columns. The elements of a matrix can be referenced with a two dimensional index. In math settings, numbers in the index typically run from 1 to n. In computer science and these labs, indexing will run from 0 to n-1.  \n",
    "</details>\n",
    "\n",
    "\n",
    "<figure>\n",
    "    <center> <img src=\"./images/C1_W2_Lab04_Matrices.PNG\"  alt='missing'  width=900><center/>\n",
    "    <figcaption> Generic Matrix Notation, 1st index is row, 2nd is column </figcaption>\n",
    "<figure/>"
   ]
  },
  {
   "cell_type": "markdown",
   "metadata": {},
   "source": [
    "<a name=\"toc_40015_4.2\"></a>\n",
    "## 4.2 NumPy Arrays\n",
    "\n",
    "La estructura de datos básica de NumPy es un *array* indexable y n-dimensional que contiene elementos del mismo tipo (`dtype`). Estos fueron descritos anteriormente. Las matrices tienen un índice bidimensional (2-D) [m,n].\n",
    "\n",
    "En el Curso 1, las matrices bidimensionales se utilizan para mantener los datos de entrenamiento. Los datos de entrenamiento son $m$ ejemplos por $n$ características creando una matriz (m,n). El Curso 1 no realiza operaciones directamente sobre las matrices, sino que normalmente extrae un ejemplo como un vector y opera sobre él. A continuación se revisará: \n",
    "- la creación de datos\n",
    "- el slicing y la indexación\n",
    "\n",
    "\n",
    "<details>\n",
    "   <summary><font size=\"2\" color=\"green\"><b>Texto original</b></font></summary>\n",
    "\n",
    "NumPy's basic data structure is an indexable, n-dimensional *array* containing elements of the same type (`dtype`). These were described earlier. Matrices have a two-dimensional (2-D) index [m,n].\n",
    "\n",
    "In Course 1, 2-D matrices are used to hold training data. Training data is $m$ examples by $n$ features creating an (m,n) array. Course 1 does not do operations directly on matrices but typically extracts an example as a vector and operates on that. Below you will review: \n",
    "- data creation\n",
    "- slicing and indexing"
   ]
  },
  {
   "cell_type": "markdown",
   "metadata": {},
   "source": [
    "<a name=\"toc_40015_4.3\"></a>\n",
    "## 4.3 Creación de matrices\n",
    "Las mismas funciones que crearon vectores 1-D crearán matrices 2-D o n-D. He aquí algunos ejemplos\n",
    "\n",
    "<details>\n",
    "   <summary><font size=\"2\" color=\"green\"><b>Texto original</b></font></summary>\n",
    "## 4.3 Matrix Creation\n",
    "The same functions that created 1-D vectors will create 2-D or n-D arrays. Here are some examples\n"
   ]
  },
  {
   "cell_type": "markdown",
   "metadata": {},
   "source": [
    "A continuación, se proporciona la tupla de la forma para lograr un resultado de 2-D. Observe cómo NumPy utiliza paréntesis para denotar cada dimensión. Observe además que NumPy, al imprimir, imprimirá una fila por línea.\n",
    "\n",
    "<details>\n",
    "   <summary><font size=\"2\" color=\"green\"><b>Texto original</b></font></summary>\n",
    "\n",
    "Below, the shape tuple is provided to achieve a 2-D result. Notice how NumPy uses brackets to denote each dimension. Notice further than NumPy, when printing, will print one row per line.\n"
   ]
  },
  {
   "cell_type": "code",
   "execution_count": 18,
   "metadata": {},
   "outputs": [
    {
     "name": "stdout",
     "output_type": "stream",
     "text": [
      "a shape = (1, 5), a = [[0. 0. 0. 0. 0.]]\n"
     ]
    }
   ],
   "source": [
    "a = np.zeros((1, 5))                                       \n",
    "print(f\"a shape = {a.shape}, a = {a}\")                     \n"
   ]
  },
  {
   "cell_type": "code",
   "execution_count": 19,
   "metadata": {},
   "outputs": [
    {
     "name": "stdout",
     "output_type": "stream",
     "text": [
      "a shape = (2, 1), a = [[0.]\n",
      " [0.]]\n"
     ]
    }
   ],
   "source": [
    "\n",
    "a = np.zeros((2, 1))                                                                   \n",
    "print(f\"a shape = {a.shape}, a = {a}\") \n"
   ]
  },
  {
   "cell_type": "code",
   "execution_count": 20,
   "metadata": {},
   "outputs": [
    {
     "name": "stdout",
     "output_type": "stream",
     "text": [
      "a shape = (1, 1), a = [[0.44236513]]\n"
     ]
    }
   ],
   "source": [
    "\n",
    "a = np.random.random_sample((1, 1))  \n",
    "print(f\"a shape = {a.shape}, a = {a}\") "
   ]
  },
  {
   "cell_type": "markdown",
   "metadata": {},
   "source": [
    "También se pueden especificar los datos manualmente. Las dimensiones se especifican con paréntesis adicionales que coinciden con el formato de la impresión anterior.\n",
    "\n",
    "\n",
    "<details>\n",
    "   <summary><font size=\"2\" color=\"green\"><b>Texto original</b></font></summary>\n",
    "\n",
    "One can also manually specify data. Dimensions are specified with additional brackets matching the format in the printing above."
   ]
  },
  {
   "cell_type": "code",
   "execution_count": 22,
   "metadata": {},
   "outputs": [
    {
     "name": "stdout",
     "output_type": "stream",
     "text": [
      " a shape = (3, 1), np.array: a = [[5]\n",
      " [4]\n",
      " [3]]\n",
      " a shape = (3, 1), np.array: a = [[5]\n",
      " [4]\n",
      " [3]]\n"
     ]
    }
   ],
   "source": [
    "# NumPy routines which allocate memory and fill with user specified values\n",
    "a = np.array([[5], [4], [3]]);   print(f\" a shape = {a.shape}, np.array: a = {a}\")\n",
    "a = np.array([[5],   # One can also\n",
    "              [4],   # separate values\n",
    "              [3]]); #into separate rows\n",
    "print(f\" a shape = {a.shape}, np.array: a = {a}\")"
   ]
  },
  {
   "cell_type": "markdown",
   "metadata": {},
   "source": [
    "<a name=\"toc_40015_4.4\"></a>\n",
    "\n",
    "## 4.4 Operations on Matrices\n",
    "Exploremos algunas operaciones usando matrices.\n",
    "\n",
    "<details>\n",
    "   <summary><font size=\"2\" color=\"green\"><b>Texto original</b></font></summary>\n",
    "\n",
    "Let's explore some operations using matrices."
   ]
  },
  {
   "cell_type": "markdown",
   "metadata": {},
   "source": [
    "<a name=\"toc_40015_4.4.1\"></a>\n",
    "### 4.4.1 Indexing\n"
   ]
  },
  {
   "cell_type": "markdown",
   "metadata": {},
   "source": [
    "Las matrices incluyen un segundo índice. Los dos índices describen [fila, columna]. El acceso puede devolver un elemento o una fila/columna. Véase más abajo:\n",
    "\n",
    "<details>\n",
    "   <summary><font size=\"2\" color=\"green\"><b>Texto original</b></font></summary>\n",
    "\n",
    "Matrices include a second index. The two indexes describe [row, column]. Access can either return an element or a row/column. See below:"
   ]
  },
  {
   "cell_type": "code",
   "execution_count": 24,
   "metadata": {},
   "outputs": [
    {
     "name": "stdout",
     "output_type": "stream",
     "text": [
      "a.shape: (3, 2), \n",
      "a= [[0 1]\n",
      " [2 3]\n",
      " [4 5]]\n",
      "\n",
      "a[2,0].shape:   (), a[2,0] = 4,     type(a[2,0]) = <class 'numpy.int32'> Accessing an element returns a scalar\n",
      "\n",
      "a[2].shape:   (2,), a[2]   = [4 5], type(a[2])   = <class 'numpy.ndarray'>\n"
     ]
    }
   ],
   "source": [
    "#vector indexing operations on matrices\n",
    "a = np.arange(6).reshape(-1, 2)   #reshape es una forma conveniente de crear matrices\n",
    "print(f\"a.shape: {a.shape}, \\na= {a}\")\n",
    "\n",
    "#access an element\n",
    "print(f\"\\na[2,0].shape:   {a[2, 0].shape}, a[2,0] = {a[2, 0]},     type(a[2,0]) = {type(a[2, 0])} Accessing an element returns a scalar\\n\")\n",
    "\n",
    "#access a row\n",
    "print(f\"a[2].shape:   {a[2].shape}, a[2]   = {a[2]}, type(a[2])   = {type(a[2])}\")"
   ]
  },
  {
   "cell_type": "markdown",
   "metadata": {},
   "source": [
    "It is worth drawing attention to the last example. Accessing a matrix by just specifying the row will return a *1-D vector*."
   ]
  },
  {
   "cell_type": "markdown",
   "metadata": {},
   "source": [
    "**Reshape**  \n",
    "El ejemplo anterior utilizó [reshape](https://numpy.org/doc/stable/reference/generated/numpy.reshape.html) para dar forma al array.  \n",
    "`a = np.arange(6).reshape(-1, 2) `   \n",
    "Esta línea de código creó primero un *Vector 1-D* de seis elementos. A continuación, reformó ese vector en un array *2-D* utilizando el comando reshape. Esto podría haberse escrito:  \n",
    "`a = np.arange(6).reshape(3, 2) `  \n",
    "para llegar al mismo array de 3 filas y 2 columnas.\n",
    "El argumento -1 le dice a la rutina que calcule el número de filas dado el tamaño del array y el número de columnas.\n",
    "\n",
    "\n",
    "<details><summary><font size=\"2\" color=\"green\"><b>Texto original</b></font></summary>\n",
    "\n",
    "The previous example used [reshape](https://numpy.org/doc/stable/reference/generated/numpy.reshape.html) to shape the array.  \n",
    "`a = np.arange(6).reshape(-1, 2) `   \n",
    "This line of code first created a *1-D Vector* of six elements. It then reshaped that vector into a *2-D* array using the reshape command. This could have been written:  \n",
    "`a = np.arange(6).reshape(3, 2) `  \n",
    "To arrive at the same 3 row, 2 column array.\n",
    "The -1 argument tells the routine to compute the number of rows given the size of the array and the number of columns.\n",
    "\n",
    "\n"
   ]
  },
  {
   "cell_type": "markdown",
   "metadata": {},
   "source": [
    "<a name=\"toc_40015_4.4.2\"></a>\n",
    "### 4.4.2 Slicing \n",
    "La segmentación crea una matriz de índices utilizando un conjunto de tres valores (`inicio:parada:paso`). También es válido un subconjunto de valores. Su uso se explica mejor con un ejemplo:\n",
    "\n",
    "<details><summary><font size=\"2\" color=\"green\"><b>Texto original</b></font></summary>\n",
    "\n",
    "### 4.4.2 Slicing\n",
    "Slicing creates an array of indices using a set of three values (`start:stop:step`). A subset of values is also valid. Its use is best explained by example:"
   ]
  },
  {
   "cell_type": "code",
   "execution_count": null,
   "metadata": {},
   "outputs": [],
   "source": [
    "#vector 2-D slicing operations\n",
    "a = np.arange(20).reshape(-1, 10)\n",
    "print(f\"a = \\n{a}\")\n",
    "\n",
    "#access 5 consecutive elements (start:stop:step)\n",
    "print(\"a[0, 2:7:1] = \", a[0, 2:7:1], \",  a[0, 2:7:1].shape =\", a[0, 2:7:1].shape, \"a 1-D array\")\n",
    "\n",
    "#access 5 consecutive elements (start:stop:step) in two rows\n",
    "print(\"a[:, 2:7:1] = \\n\", a[:, 2:7:1], \",  a[:, 2:7:1].shape =\", a[:, 2:7:1].shape, \"a 2-D array\")\n",
    "\n",
    "# access all elements\n",
    "print(\"a[:,:] = \\n\", a[:,:], \",  a[:,:].shape =\", a[:,:].shape)\n",
    "\n",
    "# access all elements in one row (very common usage)\n",
    "print(\"a[1,:] = \", a[1,:], \",  a[1,:].shape =\", a[1,:].shape, \"a 1-D array\")\n",
    "# same as\n",
    "print(\"a[1]   = \", a[1],   \",  a[1].shape   =\", a[1].shape, \"a 1-D array\")\n"
   ]
  },
  {
   "cell_type": "markdown",
   "metadata": {},
   "source": [
    "<a name=\"toc_40015_5.0\"></a>\n",
    "## Felicitaciones!\n",
    "En este laboratorio has dominado las características de Python y NumPy necesarias para el curso 1.\n",
    "\n",
    "<details><summary><font size=\"2\" color=\"green\"><b>Texto original</b></font></summary>\n",
    "\n",
    "## Congratulations!\n",
    "    \n",
    "In this lab you mastered the features of Python and NumPy that are needed for Course 1."
   ]
  },
  {
   "cell_type": "code",
   "execution_count": null,
   "metadata": {},
   "outputs": [],
   "source": []
  }
 ],
 "metadata": {
  "dl_toc_settings": {
   "rndtag": "40015"
  },
  "kernelspec": {
   "display_name": "Python 3",
   "language": "python",
   "name": "python3"
  },
  "language_info": {
   "codemirror_mode": {
    "name": "ipython",
    "version": 3
   },
   "file_extension": ".py",
   "mimetype": "text/x-python",
   "name": "python",
   "nbconvert_exporter": "python",
   "pygments_lexer": "ipython3",
   "version": "3.7.3"
  },
  "toc-autonumbering": false,
  "vscode": {
   "interpreter": {
    "hash": "26de051ba29f2982a8de78e945f0abaf191376122a1563185a90213a26c5da77"
   }
  }
 },
 "nbformat": 4,
 "nbformat_minor": 4
}
