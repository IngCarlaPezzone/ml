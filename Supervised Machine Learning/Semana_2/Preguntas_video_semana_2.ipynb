{
 "cells": [
  {
   "cell_type": "markdown",
   "metadata": {},
   "source": [
    "# Preguntas Videos"
   ]
  },
  {
   "cell_type": "markdown",
   "metadata": {},
   "source": [
    "## Multiple features\n",
    "\n",
    "En el conjunto de entrenamiento siguiente, ¿cuál es $ x_{1}^{(4)} $ ? Escriba el número que aparece a continuación (se trata de un número entero como 123, sin puntos decimales).\n",
    "\n",
    "<img src=\"pre_video_multiple_features.png\">"
   ]
  },
  {
   "cell_type": "markdown",
   "metadata": {},
   "source": [
    "**852**"
   ]
  },
  {
   "cell_type": "markdown",
   "metadata": {},
   "source": [
    "## Vectorization part 1\n",
    "\n",
    "### ¿Cuál de las siguientes es una implementación vectorizada para calcular la predicción de un modelo de regresión lineal?"
   ]
  },
  {
   "cell_type": "markdown",
   "metadata": {},
   "source": [
    "- bucle for\n",
    "```python\n",
    "f=0\n",
    "\n",
    "For j in range(n):\n",
    "\n",
    "    f = f + w[j] * x[j]\n",
    "\n",
    " f=f + b\n",
    "```\n",
    "- **Numpy .dot**\n",
    "```python\n",
    "f = np.dot(w,x) + b\n",
    "```"
   ]
  },
  {
   "cell_type": "markdown",
   "metadata": {},
   "source": [
    "## Vectorization part 2\n",
    "\n",
    "### ¿Cuál de las siguientes es una implementación vectorizada para calcular la predicción de un modelo de regresión lineal?\n",
    "\n",
    "\n",
    "```python\n",
    "#---------------------------#\n",
    "\n",
    "f = 0\n",
    "for j in range(n):\n",
    "\tf = f + w[j] * x[j]\n",
    "f = f + b\n",
    "\n",
    "#----------------------------#\n",
    "\n",
    "f = np.dot(w,x) + b # correcta\n",
    "\n",
    "#----------------------------#\n",
    "\n",
    "f = w[0] * x[0] + w[1] * x[1] + w[2] * x[2] + b\n",
    "\n",
    "#----------------------------#\n",
    "```\n",
    "\n"
   ]
  },
  {
   "cell_type": "markdown",
   "metadata": {},
   "source": [
    "## Feature scaling part 2\n",
    "\n",
    "<img src=\"pre_video_feauture_scaling_2.png\">\n",
    "\n",
    "### ¿Cuál de los siguientes es un paso válido utilizado durante el escalado de características? "
   ]
  },
  {
   "cell_type": "markdown",
   "metadata": {},
   "source": [
    "\n",
    "- Multiplicar cada valor por el valor máximo de la característica\n",
    "- **Dividir cada valor por el valor máximo de la característica**"
   ]
  },
  {
   "cell_type": "markdown",
   "metadata": {},
   "source": [
    "## Choosing the learning rate\n",
    "\n",
    "<img src=\"pre_video_chosing_the_lr.png\">\n",
    "\n",
    "### Se ejecuta el descenso de gradiente durante 15 iteraciones con $\\alpha$ = 0.3 y se calcula $J(w)$ después de cada iteración. Encuentras que el valor de $J(w)$ aumenta con el tiempo.  ¿Cómo crees que deberías ajustar la tasa de aprendizaje $\\alpha$?"
   ]
  },
  {
   "cell_type": "markdown",
   "metadata": {},
   "source": [
    "\n",
    "- Siga ejecutándolo durante iteraciones adicionales\n",
    "- Intenta ejecutarlo durante sólo 10 iteraciones para que $J(w)$ no aumente tanto.\n",
    "- **Prueba con un valor menor de $\\alpha$ (digamos $\\alpha$ =0,1).**\n",
    "- Pruebe un valor más grande de $\\alpha$ (decir $\\alpha$ =1,0)."
   ]
  },
  {
   "cell_type": "markdown",
   "metadata": {},
   "source": [
    "## Feature engineering\n",
    "\n",
    "<img src=\"pre_video_feautures_engineering.png\">\n",
    "\n",
    "### Si tiene las medidas de las dimensiones de una piscina (longitud, anchura, altura), ¿cuál de las dos siguientes sería una característica de ingeniería más útil?\n",
    "\n"
   ]
  },
  {
   "cell_type": "markdown",
   "metadata": {},
   "source": [
    "- **longitud $\\times$ anchura $\\times$ altura** \n",
    "- longitud + anchura + altura"
   ]
  },
  {
   "cell_type": "markdown",
   "metadata": {},
   "source": []
  }
 ],
 "metadata": {
  "kernelspec": {
   "display_name": "Python 3.10.4 64-bit",
   "language": "python",
   "name": "python3"
  },
  "language_info": {
   "codemirror_mode": {
    "name": "ipython",
    "version": 3
   },
   "file_extension": ".py",
   "mimetype": "text/x-python",
   "name": "python",
   "nbconvert_exporter": "python",
   "pygments_lexer": "ipython3",
   "version": "3.10.4"
  },
  "orig_nbformat": 4,
  "vscode": {
   "interpreter": {
    "hash": "26de051ba29f2982a8de78e945f0abaf191376122a1563185a90213a26c5da77"
   }
  }
 },
 "nbformat": 4,
 "nbformat_minor": 2
}
