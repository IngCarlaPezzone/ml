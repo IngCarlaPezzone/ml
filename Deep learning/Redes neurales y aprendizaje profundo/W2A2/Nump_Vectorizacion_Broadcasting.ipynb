{
 "cells": [
  {
   "cell_type": "code",
   "execution_count": 1,
   "metadata": {},
   "outputs": [],
   "source": [
    "import numpy as np"
   ]
  },
  {
   "cell_type": "markdown",
   "metadata": {},
   "source": [
    "## Recursos de Numpy para deep learning\n",
    "### Forma y dimesiones de matrices"
   ]
  },
  {
   "cell_type": "code",
   "execution_count": 3,
   "metadata": {},
   "outputs": [
    {
     "name": "stdout",
     "output_type": "stream",
     "text": [
      "La forma de arr es:  (2, 4)\n",
      "La matriz tiene  2 filas y  4  Columnas\n",
      "La dimensión de arr es:  2\n",
      "La matriz es: \n",
      " [[1 2 3 4]\n",
      " [5 6 7 8]]\n"
     ]
    }
   ],
   "source": [
    "#Obtener la forma y dimensión de una matriz\n",
    "\n",
    "arr = np.array([[1, 2, 3, 4], [5, 6, 7, 8]])\n",
    "print('La forma de arr es: ', arr.shape)\n",
    "print('La matriz tiene ', arr.shape[0],\"filas y \",arr.shape[1],\" Columnas\")\n",
    "print('La dimensión de arr es: ', arr.ndim)\n",
    "print('La matriz es: \\n', arr)"
   ]
  },
  {
   "cell_type": "code",
   "execution_count": 4,
   "metadata": {},
   "outputs": [
    {
     "name": "stdout",
     "output_type": "stream",
     "text": [
      "La matriz es: \n",
      " [[[[[1 2 3 4]]]]]\n",
      "La forma es: (1, 1, 1, 1, 4)\n",
      "La dimensión es: 5\n"
     ]
    }
   ],
   "source": [
    "#Para dar la dimensión deseada a una matriz\n",
    "\n",
    "arr = np.array([1, 2, 3, 4], ndmin=5)\n",
    "print('La matriz es: \\n', arr)\n",
    "print('La forma es:', arr.shape)\n",
    "print('La dimensión es:', arr.ndim)"
   ]
  },
  {
   "cell_type": "markdown",
   "metadata": {},
   "source": [
    "### Slice de matrices"
   ]
  },
  {
   "cell_type": "code",
   "execution_count": 10,
   "metadata": {},
   "outputs": [
    {
     "name": "stdout",
     "output_type": "stream",
     "text": [
      "Toma todos los valores de las dimensiones 0, 1, 2 y 3 \n",
      "pero solo toma el indice 3 de la dimensión 4: \n",
      " [[[[4]]]]\n",
      "\n",
      "Lo mismo se obtiene colocando elipses: \n",
      " [[[[4]]]]\n",
      "\n",
      "Toma el valor de indice 0, de las dimensiones 0, 1, 2 y 3 \n",
      "pero toma los valores entre el indice 1 a 3 de la dimensión 4: \n",
      " [2 3]\n",
      "\n",
      "Lo mismo se obtiene colocando elipses: \n",
      " [2 3]\n"
     ]
    }
   ],
   "source": [
    "#Tomar trozos de una matriz (slice)\n",
    "\n",
    "a1 = arr[:,:,:,:,3]\n",
    "a2 = arr[...,3]\n",
    "a3 = arr[0][0][0][0][1:3]\n",
    "a4 = arr[...,1:3]\n",
    "\n",
    "print('Toma todos los valores de las dimensiones 0, 1, 2 y 3 \\npero solo toma el indice 3 de la dimensión 4: \\n', a1)\n",
    "print('\\nLo mismo se obtiene colocando elipses: \\n', a2)\n",
    "print('\\nToma el valor de indice 0, de las dimensiones 0, 1, 2 y 3 \\npero toma los valores entre el indice 1 a 3 de la dimensión 4: \\n', a3)\n",
    "print('\\nLo mismo se obtiene colocando elipses: \\n', a3)"
   ]
  },
  {
   "cell_type": "markdown",
   "metadata": {},
   "source": [
    "### Reshape de matrices"
   ]
  },
  {
   "cell_type": "code",
   "execution_count": 30,
   "metadata": {},
   "outputs": [
    {
     "name": "stdout",
     "output_type": "stream",
     "text": [
      "arr1 es: \n",
      " [ 1  2  3  4  5  6  7  8  9 10 11 12]\n",
      "La forma de arr1 es:  (12,)\n",
      "\n",
      "newarr se reforma con reshape: \n",
      " [[ 1  2  3]\n",
      " [ 4  5  6]\n",
      " [ 7  8  9]\n",
      " [10 11 12]]\n",
      "La forma de newarr es:  (4, 3)\n"
     ]
    }
   ],
   "source": [
    "#Reformar las matrices\n",
    "\n",
    "arr1 = np.array([1, 2, 3, 4, 5, 6, 7, 8, 9, 10, 11, 12])\n",
    "print('arr1 es: \\n', arr1)\n",
    "print('La forma de arr1 es: ', arr1.shape)\n",
    "\n",
    "newarr = arr1.reshape(4, 3) #Reforma con 1 submatriz\n",
    "print(\"\\nnewarr se reforma con reshape: \\n\", newarr)\n",
    "print('La forma de newarr es: ', newarr.shape)"
   ]
  },
  {
   "cell_type": "code",
   "execution_count": 14,
   "metadata": {},
   "outputs": [
    {
     "name": "stdout",
     "output_type": "stream",
     "text": [
      "[ 1  2  3  4  5  6  7  8  9 10 11 12]\n"
     ]
    }
   ],
   "source": [
    "#Devuelve el objeto base si la memoria es de algún otro objeto.\n",
    "print(newarr.base)"
   ]
  },
  {
   "cell_type": "code",
   "execution_count": 24,
   "metadata": {},
   "outputs": [
    {
     "name": "stdout",
     "output_type": "stream",
     "text": [
      "\n",
      "La matriz newarr1 se reforma con reshape \n",
      "a dos submatrices de (3x2): \n",
      " [[[ 1  2]\n",
      "  [ 3  4]\n",
      "  [ 5  6]]\n",
      "\n",
      " [[ 7  8]\n",
      "  [ 9 10]\n",
      "  [11 12]]]\n",
      "\n",
      "La forma de newarr1 es:  (2, 3, 2)\n",
      "\n",
      "La forma de la matriz del indice 0 es:  (3, 2)\n",
      "\n",
      "La submatriz del indice 0 es: \n",
      " [[1 2]\n",
      " [3 4]\n",
      " [5 6]]\n"
     ]
    }
   ],
   "source": [
    "newarr1 = arr1.reshape(2, 3, 2) #Reforma con dos submatrices\n",
    "\n",
    "print(\"\\nLa matriz newarr1 se reforma con reshape \\na dos submatrices de (3x2): \\n\", newarr1)\n",
    "print('\\nLa forma de newarr1 es: ', newarr1.shape)\n",
    "print('\\nLa forma de la matriz del indice 0 es: ', newarr1[0].shape)\n",
    "print('\\nLa submatriz del indice 0 es: \\n', newarr1[0])"
   ]
  },
  {
   "cell_type": "markdown",
   "metadata": {},
   "source": [
    "Se puede remodelar una matriz 1D de 8 elementos en una matriz 2D de 2 filas con 4 elementos cada una, pero no podemos reformarla en una matriz 2D de 3 filas con 3 elementos cada una, ya que eso requeriría 3x3 = 9 elementos. "
   ]
  },
  {
   "cell_type": "code",
   "execution_count": 26,
   "metadata": {},
   "outputs": [
    {
     "name": "stdout",
     "output_type": "stream",
     "text": [
      "Este es el error: \n",
      " cannot reshape array of size 12 into shape (3,3)\n",
      "\n",
      "Esta es la matriz: \n",
      " [ 1  2  3  4  5  6  7  8  9 10 11 12]\n"
     ]
    }
   ],
   "source": [
    "try:\n",
    "    newarr = arr1.reshape(3, 3)\n",
    "except ValueError as e:\n",
    "    print('Este es el error: \\n', e)\n",
    "finally:\n",
    "    print('\\nEsta es la matriz: \\n', arr1)"
   ]
  },
  {
   "cell_type": "markdown",
   "metadata": {},
   "source": [
    "### Modificación de elementos"
   ]
  },
  {
   "cell_type": "code",
   "execution_count": 49,
   "metadata": {},
   "outputs": [
    {
     "name": "stdout",
     "output_type": "stream",
     "text": [
      "La matriz de base es: \n",
      " [1 2 3 4 5 6 7 8]\n",
      "\n",
      "La forma de la matriz de base: \n",
      " (8,)\n",
      "\n",
      "La matriz reformada es: \n",
      " [[1 2 3 4]\n",
      " [5 6 7 8]]\n",
      "\n",
      "La forma de la matriz reformada es: \n",
      " (2, 4)\n"
     ]
    }
   ],
   "source": [
    "#Se crea una matriz\n",
    "arr2 = np.array([1, 2, 3, 4, 5, 6, 7, 8])\n",
    "\n",
    "#Se reforma a dos submatrices de (2,4)\n",
    "#Se hace una copia\n",
    "a = arr2.reshape(2,4)\n",
    "\n",
    "print('La matriz de base es: \\n', arr2)\n",
    "print('\\nLa forma de la matriz de base: \\n', arr2.shape)\n",
    "print('\\nLa matriz reformada es: \\n', a)\n",
    "print('\\nLa forma de la matriz reformada es: \\n', a.shape)"
   ]
  },
  {
   "cell_type": "code",
   "execution_count": 50,
   "metadata": {},
   "outputs": [
    {
     "name": "stdout",
     "output_type": "stream",
     "text": [
      "\n",
      "La matriz a con el elemento modificado es: \n",
      " [45  2  3  4  5  6  7  8]\n",
      "La matriz de base es: \n",
      " [45  2  3  4  5  6  7  8]\n"
     ]
    }
   ],
   "source": [
    "#Modificamos el elemento de indice 0 de la submatriz de indice 0\n",
    "a[0][0] = 45\n",
    "\n",
    "print('\\nLa matriz a con el elemento modificado es: \\n', arr2)\n",
    "\n",
    "#Verificamos la matriz original\n",
    "print('La matriz de base es: \\n', arr2)"
   ]
  },
  {
   "cell_type": "markdown",
   "metadata": {},
   "source": [
    "Se puede ver que la nueva matriz (a) lleva los valores como referencia, al modificarlos se modifican en la matriz original para evitar eso hay que hacer una *copia* de la matriz original."
   ]
  },
  {
   "cell_type": "code",
   "execution_count": 51,
   "metadata": {},
   "outputs": [
    {
     "name": "stdout",
     "output_type": "stream",
     "text": [
      "La matriz de base es: \n",
      " [1 2 3 4 5 6 7 8]\n",
      "\n",
      "La forma de la matriz de base: \n",
      " (8,)\n",
      "\n",
      "La matriz reformada es: \n",
      " [[45  2  3  4]\n",
      " [ 5  6  7  8]]\n",
      "\n",
      "La forma de la matriz reformada es: \n",
      " (2, 4)\n",
      "\n",
      "La matriz a con el elemento modificado es: \n",
      " [1 2 3 4 5 6 7 8]\n"
     ]
    }
   ],
   "source": [
    "#Se crea una matriz\n",
    "arr2 = np.array([1, 2, 3, 4, 5, 6, 7, 8])\n",
    "\n",
    "#Se reforma a dos submatrices de (2,4)\n",
    "#Se hace una copia\n",
    "a = arr2.reshape(2,4).copy()\n",
    "\n",
    "#Modificamos el elemento de indice 0 de la submatriz de indice 0\n",
    "a[0][0] = 45\n",
    "\n",
    "print('La matriz de base es: \\n', arr2)\n",
    "print('\\nLa forma de la matriz de base: \\n', arr2.shape)\n",
    "print('\\nLa matriz reformada es: \\n', a)\n",
    "print('\\nLa forma de la matriz reformada es: \\n', a.shape)\n",
    "print('\\nLa matriz a con el elemento modificado es: \\n', arr2)"
   ]
  },
  {
   "cell_type": "markdown",
   "metadata": {},
   "source": [
    "### Dimensión desconocida\n",
    "\n",
    "Se le permite tener una dimensión \"*desconocida*\". Esto se llama **matriz de rango 1**. Esto no es una matriz fila ni una matriz columna y puede generar errores en las operaciones matriciales."
   ]
  },
  {
   "cell_type": "code",
   "execution_count": 62,
   "metadata": {},
   "outputs": [
    {
     "name": "stdout",
     "output_type": "stream",
     "text": [
      "La matriz original es: \n",
      " [1 2 3 4 5 6 7 8]\n",
      "Observar que tiene solo 1 corchete exterior\n",
      "\n",
      "La forma de la matriz original es: \n",
      " (8,)\n",
      "Es una matriz de rango 1\n",
      "\n",
      "La matriz reformada en la dimensión es: \n",
      " [[1 2 3 4 5 6 7 8]]\n",
      "Observar que tiene 2 corchete exterior\n",
      "\n",
      "La forma de la matriz original es: \n",
      " (1, 8)\n"
     ]
    }
   ],
   "source": [
    "#Matriz original con una dimensión desconocida\n",
    "arr = np.array([1, 2, 3, 4, 5, 6, 7, 8])\n",
    "\n",
    "#Reformamos la matriz para asignarle la dimensión desconocida\n",
    "arr1 = arr.reshape(1,8)\n",
    "\n",
    "print('La matriz original es: \\n', arr)\n",
    "print('Observar que tiene solo 1 corchete exterior')\n",
    "print('\\nLa forma de la matriz original es: \\n', arr.shape)\n",
    "print('Es una matriz de rango 1')\n",
    "print('\\nLa matriz reformada en la dimensión es: \\n', arr1)\n",
    "print('Observar que tiene 2 corchete exterior')\n",
    "print('\\nLa forma de la matriz original es: \\n', arr1.shape)"
   ]
  },
  {
   "cell_type": "code",
   "execution_count": 67,
   "metadata": {
    "collapsed": true,
    "jupyter": {
     "outputs_hidden": true
    }
   },
   "outputs": [
    {
     "ename": "AssertionError",
     "evalue": "",
     "output_type": "error",
     "traceback": [
      "\u001b[1;31m---------------------------------------------------------------------------\u001b[0m",
      "\u001b[1;31mAssertionError\u001b[0m                            Traceback (most recent call last)",
      "\u001b[1;32m<ipython-input-67-06cf9f1c8f72>\u001b[0m in \u001b[0;36m<module>\u001b[1;34m\u001b[0m\n\u001b[0;32m      3\u001b[0m \u001b[1;31m#La forma de arr nos dio (8,1)\u001b[0m\u001b[1;33m\u001b[0m\u001b[1;33m\u001b[0m\u001b[1;33m\u001b[0m\u001b[0m\n\u001b[0;32m      4\u001b[0m \u001b[1;33m\u001b[0m\u001b[0m\n\u001b[1;32m----> 5\u001b[1;33m \u001b[1;32massert\u001b[0m\u001b[1;33m(\u001b[0m\u001b[0marr\u001b[0m\u001b[1;33m.\u001b[0m\u001b[0mshape\u001b[0m \u001b[1;33m==\u001b[0m \u001b[1;33m(\u001b[0m\u001b[1;36m1\u001b[0m\u001b[1;33m,\u001b[0m\u001b[1;36m8\u001b[0m\u001b[1;33m)\u001b[0m\u001b[1;33m)\u001b[0m\u001b[1;33m\u001b[0m\u001b[1;33m\u001b[0m\u001b[0m\n\u001b[0m",
      "\u001b[1;31mAssertionError\u001b[0m: "
     ]
    }
   ],
   "source": [
    "#Para chequear la dimensión de la matriz\n",
    "#Vemos que nos da un error, porque\n",
    "#La forma de arr nos dio (8,1)\n",
    "\n",
    "assert(arr.shape == (1,8))"
   ]
  },
  {
   "cell_type": "code",
   "execution_count": 68,
   "metadata": {},
   "outputs": [],
   "source": [
    "#En el caso arr1 reformado, donde nos aseguramos la dimensión\n",
    "#Nos va a verificar el assert\n",
    "assert(arr1.shape == (1,8))"
   ]
  },
  {
   "cell_type": "markdown",
   "metadata": {},
   "source": [
    "Por otra parte, es posible no tener que especificar un número exacto para una de las dimensiones en el método de remodelación."
   ]
  },
  {
   "cell_type": "code",
   "execution_count": 63,
   "metadata": {},
   "outputs": [
    {
     "name": "stdout",
     "output_type": "stream",
     "text": [
      "\n",
      "La matriz reformada es: \n",
      " [[[1 2]\n",
      "  [3 4]]\n",
      "\n",
      " [[5 6]\n",
      "  [7 8]]]\n",
      "\n",
      "La forma de la matriz reformada es: \n",
      " (2, 2, 2)\n"
     ]
    }
   ],
   "source": [
    "#Reformamos la matriz sin indicar la dimensión\n",
    "newarr = arr.reshape(2, 2, -1) #Se usa el comodín -1\n",
    "\n",
    "print('\\nLa matriz reformada es: \\n', newarr)\n",
    "print('\\nLa forma de la matriz reformada es: \\n', newarr.shape)"
   ]
  },
  {
   "cell_type": "markdown",
   "metadata": {},
   "source": [
    "### Transpuesta de una matriz"
   ]
  },
  {
   "cell_type": "code",
   "execution_count": 5,
   "metadata": {},
   "outputs": [
    {
     "name": "stdout",
     "output_type": "stream",
     "text": [
      "La matriz original: \n",
      " [[1 2 3]\n",
      " [4 5 6]]\n",
      "\n",
      "La matriz transpuesta con T: \n",
      " [[1 4]\n",
      " [2 5]\n",
      " [3 6]]\n",
      "\n",
      "La matriz transpuesta con transpose: \n",
      " [[1 4]\n",
      " [2 5]\n",
      " [3 6]]\n"
     ]
    }
   ],
   "source": [
    "#Creamos una matriz\n",
    "a = np.array([[1, 2, 3], [4, 5, 6]])\n",
    "\n",
    "#Hacemos la transpuesta con T\n",
    "b = a.T\n",
    "\n",
    "#Hacemos la transpuesta con transpose\n",
    "c = a.transpose()\n",
    "\n",
    "print('La matriz original: \\n', a)\n",
    "print('\\nLa matriz transpuesta con T: \\n', b)\n",
    "print('\\nLa matriz transpuesta con transpose: \\n', c)"
   ]
  },
  {
   "cell_type": "markdown",
   "metadata": {},
   "source": [
    "En el siguiente ejemplo se ve porque es necesario definir las dimensiones antes de operar las matrices:"
   ]
  },
  {
   "cell_type": "code",
   "execution_count": 12,
   "metadata": {},
   "outputs": [
    {
     "name": "stdout",
     "output_type": "stream",
     "text": [
      "La matriz original es: \n",
      " [-0.35143978  1.29524288 -0.79627571]\n",
      "\n",
      "La forma de la matriz es: \n",
      " (3,)\n",
      "\n",
      "La transpuesta de la matriz es: \n",
      " [-0.35143978  1.29524288 -0.79627571]\n",
      "\n",
      "La forma de la matriz transpuesta es: \n",
      " (3,)\n",
      "\n",
      "El resultado de la multiplicación es: \n",
      " 2.435219035583038\n",
      "\n",
      "La forma de la multiplicación es: \n",
      " ()\n"
     ]
    }
   ],
   "source": [
    "#Creamos una matriz aleatoria de 5 elementos\n",
    "a = np.random.randn(3)\n",
    "\n",
    "#Hacemos la Transpuesta\n",
    "b = a.T\n",
    "\n",
    "#Hacemos la multiplicación punto\n",
    "c = np.dot(a, b)\n",
    "\n",
    "print('La matriz original es: \\n', a)\n",
    "print('\\nLa forma de la matriz es: \\n', a.shape)\n",
    "print('\\nLa transpuesta de la matriz es: \\n', b)\n",
    "print('\\nLa forma de la matriz transpuesta es: \\n', b.shape)\n",
    "print('\\nEl resultado de la multiplicación es: \\n', c)\n",
    "print('\\nLa forma de la multiplicación es: \\n', c.shape)"
   ]
  },
  {
   "cell_type": "markdown",
   "metadata": {},
   "source": [
    "Como se observa, la matriz creada tiene forma (5,), que como se mencionó antes, es una matriz de rango 1 en python. Así, cuando se observa la transpuesta, acaba teniendo el mismo aspecto que la matriz original.\n",
    "\n",
    "Si calculamos el producto punto de las dos matrices, se esperaría una matriz, pero devuelve un valor.\n",
    "\n",
    "Lo que se recomienda es que cuando se programan redes neuronales, que no se usen estructuras de datos donde la forma sea (5,) o (n,). En su lugar, que a sea (5,1), entonces esto hace que \"a\" sea un vector columna de (5,1). Y mientras que previamente, \"a\" y \"a transpuesta” parecían lo mismo, ahora a transpuesta llega a ser un vector fila."
   ]
  },
  {
   "cell_type": "code",
   "execution_count": 11,
   "metadata": {},
   "outputs": [
    {
     "name": "stdout",
     "output_type": "stream",
     "text": [
      "La matriz original es: \n",
      " [[-0.43297044]\n",
      " [ 0.76470326]\n",
      " [ 0.01647248]]\n",
      "\n",
      "La forma de la matriz es: \n",
      " (3, 1)\n",
      "\n",
      "La transpuesta de la matriz es: \n",
      " [[-0.43297044  0.76470326  0.01647248]]\n",
      "\n",
      "La forma de la matriz transpuesta es: \n",
      " (1, 3)\n",
      "\n",
      "El resultado de la multiplicación es: \n",
      " [[ 1.87463404e-01 -3.31093908e-01 -7.13209792e-03]\n",
      " [-3.31093908e-01  5.84771073e-01  1.25965608e-02]\n",
      " [-7.13209792e-03  1.25965608e-02  2.71342671e-04]]\n",
      "\n",
      "La forma de la multiplicación es: \n",
      " (3, 3)\n"
     ]
    }
   ],
   "source": [
    "#Creamos una matriz aleatoria de 5 elementos\n",
    "a = np.random.randn(3,1) #Observe que se define filas y columna\n",
    "\n",
    "#Hacemos la Transpuesta\n",
    "b = a.T\n",
    "\n",
    "#Hacemos la multiplicación punto\n",
    "c = np.dot(a, b)\n",
    "\n",
    "print('La matriz original es: \\n', a)\n",
    "print('\\nLa forma de la matriz es: \\n', a.shape)\n",
    "print('\\nLa transpuesta de la matriz es: \\n', b)\n",
    "print('\\nLa forma de la matriz transpuesta es: \\n', b.shape)\n",
    "print('\\nEl resultado de la multiplicación es: \\n', c)\n",
    "print('\\nLa forma de la multiplicación es: \\n', c.shape)"
   ]
  },
  {
   "cell_type": "markdown",
   "metadata": {},
   "source": [
    "### Aplanar la matriz"
   ]
  },
  {
   "cell_type": "code",
   "execution_count": 2,
   "metadata": {},
   "outputs": [
    {
     "name": "stdout",
     "output_type": "stream",
     "text": [
      "La matriz arr3 es: \n",
      " [[1 2 3]\n",
      " [4 5 6]]\n",
      "La forma de la matriz arr3 es: \n",
      " (2, 3)\n"
     ]
    }
   ],
   "source": [
    "#Creamos una matriz\n",
    "arr3 = np.array([[1, 2, 3], [4, 5, 6]])\n",
    "\n",
    "print('La matriz arr3 es: \\n', arr3)\n",
    "print('La forma de la matriz arr3 es: \\n', arr3.shape)"
   ]
  },
  {
   "cell_type": "code",
   "execution_count": 73,
   "metadata": {},
   "outputs": [
    {
     "name": "stdout",
     "output_type": "stream",
     "text": [
      "La matriz newarr es: \n",
      " [1 2 3 4 5 6]\n",
      "La forma de la matriz newarr es: \n",
      " (6,)\n"
     ]
    }
   ],
   "source": [
    "#Aplanamos la matriz con reshape\n",
    "newarr = arr3.reshape(-1) #Pero nos da con dimensión desconocida\n",
    "\n",
    "print('La matriz newarr es: \\n', newarr)\n",
    "print('La forma de la matriz newarr es: \\n', newarr.shape)"
   ]
  },
  {
   "cell_type": "code",
   "execution_count": 75,
   "metadata": {},
   "outputs": [
    {
     "name": "stdout",
     "output_type": "stream",
     "text": [
      "La matriz newarr es: \n",
      " [[1 2 3 4 5 6]]\n",
      "La forma de la matriz newarr es: \n",
      " (1, 6)\n"
     ]
    }
   ],
   "source": [
    "#Aplanamos la matriz con reshape\n",
    "#Pero que tenga la dimension definida\n",
    "newarr = arr3.reshape(1,6)\n",
    "\n",
    "print('La matriz newarr es: \\n', newarr)\n",
    "print('La forma de la matriz newarr es: \\n', newarr.shape)"
   ]
  },
  {
   "cell_type": "code",
   "execution_count": 78,
   "metadata": {},
   "outputs": [
    {
     "name": "stdout",
     "output_type": "stream",
     "text": [
      "La matriz arr4 es: \n",
      " [1 2 3 4 5 6]\n",
      "La forma de la matriz arr4 es: \n",
      " (6,)\n"
     ]
    }
   ],
   "source": [
    "#Aplanamos la matriz con flatten\n",
    "arr4 = arr3.flatten()\n",
    "\n",
    "print('La matriz arr4 es: \\n', arr4)\n",
    "print('La forma de la matriz arr4 es: \\n', arr4.shape)"
   ]
  },
  {
   "cell_type": "code",
   "execution_count": 79,
   "metadata": {},
   "outputs": [
    {
     "name": "stdout",
     "output_type": "stream",
     "text": [
      "La matriz arr5 es: \n",
      " [1 2 3 4 5 6]\n",
      "La forma de la matriz arr5 es: \n",
      " (6,)\n"
     ]
    }
   ],
   "source": [
    "#Aplanamos la matriz con ravel\n",
    "arr5 = arr3.ravel()\n",
    "\n",
    "print('La matriz arr5 es: \\n', arr5)\n",
    "print('La forma de la matriz arr5 es: \\n', arr5.shape)"
   ]
  },
  {
   "cell_type": "markdown",
   "metadata": {},
   "source": [
    "**Diferencias entre Flatten() y Ravel():**\n",
    "\n",
    "**a.ravel():**\n",
    "* Devuelve solo la referencia / vista de la matriz original\n",
    "* Si modifica la matriz, notará que el valor de la matriz original también cambia.\n",
    "* Ravel es más rápido que flatten() ya que no ocupa memoria.\n",
    "* Ravel es una función a nivel de biblioteca.\n",
    "\n",
    "**a.flatten():**\n",
    "* Devuelve una copia de la matriz original\n",
    "* Si modifica cualquier valor de esta matriz, el valor de la matriz original no se ve afectado.\n",
    "* Flatten() es comparativamente más lento que ravel() ya que ocupa memoria.\n",
    "* Flatten es un método de un objeto ndarray."
   ]
  },
  {
   "cell_type": "markdown",
   "metadata": {},
   "source": [
    "## Vectorización\n",
    "## Conceptos básicos\n",
    "\n",
    "La **vectorización** se usa para acelerar el código Python sin usar loop. El uso de esta función puede ayudar a minimizar el tiempo de ejecución del código de manera eficiente.\n",
    "\n",
    "En la era del deep learning, la seguridad en el aprendizaje profundo en la práctica, a menudo uno se encuentra entrenando conjuntos de datos relativamente grandes, porque ahí es cuando los algoritmos de aprendizaje profundo tienden a brillar. Así que es importante que el código sea muy rápido porque de lo contrario, se puede tardar mucho tiempo en ejecutar. Por esto es que la capacidad de realizar vectorización se ha convertido en una habilidad clave.\n",
    "\n",
    "La complejidad del tiempo en la ejecución de cualquier algoritmo es crucial para decidir si una aplicación es confiable o no. Ejecutar un algoritmo grande en el mayor tiempo posible es muy importante cuando se trata de la aplicación de resultados en tiempo real. Para hacerlo, Python tiene algunas funciones matemáticas estándar para operaciones rápidas en matrices completas de datos sin tener que escribir bucles. Una de esas bibliotecas que contiene tal función es Numpy.\n",
    "\n",
    "A continuación se presenta un ejemplo de vectorización usando `np.dot(w, x)`:"
   ]
  },
  {
   "cell_type": "code",
   "execution_count": 28,
   "metadata": {},
   "outputs": [
    {
     "name": "stdout",
     "output_type": "stream",
     "text": [
      "Resultado de la multiplicación:  249789.4103302722\n",
      "Versión Vectorizada: 0.9987354278564453 ms\n",
      "\n",
      "Resultado de la multiplicación:  249789.41033026483\n",
      "Versión NO Vectorizada: 476.23181343078613 ms\n"
     ]
    }
   ],
   "source": [
    "import time #Librería para medir tiempos\n",
    "a = np.random.rand(1000000)    #Crea dos matrices con millones de valores aleatorios\n",
    "b = np.random.rand(1000000) \n",
    "\n",
    "tic = time.time()    #Mide la hora actual\n",
    "c = np.dot(a,b)      #Vectoriza la matriz\n",
    "toc = time.time()    #Mide el tiempo en el proceso\n",
    "print('Resultado de la multiplicación: ', c)\n",
    "print('Versión Vectorizada: ' + str(1000*(toc-tic)) + ' ms')\n",
    "\n",
    "c = 0\n",
    "tic = time.time()    #Mide la hora actual\n",
    "for i in range(1000000): #Bucle para hacer la multiplicación\n",
    "    c += a[i]*b[i]\n",
    "toc = time.time()    #Mide el tiempo en el proceso\n",
    "print('\\nResultado de la multiplicación: ', c)\n",
    "print('Versión NO Vectorizada: ' + str(1000*(toc-tic)) + ' ms')"
   ]
  },
  {
   "cell_type": "markdown",
   "metadata": {},
   "source": [
    "En ambos casos, la versión vectorizada y la versión no vectorizada calculó los mismos valores, 249789. La versión vectorizada tomó alrededor de 1 milisegundos. La versión explícita para bucle y no vectorizada tomó cerca de 500 milisegundos. La versión no vectorizada tomó algo así como 300 veces más larga que la versión vectorizada.\n",
    "\n",
    "Estás viendo cómo la vectorización puede acelerar significativamente tu código. **La regla de oro para recordar es siempre que sea posible, Evitar el uso de cuatro bucles explícitos**.\n",
    "\n",
    "De hecho, la biblioteca NumPy tiene muchas otras funciones de valores vectoriales. Por ejemplo:\n",
    "* `np.log(v)` calculará el logaritmo elemento a elemento. \n",
    "* `np.maximum(v,0)` calcula el valor máximo, puedes tomar el máximo de cada elemento de V con cero. \n",
    "* `V**2`, simplemente toma el cuadrado de cada elemento de V, \n",
    "* `1/V` toma el inverso de cada elemento y así sucesivamente. \n",
    "\n",
    "Entonces, cuando estés tentado a escribir un bucle for, echa un vistazo y ve si hay una manera de llamar una función incorporada de NumPy para hacerlo sin ese bucle for. \n"
   ]
  },
  {
   "cell_type": "markdown",
   "metadata": {},
   "source": [
    "## Broadcasting (transmisión)\n",
    "### Conceptos iniciales\n",
    "\n",
    "**Broadcasting** es una estrategia de numpy para operar con arreglos mutidimensionles de diferentes dimensiones.\n",
    "\n",
    "El término Broadcasting describe cómo NumPy trata las matrices con diferentes formas durante las operaciones aritméticas. Sujeto a ciertas restricciones, el array más pequeño se \"difunde\" a través del array más grande para que tengan formas compatibles. \n",
    "\n",
    "El Broadcasting proporciona un medio de **vectorización de las operaciones de matrices** para que el bucle se produzca en C en lugar de Python. Esto lo hace sin hacer copias innecesarias de los datos y normalmente conduce a implementaciones de algoritmos eficientes.\n",
    "\n",
    "Las operaciones de NumPy se realizan normalmente sobre pares de arrays *elemento a elemento*. En el caso más simple, los dos arrays deben tener exactamente la misma forma, como en el siguiente ejemplo:"
   ]
  },
  {
   "cell_type": "code",
   "execution_count": 6,
   "metadata": {},
   "outputs": [
    {
     "name": "stdout",
     "output_type": "stream",
     "text": [
      "Multiplicación de arrays: [2. 4. 6.]\n"
     ]
    }
   ],
   "source": [
    "# Dos array de mismas dimensiones\n",
    "a = np.array([1.0, 2.0, 3.0])\n",
    "b = np.array([2.0, 2.0, 2.0])\n",
    "c = a * b\n",
    "print('Multiplicación de arrays:', c)"
   ]
  },
  {
   "cell_type": "markdown",
   "metadata": {},
   "source": [
    "La regla de Broadcasting de NumPy relaja esta restricción cuando las formas de las matrices cumplen con ciertas restricciones. El ejemplo de transmisión más simple ocurre cuando una matriz y un valor escalar se combinan en una operación:"
   ]
  },
  {
   "cell_type": "code",
   "execution_count": 8,
   "metadata": {},
   "outputs": [
    {
     "name": "stdout",
     "output_type": "stream",
     "text": [
      "Multiplicación de arrays: [2. 4. 6.]\n"
     ]
    }
   ],
   "source": [
    "a = np.array([1.0, 2.0, 3.0])  #Es un array\n",
    "b = 2.0                        #Es un escalar\n",
    "c = a * b                      #Puede ser cualquier operación\n",
    "print('Multiplicación de arrays:', c)"
   ]
  },
  {
   "cell_type": "markdown",
   "metadata": {},
   "source": [
    "Podemos pensar en el escalar **b** que se estira durante la operación aritmética en una matriz con la misma forma que **a**, como se muestra en la siguiente figura:\n",
    "\n",
    "<figure>\n",
    " <img align=\"center\", src=\"./imagenes/01.jpg\", style=\"width:60%;\" >\n",
    "</figure>\n",
    "\n",
    "En la siguiente figura se aprecia de manera similar cuando se estira a cada fila (mismo número de columnas):\n",
    "\n",
    "<figure>\n",
    " <img align=\"center\", src=\"./imagenes/02.jpg\", style=\"width:60%;\" >\n",
    "</figure>"
   ]
  },
  {
   "cell_type": "markdown",
   "metadata": {},
   "source": [
    "VENTAJA: El código del segundo ejemplo es más eficiente que el del primero porque el broadcasting mueve menos memoria durante la multiplicación (**b** es un escalar en lugar de una matriz)."
   ]
  },
  {
   "cell_type": "markdown",
   "metadata": {},
   "source": [
    "### Reglas generales\n",
    "\n",
    "Cuando opera en dos matrices, NumPy compara sus formas por elementos. Comienza con las dimensiones finales (es decir, más a la derecha) y avanza hacia la izquierda. \n",
    "\n",
    "Dos dimensiones son compatibles cuando\n",
    "- son iguales, o\n",
    "- uno de ellos es 1\n",
    "- tienen misma cantidad de filas\n",
    "- tienen misma cantidad de columnas\n",
    "\n",
    "Si no se cumplen estas condiciones, se lanza una excepción, lo que indica que las matrices tienen formas incompatibles: *ValueError: operands could not be broadcast together*.\n",
    "\n",
    "Ejemplos:"
   ]
  },
  {
   "cell_type": "code",
   "execution_count": 12,
   "metadata": {},
   "outputs": [
    {
     "name": "stdout",
     "output_type": "stream",
     "text": [
      "Multiplicación de arrays:\n",
      " [[101. 202. 303.]\n",
      " [104. 205. 306.]]\n"
     ]
    }
   ],
   "source": [
    "# Matriz con escalar ya lo vimos en el ejemplo anterior\n",
    "\n",
    "# Dos matrices con misma forma de filas\n",
    "\n",
    "a1 = np.array([[1.0, 2.0, 3.0], \n",
    "               [4.0, 5.0, 6.0]])\n",
    "a2 = np.array([100.0, 200.0, 300.0])\n",
    "c = a1 + a2 \n",
    "print('Multiplicación de arrays:\\n', c)"
   ]
  },
  {
   "cell_type": "code",
   "execution_count": 13,
   "metadata": {},
   "outputs": [
    {
     "name": "stdout",
     "output_type": "stream",
     "text": [
      "Multiplicación de arrays:\n",
      " [[101. 102. 103.]\n",
      " [204. 205. 206.]]\n"
     ]
    }
   ],
   "source": [
    "# Dos matrices con misma forma de columnas\n",
    "\n",
    "a1 = np.array([[1.0, 2.0, 3.0], \n",
    "               [4.0, 5.0, 6.0]])\n",
    "a2 = np.array([[100.0], \n",
    "               [200.0]])\n",
    "c = a1 + a2 \n",
    "print('Multiplicación de arrays:\\n', c)"
   ]
  },
  {
   "cell_type": "code",
   "execution_count": 17,
   "metadata": {
    "collapsed": true,
    "jupyter": {
     "outputs_hidden": true
    }
   },
   "outputs": [
    {
     "ename": "ValueError",
     "evalue": "operands could not be broadcast together with shapes (3,2) (3,) ",
     "output_type": "error",
     "traceback": [
      "\u001b[1;31m---------------------------------------------------------------------------\u001b[0m",
      "\u001b[1;31mValueError\u001b[0m                                Traceback (most recent call last)",
      "Input \u001b[1;32mIn [17]\u001b[0m, in \u001b[0;36m<cell line: 7>\u001b[1;34m()\u001b[0m\n\u001b[0;32m      3\u001b[0m a1 \u001b[38;5;241m=\u001b[39m np\u001b[38;5;241m.\u001b[39marray([[\u001b[38;5;241m1.0\u001b[39m, \u001b[38;5;241m2.0\u001b[39m], \n\u001b[0;32m      4\u001b[0m                [\u001b[38;5;241m3.0\u001b[39m, \u001b[38;5;241m4.0\u001b[39m],\n\u001b[0;32m      5\u001b[0m                [\u001b[38;5;241m5.0\u001b[39m, \u001b[38;5;241m6.0\u001b[39m]]) \u001b[38;5;66;03m#Dejo una columna menos que a1\u001b[39;00m\n\u001b[0;32m      6\u001b[0m a2 \u001b[38;5;241m=\u001b[39m np\u001b[38;5;241m.\u001b[39marray([\u001b[38;5;241m100.0\u001b[39m, \u001b[38;5;241m200.0\u001b[39m, \u001b[38;5;241m300.0\u001b[39m]) \n\u001b[1;32m----> 7\u001b[0m c \u001b[38;5;241m=\u001b[39m \u001b[43ma1\u001b[49m\u001b[43m \u001b[49m\u001b[38;5;241;43m+\u001b[39;49m\u001b[43m \u001b[49m\u001b[43ma2\u001b[49m \n\u001b[0;32m      8\u001b[0m \u001b[38;5;28mprint\u001b[39m(\u001b[38;5;124m'\u001b[39m\u001b[38;5;124mMultiplicación de arrays:\u001b[39m\u001b[38;5;130;01m\\n\u001b[39;00m\u001b[38;5;124m'\u001b[39m, c)\n",
      "\u001b[1;31mValueError\u001b[0m: operands could not be broadcast together with shapes (3,2) (3,) "
     ]
    }
   ],
   "source": [
    "# Error de broadcasting\n",
    "\n",
    "a1 = np.array([[1.0, 2.0], \n",
    "               [3.0, 4.0],\n",
    "               [5.0, 6.0]]) #Dejo una columna menos que a2\n",
    "a2 = np.array([100.0, 200.0, 300.0]) \n",
    "c = a1 + a2 \n",
    "print('Multiplicación de arrays:\\n', c)"
   ]
  },
  {
   "cell_type": "code",
   "execution_count": 18,
   "metadata": {
    "collapsed": true,
    "jupyter": {
     "outputs_hidden": true
    }
   },
   "outputs": [
    {
     "ename": "ValueError",
     "evalue": "operands could not be broadcast together with shapes (2,3) (4,) ",
     "output_type": "error",
     "traceback": [
      "\u001b[1;31m---------------------------------------------------------------------------\u001b[0m",
      "\u001b[1;31mValueError\u001b[0m                                Traceback (most recent call last)",
      "Input \u001b[1;32mIn [18]\u001b[0m, in \u001b[0;36m<cell line: 6>\u001b[1;34m()\u001b[0m\n\u001b[0;32m      3\u001b[0m a1 \u001b[38;5;241m=\u001b[39m np\u001b[38;5;241m.\u001b[39marray([[\u001b[38;5;241m1.0\u001b[39m, \u001b[38;5;241m2.0\u001b[39m, \u001b[38;5;241m3.0\u001b[39m], \n\u001b[0;32m      4\u001b[0m                [\u001b[38;5;241m4.0\u001b[39m, \u001b[38;5;241m5.0\u001b[39m, \u001b[38;5;241m6.0\u001b[39m]]) \n\u001b[0;32m      5\u001b[0m a2 \u001b[38;5;241m=\u001b[39m np\u001b[38;5;241m.\u001b[39marray([\u001b[38;5;241m100.0\u001b[39m, \u001b[38;5;241m200.0\u001b[39m, \u001b[38;5;241m300.0\u001b[39m, \u001b[38;5;241m400.0\u001b[39m]) \u001b[38;5;66;03m#Agrego una columna mas que a1\u001b[39;00m\n\u001b[1;32m----> 6\u001b[0m c \u001b[38;5;241m=\u001b[39m \u001b[43ma1\u001b[49m\u001b[43m \u001b[49m\u001b[38;5;241;43m+\u001b[39;49m\u001b[43m \u001b[49m\u001b[43ma2\u001b[49m \n\u001b[0;32m      7\u001b[0m \u001b[38;5;28mprint\u001b[39m(\u001b[38;5;124m'\u001b[39m\u001b[38;5;124mMultiplicación de arrays:\u001b[39m\u001b[38;5;130;01m\\n\u001b[39;00m\u001b[38;5;124m'\u001b[39m, c)\n",
      "\u001b[1;31mValueError\u001b[0m: operands could not be broadcast together with shapes (2,3) (4,) "
     ]
    }
   ],
   "source": [
    "# Error de broadcasting\n",
    "\n",
    "a1 = np.array([[1.0, 2.0, 3.0], \n",
    "               [4.0, 5.0, 6.0]]) \n",
    "a2 = np.array([100.0, 200.0, 300.0, 400.0]) #Agrego una columna mas que a1\n",
    "c = a1 + a2 \n",
    "print('Multiplicación de arrays:\\n', c)"
   ]
  },
  {
   "cell_type": "markdown",
   "metadata": {},
   "source": [
    "Este último ejemplo se ilustra como:\n",
    "<figure>\n",
    " <img align=\"center\", src=\"./imagenes/03.jpg\", style=\"width:50%;\" >\n",
    "</figure>"
   ]
  },
  {
   "cell_type": "markdown",
   "metadata": {},
   "source": [
    "Las matrices no necesitan tener el mismo número de **dimensiones**. \n",
    "\n",
    "Por ejemplo, si tiene una matriz 256 x 256 x 3 (por ejemplo una imagen a color) y desea escalar cada color de la imagen por un valor diferente, puede multiplicar la imagen por una matriz unidimensional con 3 valores. La alineación de los tamaños de los ejes posteriores de estas matrices de acuerdo con las reglas de broadcastin muestra que son compatibles:\n",
    "\n",
    "```\n",
    "Image  (3d array): 256 x 256 x 3\n",
    "Scale  (1d array):             3\n",
    "Result (3d array): 256 x 256 x 3\n",
    "```\n",
    "Cuando alguna de las dimensiones comparadas es una, se utiliza la otra. En otras palabras, las dimensiones con tamaño 1 se estiran o \"copian\" para que coincidan con las otras.\n",
    "\n",
    "En el siguiente ejemplo, tanto las matrices A como B tienen ejes con longitud uno que se expanden a un tamaño mayor durante la operación de transmisión:\n",
    "\n",
    "```\n",
    "A      (4d array):  8 x 1 x 6 x 1\n",
    "B      (3d array):      7 x 1 x 5\n",
    "Result (4d array):  8 x 7 x 6 x 5\n",
    "```\n",
    "\n",
    "El broadcasting proporciona una forma conveniente de tomar el producto externo (o cualquier otra operación externa) de dos arreglos. El siguiente ejemplo muestra una operación de suma externa de dos matrices unidimensionales:"
   ]
  },
  {
   "cell_type": "code",
   "execution_count": 20,
   "metadata": {},
   "outputs": [
    {
     "name": "stdout",
     "output_type": "stream",
     "text": [
      "Forma de A:  (4,)\n",
      "Forma de B:  (3,)\n",
      "Resultado C: \n",
      " [[ 1.  2.  3.]\n",
      " [11. 12. 13.]\n",
      " [21. 22. 23.]\n",
      " [31. 32. 33.]]\n",
      "Forma de C:  (4, 3)\n"
     ]
    }
   ],
   "source": [
    "A = np.array([0.0, 10.0, 20.0, 30.0])\n",
    "B = np.array([1.0, 2.0, 3.0])\n",
    "C = A[:, np.newaxis] + B\n",
    "\n",
    "print('Forma de A: ', A.shape)\n",
    "print('Forma de B: ', B.shape)\n",
    "print('Resultado C: \\n', C)\n",
    "print('Forma de C: ', C.shape)"
   ]
  },
  {
   "cell_type": "markdown",
   "metadata": {},
   "source": [
    "Gráficamente, el ejemplo anterior es:\n",
    "\n",
    "<figure>\n",
    " <img align=\"center\", src=\"./imagenes/04.jpg\", style=\"width:50%;\" >\n",
    "</figure>"
   ]
  },
  {
   "cell_type": "markdown",
   "metadata": {},
   "source": [
    "### Resumen\n",
    "\n",
    "Para cualquier operación de matrices\n",
    "\n",
    "| DIMENSIÓN MATRIZ A | DIMENSIÓN MATRIZ B | DIMENSIÓN FINAL |\n",
    "| --- | --- | --- |\n",
    "| (m, n) | (1, n) | (m, n) |\n",
    "| (m, n) | (m, 1) | (m, n) |\n",
    "| (m, 1) | (1, 1) | (m, 1) |\n",
    "| (1, n) | (1, 1) | (1, n) |"
   ]
  }
 ],
 "metadata": {
  "kernelspec": {
   "display_name": "Python [conda env:.conda-principiante]",
   "language": "python",
   "name": "conda-env-.conda-principiante-py"
  },
  "language_info": {
   "codemirror_mode": {
    "name": "ipython",
    "version": 3
   },
   "file_extension": ".py",
   "mimetype": "text/x-python",
   "name": "python",
   "nbconvert_exporter": "python",
   "pygments_lexer": "ipython3",
   "version": "3.10.4"
  }
 },
 "nbformat": 4,
 "nbformat_minor": 4
}
