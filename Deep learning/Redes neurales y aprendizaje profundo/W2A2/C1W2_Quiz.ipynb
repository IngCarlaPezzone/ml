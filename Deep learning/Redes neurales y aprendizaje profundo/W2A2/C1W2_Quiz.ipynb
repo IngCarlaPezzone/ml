{
 "cells": [
  {
   "cell_type": "code",
   "execution_count": 1,
   "metadata": {},
   "outputs": [],
   "source": [
    "import numpy as np"
   ]
  },
  {
   "cell_type": "markdown",
   "metadata": {},
   "source": [
    "# Quiz: Neural Network Basics"
   ]
  },
  {
   "cell_type": "markdown",
   "metadata": {},
   "source": [
    "<font size=\"2\" color=\"red\"><b> PREGUNTA 1 </b></font>\n",
    "\n",
    "¿Qué calcula una neurona?\n",
    "\n",
    "- Una neurona calcula una función lineal ($z = Wx + b$) seguida de una función de activación\n",
    "- Una neurona calcula una función de activación seguida de una función lineal ($z = Wx + b$)\n",
    "- Una neurona calcula una función g que escala la entrada x linealmente ($Wx + b$)\n",
    "- Una neurona calcula la media de todas las características antes de aplicar la salida a una función de activación\n",
    "\n",
    "<details>\n",
    "   <summary><font size=\"2\" color=\"darkblue\"><b> Click para la respuesta</b></font></summary>\n",
    "\n",
    "Respuesta: Una neurona calcula una función lineal ($z = Wx + b$) seguida de una función de activación.\n",
    "    \n",
    "Correcto, generalmente decimos que la salida de una neurona es a = g($Wx + b$) donde g es la función de activación (sigmoide, tanh, ReLU, ...)."
   ]
  },
  {
   "cell_type": "markdown",
   "metadata": {},
   "source": [
    "<font size=\"2\" color=\"red\"><b> PREGUNTA 2 </b></font>\n",
    "\n",
    "¿Cuál de ellas es la \"Pérdida Logística\"?\n",
    "\n",
    "- $\\mathcal{L}^{(i)}(\\hat{y}^{(i)}, y^{(i)}) = -( y^{(i)}log(\\hat{y}^{(i)}) + (1- y^{(i)})\\log(1-\\hat{y}^{(i)})$\n",
    "- $\\mathcal{L}^{(i)}(\\hat{y}^{(i)}, y^{(i)}) = \\mid y^{(i)} - \\hat{y}^{(i)} \\mid^{2}$\n",
    "- $\\mathcal{L}^{(i)}(\\hat{y}^{(i)}, y^{(i)}) = max(0, y^{(i)} - \\hat{y}^{(i)})$\n",
    "- $\\mathcal{L}^{(i)}(\\hat{y}^{(i)}, y^{(i)}) = \\mid y^{(i)} - \\hat{y}^{(i)} \\mid$\n",
    "\n",
    "<details>\n",
    "   <summary><font size=\"2\" color=\"darkblue\"><b> Click para la respuesta</b></font></summary>\n",
    "\n",
    "Respuesta: $\\mathcal{L}^{(i)}(\\hat{y}^{(i)}, y^{(i)}) = -( y^{(i)}log(\\hat{y}^{(i)}) + (1- y^{(i)})\\log(1-\\hat{y}^{(i)})$."
   ]
  },
  {
   "cell_type": "markdown",
   "metadata": {},
   "source": [
    "#### <font size=\"2\" color=\"red\"><b> PREGUNTA 3 </b></font>\n",
    "\n",
    "Supongamos que img es un array (32,32,3), que representa una imagen de 32x32 con 3 canales de color rojo, verde y azul. ¿Cómo se transforma en un vector columna?\n",
    "\n",
    "- `x = img.reshape((1,32*32,*3))`\n",
    "- `x = img.reshape((3,32*32))`\n",
    "- `x = img.reshape((32*32*3,1))`\n",
    "- `x = img.reshape((32*32,3))`\n",
    "\n",
    "<details>\n",
    "   <summary><font size=\"2\" color=\"darkblue\"><b> Click para la respuesta</b></font></summary>\n",
    "\n",
    "Respuesta: x = img.reshape((32*32*3,1))."
   ]
  },
  {
   "cell_type": "code",
   "execution_count": 13,
   "metadata": {
    "collapsed": true,
    "jupyter": {
     "outputs_hidden": true
    }
   },
   "outputs": [
    {
     "name": "stdout",
     "output_type": "stream",
     "text": [
      "MATRIZ ORIGINAL\n",
      " [[[0.17702205 0.79465128 0.13076783 0.85263709 0.6827936 ]\n",
      "  [0.41937077 0.05531012 0.67371678 0.33112755 0.04329919]\n",
      "  [0.34249333 0.12876406 0.65082568 0.29653049 0.70995969]\n",
      "  [0.40226313 0.21332217 0.57006539 0.42005369 0.44440336]\n",
      "  [0.50796195 0.75296741 0.53899605 0.961599   0.95497066]]\n",
      "\n",
      " [[0.845249   0.79066947 0.35988893 0.32311319 0.79589107]\n",
      "  [0.90025573 0.18430013 0.10666706 0.56134678 0.2812283 ]\n",
      "  [0.48872698 0.12570217 0.7647622  0.17508552 0.48598573]\n",
      "  [0.75204917 0.39096835 0.57729356 0.88280575 0.26429217]\n",
      "  [0.40287177 0.07184148 0.020895   0.54252273 0.96181506]]\n",
      "\n",
      " [[0.33116203 0.45398608 0.22693185 0.30996073 0.27554085]\n",
      "  [0.24140769 0.02022224 0.71092491 0.32899773 0.84792073]\n",
      "  [0.92062986 0.2330728  0.96315757 0.91455664 0.40608264]\n",
      "  [0.84475065 0.05808597 0.87686383 0.16200634 0.94524903]\n",
      "  [0.69278628 0.49595855 0.4671054  0.29641422 0.81544736]]]\n",
      "\n",
      "MATRIZ REFORMADA\n",
      " [[0.64009463 0.54268284 0.54430927]\n",
      " [0.78199549 0.19523862 0.91747291]\n",
      " [0.82476244 0.73075248 0.74061298]\n",
      " [0.87295098 0.25755476 0.70085874]\n",
      " [0.28797663 0.04920695 0.19211075]\n",
      " [0.74989585 0.72348665 0.48949425]\n",
      " [0.18728088 0.89190895 0.05278719]\n",
      " [0.91074828 0.20263454 0.77319705]\n",
      " [0.05091036 0.78303554 0.28790213]\n",
      " [0.62635964 0.05554942 0.67071907]\n",
      " [0.42213593 0.94943055 0.01728974]\n",
      " [0.22372534 0.39929923 0.31431661]\n",
      " [0.78789363 0.82716414 0.52805091]\n",
      " [0.67706694 0.7047535  0.26145763]\n",
      " [0.36618323 0.76345753 0.71703914]\n",
      " [0.11144628 0.3243493  0.26441391]\n",
      " [0.78318041 0.13134716 0.51725224]\n",
      " [0.50194764 0.85456515 0.58318946]\n",
      " [0.16638714 0.71612657 0.29188864]\n",
      " [0.98111934 0.17837435 0.77559963]\n",
      " [0.17428133 0.40705685 0.28239242]\n",
      " [0.68499574 0.47264527 0.21329278]\n",
      " [0.74621017 0.52353736 0.87895353]\n",
      " [0.43694245 0.87531036 0.5538918 ]\n",
      " [0.47641511 0.37214126 0.29804014]]\n"
     ]
    }
   ],
   "source": [
    "# Definimos img\n",
    "img = np.random.rand(3,5,5)\n",
    "print('MATRIZ ORIGINAL\\n', img)\n",
    "# Reformamos según las opciones del ejercicio\n",
    "#x = img.reshape((1,5*5,*3))    #Da error\n",
    "#x = img.reshape((3,5*5))       #Reforma 3 matrices de 1x25\n",
    "#x = img.reshape((5*5*3,1))     #Reforma a vector columna\n",
    "#x = img.reshape((5*5,3))       #Reforma 25 matrices de 1x3\n",
    "print('\\nMATRIZ REFORMADA\\n', x)"
   ]
  },
  {
   "cell_type": "markdown",
   "metadata": {},
   "source": [
    "<font size=\"2\" color=\"red\"><b> PREGUNTA 4 </b></font>\n",
    "\n",
    "Considera las dos siguientes matrices aleatorias aa y bb:\n",
    "\n",
    "```python\n",
    "a = np.random.randn(2, 3) # a.shape = (2, 3)\n",
    "b = np.random.randn(2, 1) # b.shape = (2, 1)\n",
    "c = a + b\n",
    "```\n",
    "\n",
    "¿Cuál será la forma de cc?\n",
    "\n",
    "- `c.shape = (2, 3)`\n",
    "- `c.shape = (3, 2)`\n",
    "- `c.shape = (2, 1)`\n",
    "- El cálculo no puede realizarse porque los tamaños no coinciden. ¡Va a ser \"Error\"!\n",
    "\n",
    "<details>\n",
    "   <summary><font size=\"2\" color=\"darkblue\"><b> Click para la respuesta</b></font></summary>\n",
    "\n",
    "Respuesta: `c.shape = (2, 3)`.\n",
    "    \n",
    "Correcto, Esto es el broadcasting. b (vector de columnas) se copia 3 veces para que se pueda sumar a cada columna de a."
   ]
  },
  {
   "cell_type": "code",
   "execution_count": 17,
   "metadata": {
    "collapsed": true,
    "jupyter": {
     "outputs_hidden": true
    }
   },
   "outputs": [
    {
     "name": "stdout",
     "output_type": "stream",
     "text": [
      "LA MATRIZ ES: \n",
      " [[-1.86478647 -1.60989898 -1.59048293]\n",
      " [ 0.52122694  0.04771246  1.34663855]]\n",
      "\n",
      "LA FORMA ES: \n",
      " (2, 3)\n"
     ]
    }
   ],
   "source": [
    "a = np.random.randn(2, 3) # a.shape = (2, 3)\n",
    "b = np.random.randn(2, 1) # b.shape = (2, 1)\n",
    "c = a + b\n",
    "print('LA MATRIZ ES: \\n', c)\n",
    "print('\\nLA FORMA ES: \\n', c.shape)"
   ]
  },
  {
   "cell_type": "markdown",
   "metadata": {},
   "source": [
    "<font size=\"2\" color=\"red\"><b> PREGUNTA 5 </b></font>\n",
    "\n",
    "Considere las dos siguientes matrices aleatorias aa y bb:\n",
    "\n",
    "```python\n",
    "a = np.random.randn(4, 3) # a.shape = (4, 3)\n",
    "b = np.random.randn(3, 2) # b.shape = (3, 2)\n",
    "c = a*b\n",
    "```\n",
    "\n",
    "¿Cuál será la forma de cc?\n",
    "\n",
    "- `c.shape = (3,3)`\n",
    "- `c.shape = (4,3)`\n",
    "- `c.shape = (4,2)`\n",
    "- El cálculo no puede realizarse porque los tamaños no coinciden. ¡Va a ser \"Error\"!\n",
    "\n",
    "<details>\n",
    "   <summary><font size=\"2\" color=\"darkblue\"><b> Click para la respuesta</b></font></summary>\n",
    "\n",
    "Respuesta: El cálculo no puede realizarse porque los tamaños no coinciden. ¡Va a ser \"Error\"!.\n",
    "    \n",
    "Correcto, Efectivamente. En numpy el operador \"*\" indica la multiplicación por elementos. Es diferente de \"`np.dot()`\". Si intentaras \"`c = np.dot(a,b)`\" obtendrías `c.shape = (4, 2)`."
   ]
  },
  {
   "cell_type": "code",
   "execution_count": 18,
   "metadata": {
    "collapsed": true,
    "jupyter": {
     "outputs_hidden": true
    }
   },
   "outputs": [
    {
     "ename": "ValueError",
     "evalue": "operands could not be broadcast together with shapes (4,3) (3,2) ",
     "output_type": "error",
     "traceback": [
      "\u001b[1;31m---------------------------------------------------------------------------\u001b[0m",
      "\u001b[1;31mValueError\u001b[0m                                Traceback (most recent call last)",
      "Input \u001b[1;32mIn [18]\u001b[0m, in \u001b[0;36m<cell line: 3>\u001b[1;34m()\u001b[0m\n\u001b[0;32m      1\u001b[0m a \u001b[38;5;241m=\u001b[39m np\u001b[38;5;241m.\u001b[39mrandom\u001b[38;5;241m.\u001b[39mrandn(\u001b[38;5;241m4\u001b[39m, \u001b[38;5;241m3\u001b[39m) \u001b[38;5;66;03m# a.shape = (4, 3)\u001b[39;00m\n\u001b[0;32m      2\u001b[0m b \u001b[38;5;241m=\u001b[39m np\u001b[38;5;241m.\u001b[39mrandom\u001b[38;5;241m.\u001b[39mrandn(\u001b[38;5;241m3\u001b[39m, \u001b[38;5;241m2\u001b[39m) \u001b[38;5;66;03m# b.shape = (3, 2)\u001b[39;00m\n\u001b[1;32m----> 3\u001b[0m c \u001b[38;5;241m=\u001b[39m \u001b[43ma\u001b[49m\u001b[38;5;241;43m*\u001b[39;49m\u001b[43mb\u001b[49m\n\u001b[0;32m      4\u001b[0m \u001b[38;5;28mprint\u001b[39m(\u001b[38;5;124m'\u001b[39m\u001b[38;5;124mLA MATRIZ ES: \u001b[39m\u001b[38;5;130;01m\\n\u001b[39;00m\u001b[38;5;124m'\u001b[39m, c)\n\u001b[0;32m      5\u001b[0m \u001b[38;5;28mprint\u001b[39m(\u001b[38;5;124m'\u001b[39m\u001b[38;5;130;01m\\n\u001b[39;00m\u001b[38;5;124mLA FORMA ES: \u001b[39m\u001b[38;5;130;01m\\n\u001b[39;00m\u001b[38;5;124m'\u001b[39m, c\u001b[38;5;241m.\u001b[39mshape)\n",
      "\u001b[1;31mValueError\u001b[0m: operands could not be broadcast together with shapes (4,3) (3,2) "
     ]
    }
   ],
   "source": [
    "a = np.random.randn(4, 3) # a.shape = (4, 3)\n",
    "b = np.random.randn(3, 2) # b.shape = (3, 2)\n",
    "c = a*b\n",
    "print('LA MATRIZ ES: \\n', c)\n",
    "print('\\nLA FORMA ES: \\n', c.shape)"
   ]
  },
  {
   "cell_type": "markdown",
   "metadata": {},
   "source": [
    "<font size=\"2\" color=\"red\"><b> PREGUNTA 6 </b></font>\n",
    "\n",
    "Supón que tienes $n_x$ características de entrada por ejemplo. Recordemos que $X = [x^{(1)} x^{(2)} ... x^{(m)}]$. ¿Cuál es la dimensión de $X$? \n",
    "\n",
    "- $(1,m)$\n",
    "- $(m,n_x)$\n",
    "- $(n_x, m)$\n",
    "- $(m,1)$\n",
    "\n",
    "<details>\n",
    "   <summary><font size=\"2\" color=\"darkblue\"><b> Click para la respuesta</b></font></summary>\n",
    "\n",
    "Respuesta: $(n_x, m)$."
   ]
  },
  {
   "cell_type": "markdown",
   "metadata": {},
   "source": [
    "<font size=\"2\" color=\"red\"><b> PREGUNTA 7 </b></font>\n",
    "\n",
    "Recuerda que `np.dot(a,b)` realiza una multiplicación matricial sobre $a$ y $b$, mientras que `a*b` realiza una multiplicación por elementos.\n",
    "\n",
    "Consideremos las dos siguientes matrices aleatorias $a$ y $b$:\n",
    "\n",
    "```python\n",
    "a = np.random.randn(12288, 150) # a.shape = (12288, 150)\n",
    "b = np.random.randn(150, 45) # b.shape = (150, 45)\n",
    "c = np.dot(a,b)\n",
    "```\n",
    "\n",
    "¿Cuál es la forma de cc?\n",
    "\n",
    "- `c.shape = (12288, 45)`\n",
    "- `c.shape = (12288, 150)`\n",
    "- El cálculo no puede realizarse porque los tamaños no coinciden. Se producirá un \"error\".\n",
    "- `c.shape = (150,150)`\n",
    "\n",
    "<details>\n",
    "   <summary><font size=\"2\" color=\"darkblue\"><b> Click para la respuesta</b></font></summary>\n",
    "\n",
    "Respuesta: `c.shape = (12288, 45)`.\n",
    "    \n",
    "Correcto, recuerda que un `np.dot(a, b)` tiene forma (número de filas de $a$, número de columnas de $b$). Los tamaños coinciden porque: \"número de columnas de a = 150 = número de filas de b\"."
   ]
  },
  {
   "cell_type": "code",
   "execution_count": 19,
   "metadata": {
    "collapsed": true,
    "jupyter": {
     "outputs_hidden": true
    }
   },
   "outputs": [
    {
     "name": "stdout",
     "output_type": "stream",
     "text": [
      "\n",
      "LA FORMA ES: \n",
      " (12288, 45)\n"
     ]
    }
   ],
   "source": [
    "a = np.random.randn(12288, 150) # a.shape = (12288, 150)\n",
    "b = np.random.randn(150, 45) # b.shape = (150, 45)\n",
    "c = np.dot(a,b)\n",
    "print('\\nLA FORMA ES: \\n', c.shape)"
   ]
  },
  {
   "cell_type": "markdown",
   "metadata": {},
   "source": [
    "<font size=\"2\" color=\"red\"><b> PREGUNTA 8 </b></font>\n",
    "\n",
    "Considere el siguiente fragmento de código:\n",
    "\n",
    "```python\n",
    "# a.shape = (3,4)a.shape=(3,4)\n",
    "# b.shape = (4,1)b.shape=(4,1)\n",
    "\n",
    "para i en rango(3):\n",
    "     for j in range(4):\n",
    "          c[i][j] = a[i][j] + b[j]c[i][j]=a[i][j]+b[j] \n",
    "```\n",
    "\n",
    "¿Cómo se vectoriza esto?\n",
    "\n",
    "- c = a.T + b.T\n",
    "- c = a + b.T\n",
    "- c = a + b\n",
    "- c = a.T + b\n",
    "\n",
    "<details>\n",
    "   <summary><font size=\"2\" color=\"darkblue\"><b> Click para la respuesta</b></font></summary>\n",
    "\n",
    "Respuesta: c = a + b.T.\n",
    "   "
   ]
  },
  {
   "cell_type": "markdown",
   "metadata": {},
   "source": [
    "<font size=\"2\" color=\"red\"><b> PREGUNTA 9 </b></font>\n",
    "\n",
    "¿Qué calcula una neurona?\n",
    "\n",
    "Considera el siguiente código:\n",
    "\n",
    "```python\n",
    "a = np.random.randn(3, 3)\n",
    "b = np.random.randn(3, 1)\n",
    "c = a*b\n",
    "```\n",
    "\n",
    "¿Qué será $c$? (Si no estás seguro, no dudes en ejecutar esto en python para averiguarlo).\n",
    "\n",
    "- Se producirá un error ya que no se puede utilizar \"*\" para operar en estas dos matrices. En su lugar, debe utilizar `np.dot(a,b)`.\n",
    "- Esto invocará la difusión, por lo que b se copia tres veces para convertirse en (3,3), y * es un producto elemento a elemento por lo que `c.shape` será (3, 3).\n",
    "- Esto multiplicará una matriz 3x3 a con un vector 3x1, resultando así un vector 3x1. Es decir, `c.shape = (3,1)`. \n",
    "- Esto invocará la emisión, por lo que b se copia tres veces para convertirse en (3, 3), y * invoca una operación de multiplicación matricial de dos matrices de 3x3 por lo que `c.shape` será (3, 3)\n",
    "\n",
    "\n",
    "<details>\n",
    "   <summary><font size=\"2\" color=\"darkblue\"><b> Click para la respuesta</b></font></summary>\n",
    "\n",
    "Respuesta: Esto invocará la difusión, por lo que b se copia tres veces para convertirse en $(3,3)$, y * es un producto elemento a elemento por lo que `c.shape` será $(3, 3)$."
   ]
  },
  {
   "cell_type": "code",
   "execution_count": 20,
   "metadata": {
    "collapsed": true,
    "jupyter": {
     "outputs_hidden": true
    }
   },
   "outputs": [
    {
     "data": {
      "text/plain": [
       "array([[-1.08523426,  0.7630263 ,  1.00381342],\n",
       "       [ 0.04198414,  4.95701368,  2.73104859],\n",
       "       [-0.6255174 ,  0.04022646,  0.37150006]])"
      ]
     },
     "execution_count": 20,
     "metadata": {},
     "output_type": "execute_result"
    }
   ],
   "source": [
    "a = np.random.randn(3, 3)\n",
    "b = np.random.randn(3, 1)\n",
    "c = a*b\n",
    "c"
   ]
  },
  {
   "cell_type": "markdown",
   "metadata": {},
   "source": [
    "<font size=\"2\" color=\"red\"><b> PREGUNTA 10 </b></font>\n",
    "\n",
    "Considere el siguiente gráfico de cálculo.\n",
    "\n",
    "<figure>\n",
    " <img align=\"center\", src=\"./EjercicioQuiz.jpg\", style=\"width:60%;\" >\n",
    "</figure>\n",
    "\n",
    "\n",
    "¿Cuál es la salida J?\n",
    "\n",
    "- $J = (a - 1) * (b + c)$\n",
    "- $J = (c - 1)*(b + a)$\n",
    "- $J = a*b + b*c + a*c$\n",
    "- $J = (b - 1) * (c + a)$\n",
    "\n",
    "<details>\n",
    "   <summary><font size=\"2\" color=\"darkblue\"><b> Click para la respuesta</b></font></summary>\n",
    "\n",
    "Respuesta: $J = (a - 1) * (b + c)$\n",
    "\n",
    "J = u + v - w \n",
    "  = a*b + a*c - (b + c) \n",
    "  = a * (b + c) - (b + c) \n",
    "  = (a - 1) * (b + c)\n"
   ]
  }
 ],
 "metadata": {
  "kernelspec": {
   "display_name": "Python [conda env:.conda-mlenv]",
   "language": "python",
   "name": "conda-env-.conda-mlenv-py"
  },
  "language_info": {
   "codemirror_mode": {
    "name": "ipython",
    "version": 3
   },
   "file_extension": ".py",
   "mimetype": "text/x-python",
   "name": "python",
   "nbconvert_exporter": "python",
   "pygments_lexer": "ipython3",
   "version": "3.10.4"
  }
 },
 "nbformat": 4,
 "nbformat_minor": 4
}
