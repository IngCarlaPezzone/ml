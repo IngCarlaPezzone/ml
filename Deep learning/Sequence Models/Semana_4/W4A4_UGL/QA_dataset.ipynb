{
 "cells": [
  {
   "cell_type": "markdown",
   "metadata": {
    "id": "TBjVwYpHJ7ra"
   },
   "source": [
    "# Aplicación de la Red de Transformers: Respuesta a las preguntas\n",
    "\n",
    "Bienvenidos al tercer laboratorio de la semana 4, ¡y el último del curso! Enhorabuena por haber llegado hasta aquí. En este cuaderno explorarás otra aplicación de la arquitectura de transformadores que construiste.\n",
    "\n",
    "**Después de esta tarea serás capaz de**:\n",
    "\n",
    "* Realizar respuestas extractivas a preguntas \n",
    "* Ajustar un modelo de transformador preentrenado a un conjunto de datos personalizado\n",
    "* Implementar un modelo de QA en TensorFlow y PyTorch\n",
    "\n",
    "<details><summary><font size=\"2\" color=\"darkblue\"><b> Texto Original </b></font></summary>\n",
    "\n",
    "# Transformer Network Application: Question Answering\n",
    "\n",
    "Welcome to Week 4's third, and the last lab of the course! Congratulations on making it this far. In this notebook you'll explore another application of the transformer architecture that you built.\n",
    "\n",
    "**After this assignment you'll be able to**:\n",
    "\n",
    "* Perform extractive Question Answering \n",
    "* Fine-tune a pre-trained transformer model to a custom dataset\n",
    "* Implement a QA model in TensorFlow and PyTorch"
   ]
  },
  {
   "cell_type": "markdown",
   "metadata": {
    "id": "SoRb7ykXJ_C4"
   },
   "source": [
    "## Table of Contents\n",
    "\n",
    "\n",
    "- [1 - Extractive Question Answering](#1)\n",
    "    - [1.1 - Data Cleaning](#1-1)\n",
    "    - [1.2 - Tokenize and Align Labels with 🤗 Library](#1-2)\n",
    "- [2 - Training](#2)\n",
    "    - [2.1 TensorFlow implementation](#2-1)\n",
    "    - [2.2 PyTorch implementation](#2-2)\n"
   ]
  },
  {
   "cell_type": "markdown",
   "metadata": {
    "id": "C0k56ZVXLDbi"
   },
   "source": [
    "<a name='1'></a>\n",
    "## 1 - Respuesta a preguntas extractivas\n",
    "\n",
    "La respuesta a preguntas (QA) es una tarea de procesamiento de lenguaje natural que tiene como objetivo responder preguntas automáticamente. El objetivo del control de calidad *extractivo* es identificar la parte del texto que contiene la respuesta a una pregunta. Por ejemplo, cuando se le pide que responda la pregunta \"When will Jane go to Africa?\" dados los datos de texto 'Jane visits Africa in September', el modelo de respuesta a preguntas resaltará 'September'.\n",
    "\n",
    "* Usarás una variación del modelo de Transformer que construiste en la última tarea para responder preguntas sobre historias.\n",
    "* Implementarás un modelo de control de calidad extractivo en TensorFlow y en PyTorch.\n",
    "\n",
    "**Recomendación:**\n",
    "* Si está interesado, consulte el [Curso 4: Procesamiento del lenguaje natural con modelos de atención] (https://www.coursera.org/learn/attention-models-in-nlp/home/welcome) de nuestro [Curso de lenguaje natural Especialización en procesamiento](https://www.coursera.org/specializations/natural-language-processing?=) donde puede aprender a construir Transformers y realizar control de calidad usando [Trax](https://trax.readthedocs.io /es/ultimos/) biblioteca.\n",
    "\n",
    "<un nombre='1-1'></a>\n",
    "### 1.1 - Preprocesamiento de datos\n",
    "\n",
    "Ejecute la siguiente celda para cargar el [conjunto de datos QA bAbI](https://research.fb.com/downloads/babi/), que es uno de los conjuntos de datos bAbI generados por Facebook AI Research para avanzar en el procesamiento del lenguaje natural.\n",
    "\n",
    "<details><summary><font size=\"2\" color=\"darkblue\"><b> Texto Original </b></font></summary>\n",
    "\n",
    "<a name='1'></a>\n",
    "## 1 - Extractive Question Answering\n",
    "\n",
    "Question answering (QA) is a task of natural language processing that aims to automatically answer questions. The goal of *extractive* QA is to identify the portion of the text that contains the answer to a question. For example, when tasked with answering the question 'When will Jane go to Africa?' given the text data 'Jane visits Africa in September', the question answering model will highlight 'September'.\n",
    "\n",
    "* You will use a variation of the Transformer model you built in the last assignment to answer questions about stories.\n",
    "* You will implement extractive QA model in TensorFlow and in PyTorch.\n",
    "\n",
    "**Recommendation:**\n",
    "* If you are interested, check out the [Course 4: Natural Language Processing with Attention Models](https://www.coursera.org/learn/attention-models-in-nlp/home/welcome) of our [Natural Language Processing Specialization](https://www.coursera.org/specializations/natural-language-processing?=) where you can learn how to build Transformers and perform QA using the [Trax](https://trax.readthedocs.io/en/latest/) library. \n",
    "\n",
    "<a name='1-1'></a>\n",
    "### 1.1 - Data preprocessing\n",
    "\n",
    "Run the following cell to load the [QA bAbI dataset](https://research.fb.com/downloads/babi/), which is one of the bAbI datasets generated by Facebook AI Research to advance natural language processing."
   ]
  },
  {
   "cell_type": "code",
   "execution_count": 1,
   "metadata": {
    "colab": {
     "base_uri": "https://localhost:8080/"
    },
    "id": "XxU0G_PYLSXJ",
    "outputId": "44e7877f-5c33-45fc-ed83-3aa4920dcc40"
   },
   "outputs": [
    {
     "name": "stdout",
     "output_type": "stream",
     "text": [
      "{'story': {'answer': ['', '', 'office'], 'id': ['1', '2', '3'], 'supporting_ids': [[], [], ['1']], 'text': ['The office is north of the kitchen.', 'The garden is south of the kitchen.', 'What is north of the kitchen?'], 'type': [0, 0, 1]}}\n"
     ]
    }
   ],
   "source": [
    "from datasets import load_from_disk\n",
    "\n",
    "# Load a dataset and print the first example in the training set\n",
    "babi_dataset = load_from_disk('data/')\n",
    "print(babi_dataset['train'][0])"
   ]
  },
  {
   "cell_type": "markdown",
   "metadata": {
    "id": "XJwacC3bMhZM"
   },
   "source": [
    "Fíjate en el formato de los datos. Para una historia determinada, hay dos frases que sirven de contexto, y una pregunta. Cada una de estas frases tiene un ID. También hay un ID de hecho de apoyo que se refiere a una frase de la historia que ayuda a responder a la pregunta. Por ejemplo, para la pregunta \"¿Qué hay al este del pasillo?\", el hecho de apoyo \"El dormitorio está al este del pasillo\" tiene el ID \"2\". También existe la respuesta \"dormitorio\" para la pregunta.\n",
    "\n",
    "<details><summary><font size=\"2\" color=\"darkblue\"><b> Texto Original </b></font></summary>\n",
    "\n",
    "Take a look at the format of the data. For a given story, there are two sentences which serve as the context, and one question. Each of these phrases has an ID. There is also a supporting fact ID which refers to a sentence in the story that helps answer the question. For example, for the question 'What is east of the hallway?', the supporting fact 'The bedroom is east of the hallway' has the ID '2'. There is also the answer, 'bedroom' for the question."
   ]
  },
  {
   "cell_type": "code",
   "execution_count": 2,
   "metadata": {
    "colab": {
     "base_uri": "https://localhost:8080/"
    },
    "id": "aizPXfGlLZ1D",
    "outputId": "0e1d47bc-9c1a-458a-983e-22f47f8184bd"
   },
   "outputs": [
    {
     "data": {
      "text/plain": [
       "{'story': {'answer': ['', '', 'bedroom'],\n",
       "  'id': ['1', '2', '3'],\n",
       "  'supporting_ids': [[], [], ['2']],\n",
       "  'text': ['The bedroom is west of the office.',\n",
       "   'The bedroom is east of the hallway.',\n",
       "   'What is east of the hallway?'],\n",
       "  'type': [0, 0, 1]}}"
      ]
     },
     "execution_count": 2,
     "metadata": {},
     "output_type": "execute_result"
    }
   ],
   "source": [
    "babi_dataset['train'][102]"
   ]
  },
  {
   "cell_type": "markdown",
   "metadata": {
    "id": "ewtXZUPjMm2l"
   },
   "source": [
    "Comprueba si todo el conjunto de datos de las historias tiene este formato.\n",
    "\n",
    "<details><summary><font size=\"2\" color=\"darkblue\"><b> Texto Original </b></font></summary>\n",
    "\n",
    "Check and see if the entire dataset of stories has this format."
   ]
  },
  {
   "cell_type": "code",
   "execution_count": 3,
   "metadata": {
    "id": "55BSWxwuM1hN"
   },
   "outputs": [],
   "source": [
    "type_set = set()\n",
    "for story in babi_dataset['train']:\n",
    "    if str(story['story']['type'] )not in type_set:\n",
    "        type_set.add(str(story['story']['type'] ))"
   ]
  },
  {
   "cell_type": "code",
   "execution_count": 4,
   "metadata": {
    "colab": {
     "base_uri": "https://localhost:8080/"
    },
    "id": "bdJ8VMF1UT7S",
    "outputId": "2b959467-75e8-4e25-e7bb-481b657a2fce"
   },
   "outputs": [
    {
     "data": {
      "text/plain": [
       "{'[0, 0, 1]'}"
      ]
     },
     "execution_count": 4,
     "metadata": {},
     "output_type": "execute_result"
    }
   ],
   "source": [
    "type_set"
   ]
  },
  {
   "cell_type": "markdown",
   "metadata": {
    "id": "JsHx1tcyMq_k"
   },
   "source": [
    "Para facilitar el trabajo con los datos, se aplanará el conjunto de datos para transformarlo de una estructura de diccionario a una estructura de tabla.\n",
    "\n",
    "<details><summary><font size=\"2\" color=\"darkblue\"><b> Texto Original </b></font></summary>\n",
    "\n",
    "To make the data easier to work with, you will flatten the dataset to transform it from a dictionary structure to a table structure."
   ]
  },
  {
   "cell_type": "code",
   "execution_count": 5,
   "metadata": {
    "id": "YxixFI-pVOK9"
   },
   "outputs": [],
   "source": [
    "flattened_babi = babi_dataset.flatten()"
   ]
  },
  {
   "cell_type": "code",
   "execution_count": 6,
   "metadata": {
    "colab": {
     "base_uri": "https://localhost:8080/"
    },
    "id": "kXU43CqCdX98",
    "outputId": "e968ff5e-0db0-4e9d-e1e9-e93f965b2582"
   },
   "outputs": [
    {
     "data": {
      "text/plain": [
       "DatasetDict({\n",
       "    train: Dataset({\n",
       "        features: ['story.answer', 'story.id', 'story.supporting_ids', 'story.text', 'story.type'],\n",
       "        num_rows: 1000\n",
       "    })\n",
       "    test: Dataset({\n",
       "        features: ['story.answer', 'story.id', 'story.supporting_ids', 'story.text', 'story.type'],\n",
       "        num_rows: 1000\n",
       "    })\n",
       "})"
      ]
     },
     "execution_count": 6,
     "metadata": {},
     "output_type": "execute_result"
    }
   ],
   "source": [
    "flattened_babi"
   ]
  },
  {
   "cell_type": "code",
   "execution_count": 7,
   "metadata": {
    "colab": {
     "base_uri": "https://localhost:8080/"
    },
    "id": "OQw59MgT6Luh",
    "outputId": "ea5eac53-027e-42d3-d19f-98ed7863de2b"
   },
   "outputs": [
    {
     "data": {
      "text/plain": [
       "{'story.answer': ['', '', 'office'],\n",
       " 'story.id': ['1', '2', '3'],\n",
       " 'story.supporting_ids': [[], [], ['1']],\n",
       " 'story.text': ['The office is north of the kitchen.',\n",
       "  'The garden is south of the kitchen.',\n",
       "  'What is north of the kitchen?'],\n",
       " 'story.type': [0, 0, 1]}"
      ]
     },
     "execution_count": 7,
     "metadata": {},
     "output_type": "execute_result"
    }
   ],
   "source": [
    "next(iter(flattened_babi['train']))"
   ]
  },
  {
   "cell_type": "markdown",
   "metadata": {
    "id": "4vXfmhOPMvt1"
   },
   "source": [
    "Ahora es mucho más fácil acceder a la información que necesitas. Ahora puedes extraer fácilmente la respuesta, la pregunta y los hechos de la historia, y también unir los hechos en una sola entrada en \"frases\".\n",
    "\n",
    "<details><summary><font size=\"2\" color=\"darkblue\"><b> Texto Original </b></font></summary>\n",
    "\n",
    "Now it is much easier to access the information you need! You can now easily extract the answer, question, and facts from the story, and also join the facts into a single entry under 'sentences'."
   ]
  },
  {
   "cell_type": "code",
   "execution_count": 8,
   "metadata": {
    "id": "O5NcABwkdbrf"
   },
   "outputs": [],
   "source": [
    "def get_question_and_facts(story):\n",
    "    dic = {}\n",
    "    dic['question'] = story['story.text'][2]\n",
    "    dic['sentences'] = ' '.join([story['story.text'][0], story['story.text'][1]])\n",
    "    dic['answer'] = story['story.answer'][2]\n",
    "    return dic"
   ]
  },
  {
   "cell_type": "code",
   "execution_count": 9,
   "metadata": {
    "colab": {
     "base_uri": "https://localhost:8080/",
     "height": 115,
     "referenced_widgets": [
      "44b7bea3e09d4e5684921c66dd4c7514",
      "6af3ec5091d74bd1a95bf02a87dd240b",
      "7e1325e57bf9417e93d7ef180794ab3c",
      "3dab28395f3f475d8242e4d4d45ed059",
      "ca722dcd857c433c9058585e31a1673d",
      "7fb1118c0b4443b6b6dbb5803e9ec2e8",
      "58718e12f1b7459989ab5296846c4be6",
      "63b4ebafcead4c0784b5511219a6a198",
      "c42644a4e6184a1cbdb2b453b5dbb7d6",
      "364ba960eb474c9084cc71851594d345",
      "e8f1abd85f3e49f991d4c1312ffd416b",
      "929946fdfaa04cf59d3b31cf92fc08d1",
      "aa5c0d374889482697fc0f7ce9c81afe",
      "ff444b253e9a40e5bec755926d83740f",
      "89fdda6e6688476495ca297bfe010bf8",
      "cda72c45821a4eb89f1a3ab5510b26d3"
     ]
    },
    "id": "LHKNQ75afMoZ",
    "outputId": "6ceeae5c-392c-4553-c487-14a648eb9209"
   },
   "outputs": [
    {
     "data": {
      "application/vnd.jupyter.widget-view+json": {
       "model_id": "02c59941b8a64c68ba1ae516c2eb8ec2",
       "version_major": 2,
       "version_minor": 0
      },
      "text/plain": [
       "HBox(children=(FloatProgress(value=0.0, max=1000.0), HTML(value='')))"
      ]
     },
     "metadata": {},
     "output_type": "display_data"
    },
    {
     "name": "stdout",
     "output_type": "stream",
     "text": [
      "\n"
     ]
    },
    {
     "data": {
      "application/vnd.jupyter.widget-view+json": {
       "model_id": "4da852cf85b448bb9f18ee9d0d214b2e",
       "version_major": 2,
       "version_minor": 0
      },
      "text/plain": [
       "HBox(children=(FloatProgress(value=0.0, max=1000.0), HTML(value='')))"
      ]
     },
     "metadata": {},
     "output_type": "display_data"
    },
    {
     "name": "stdout",
     "output_type": "stream",
     "text": [
      "\n"
     ]
    }
   ],
   "source": [
    "processed = flattened_babi.map(get_question_and_facts)"
   ]
  },
  {
   "cell_type": "code",
   "execution_count": 10,
   "metadata": {
    "colab": {
     "base_uri": "https://localhost:8080/"
    },
    "id": "KaTacKMufPba",
    "outputId": "2433d446-e985-45cd-a200-f9805b4056bd"
   },
   "outputs": [
    {
     "data": {
      "text/plain": [
       "{'answer': 'bedroom',\n",
       " 'question': 'What is north of the garden?',\n",
       " 'sentences': 'The garden is north of the office. The bedroom is north of the garden.',\n",
       " 'story.answer': ['', '', 'bedroom'],\n",
       " 'story.id': ['1', '2', '3'],\n",
       " 'story.supporting_ids': [[], [], ['2']],\n",
       " 'story.text': ['The garden is north of the office.',\n",
       "  'The bedroom is north of the garden.',\n",
       "  'What is north of the garden?'],\n",
       " 'story.type': [0, 0, 1]}"
      ]
     },
     "execution_count": 10,
     "metadata": {},
     "output_type": "execute_result"
    }
   ],
   "source": [
    "processed['train'][2]"
   ]
  },
  {
   "cell_type": "code",
   "execution_count": 11,
   "metadata": {
    "colab": {
     "base_uri": "https://localhost:8080/"
    },
    "id": "IOrYr5LI0pbP",
    "outputId": "8142f23c-7dab-49b9-8027-fbe7364ae4e9"
   },
   "outputs": [
    {
     "data": {
      "text/plain": [
       "{'answer': 'bathroom',\n",
       " 'question': 'What is north of the garden?',\n",
       " 'sentences': 'The bathroom is north of the garden. The hallway is north of the bathroom.',\n",
       " 'story.answer': ['', '', 'bathroom'],\n",
       " 'story.id': ['1', '2', '3'],\n",
       " 'story.supporting_ids': [[], [], ['1']],\n",
       " 'story.text': ['The bathroom is north of the garden.',\n",
       "  'The hallway is north of the bathroom.',\n",
       "  'What is north of the garden?'],\n",
       " 'story.type': [0, 0, 1]}"
      ]
     },
     "execution_count": 11,
     "metadata": {},
     "output_type": "execute_result"
    }
   ],
   "source": [
    "processed['test'][2]"
   ]
  },
  {
   "cell_type": "markdown",
   "metadata": {
    "id": "oN7D3fszM2hy"
   },
   "source": [
    "El objetivo de la GC extractiva es encontrar la parte del texto que contiene la respuesta a la pregunta. Identificará la posición de la respuesta utilizando los índices de la cadena. Por ejemplo, si la respuesta a una pregunta fuera \"September\", tendría que encontrar los índices de inicio y final de la cadena de la palabra \"septiembre\" en la frase contextual \"Jane visits Africa in September\".\n",
    "\n",
    "\n",
    "Utilice la siguiente función para obtener los índices de inicio y final de la respuesta en cada una de las historias de su conjunto de datos.\n",
    "\n",
    "<details><summary><font size=\"2\" color=\"darkblue\"><b> Texto Original </b></font></summary>\n",
    "\n",
    "The goal of extractive QA is to find the part of the text that contains the answer to the question. You will identify the position of the answer using the indexes of the string. For example, if the answer to some question was 'September', you would need to find the start and end string indices of the word 'September' in the context sentence 'Jane visits Africa in September.'\n",
    "\n",
    "\n",
    "Use this next function to get the start and end indices of the answer in each of the stories in your dataset."
   ]
  },
  {
   "cell_type": "code",
   "execution_count": 12,
   "metadata": {
    "id": "J1JJx3PafSyR"
   },
   "outputs": [],
   "source": [
    "def get_start_end_idx(story):\n",
    "    str_idx = story['sentences'].find(story['answer'])\n",
    "    end_idx = str_idx + len(story['answer'])\n",
    "    return {'str_idx':str_idx,\n",
    "          'end_idx': end_idx}"
   ]
  },
  {
   "cell_type": "code",
   "execution_count": 13,
   "metadata": {
    "colab": {
     "base_uri": "https://localhost:8080/",
     "height": 115,
     "referenced_widgets": [
      "8968319cdaca476fb15c11a388dce39a",
      "863c5ce96db84e3da162072c9a13c913",
      "a725734893004a45b61194f649f5f602",
      "c4a24656d67844e995d3b8e175c6c497",
      "4f5b06c3a5e44c6cade5bf83634d9f69",
      "afc33fa78b5d440192c435bfca6f7914",
      "f37bd346f8614fec92d6c5b5e9b66d2f",
      "b4c6a18610734036a16a14a43174c52e",
      "07aaa9b79a744856b19d723370d6e588",
      "afedd2328cf141f78775e4cfa7758267",
      "b39b85d8cb05418aa92e8476ad02f755",
      "0a8534ac52af4d48ad82b66463ad08c3",
      "3abb36da57c841838867c56e2a3a325b",
      "8b961844b5004905922531bd805a9d57",
      "31fc08a1e7e04f6b9b3ea400ccfaea75",
      "8cfbd3b14b23417993270f851a2d8ff9"
     ]
    },
    "id": "4e7BdgJJhwXi",
    "outputId": "d9c7a923-d2eb-4533-f37e-4f269f22eb89"
   },
   "outputs": [
    {
     "data": {
      "application/vnd.jupyter.widget-view+json": {
       "model_id": "c5ae063c233c4c8b9ec30f51196523ed",
       "version_major": 2,
       "version_minor": 0
      },
      "text/plain": [
       "HBox(children=(FloatProgress(value=0.0, max=1000.0), HTML(value='')))"
      ]
     },
     "metadata": {},
     "output_type": "display_data"
    },
    {
     "name": "stdout",
     "output_type": "stream",
     "text": [
      "\n"
     ]
    },
    {
     "data": {
      "application/vnd.jupyter.widget-view+json": {
       "model_id": "ff579eb92ac6431fb2b4178a88940921",
       "version_major": 2,
       "version_minor": 0
      },
      "text/plain": [
       "HBox(children=(FloatProgress(value=0.0, max=1000.0), HTML(value='')))"
      ]
     },
     "metadata": {},
     "output_type": "display_data"
    },
    {
     "name": "stdout",
     "output_type": "stream",
     "text": [
      "\n"
     ]
    }
   ],
   "source": [
    "processed = processed.map(get_start_end_idx)"
   ]
  },
  {
   "cell_type": "code",
   "execution_count": 14,
   "metadata": {
    "colab": {
     "base_uri": "https://localhost:8080/"
    },
    "id": "P8ytxyfvh0kB",
    "outputId": "c008b161-be24-40bb-a32d-47d92e624787"
   },
   "outputs": [
    {
     "name": "stdout",
     "output_type": "stream",
     "text": [
      "{'answer': 'garden', 'end_idx': 34, 'question': 'What is south of the bedroom?', 'sentences': 'The hallway is south of the garden. The garden is south of the bedroom.', 'story.answer': ['', '', 'garden'], 'story.id': ['1', '2', '3'], 'story.supporting_ids': [[], [], ['2']], 'story.text': ['The hallway is south of the garden.', 'The garden is south of the bedroom.', 'What is south of the bedroom?'], 'story.type': [0, 0, 1], 'str_idx': 28}\n",
      "answer: garden\n"
     ]
    }
   ],
   "source": [
    "num = 187\n",
    "print(processed['test'][num])\n",
    "start_idx = processed['test'][num]['str_idx']\n",
    "end_idx = processed['test'][num]['end_idx']\n",
    "print('answer:', processed['test'][num]['sentences'][start_idx:end_idx])"
   ]
  },
  {
   "cell_type": "markdown",
   "metadata": {
    "id": "VVX3TA2xM-vJ"
   },
   "source": [
    "<a name='1-2'></a>\n",
    "### 1.2 - Tokenizar y alinear con la biblioteca 🤗\n",
    "\n",
    "Ahora tienes todos los datos que necesitas para entrenar un modelo Transformer para realizar respuestas a preguntas. Estás listo para una tarea que ya has encontrado en el laboratorio de Reconocimiento de Entidades Nombradas - tokenizar y alinear tu entrada. Para alimentar datos de texto a un modelo Transformer, necesitarás tokenizar tu entrada usando un [🤗 Transformer tokenizer](https://huggingface.co/transformers/main_classes/tokenizer.html). Es crucial que el tokenizador que utilices debe coincidir con el tipo de modelo Transformer que estés utilizando. En este ejercicio, usarás el 🤗 [DistilBERT fast tokenizer](https://huggingface.co/transformers/model_doc/distilbert.html), que estandariza la longitud de tu secuencia a 512 y la rellena con ceros. \n",
    "\n",
    "<details><summary><font size=\"2\" color=\"darkblue\"><b> Texto Original </b></font></summary>\n",
    "\n",
    "<a name='1-2'></a>\n",
    "### 1.2 - Tokenize and Align with 🤗 Library\n",
    "\n",
    "Now you have all the data you need to train a Transformer model to perform Question Answering! You are ready for a task you may have already encountered in the Named-Entity Recognition lab - tokenizing and aligning your input. To feed text data to a Transformer model, you will need to tokenize your input using a [🤗 Transformer tokenizer](https://huggingface.co/transformers/main_classes/tokenizer.html). It is crucial that the tokenizer you use must match the Transformer model type you are using! In this exercise, you will use the 🤗 [DistilBERT fast tokenizer](https://huggingface.co/transformers/model_doc/distilbert.html), which standardizes the length of your sequence to 512 and pads with zeros. "
   ]
  },
  {
   "cell_type": "markdown",
   "metadata": {
    "id": "c892hk9NNF9O"
   },
   "source": [
    "Los modelos de Transformers a menudo son entrenados por tokenizadores que dividen palabras en subpalabras. Por ejemplo, la palabra 'África' podría dividirse en varios subtokens. Esto puede crear cierta desalineación entre la lista de etiquetas para el conjunto de datos y la lista de etiquetas generadas por el tokenizador, ya que el tokenizador puede dividir una palabra en varias o agregar tokens especiales. Antes del procesamiento, es importante que alinee los índices de inicio y fin con los tokens asociados con la palabra de respuesta de destino con una función `tokenize_and_align()`. En este caso, dado que le interesan los índices inicial y final de la respuesta, querrá alinear el índice de la oración para que coincida con el índice del token de una palabra.\n",
    "\n",
    "<details><summary><font size=\"2\" color=\"darkblue\"><b> Texto Original </b></font></summary>\n",
    "\n",
    "Transformer models are often trained by tokenizers that split words into subwords. For instance, the word 'Africa' might get split into multiple subtokens. This can create some misalignment between the list of tags for the dataset and the list of labels generated by the tokenizer, since the tokenizer can split one word into several, or add special tokens. Before processing, it is important that you align the start and end indices with the tokens associated with the target answer word with a `tokenize_and_align()` function. In this case, since you are interested in the start and end indices of the answer, you will want to align the index of the sentence to match the index of the token for a word. \n"
   ]
  },
  {
   "cell_type": "code",
   "execution_count": 15,
   "metadata": {
    "id": "UI-9P7VYitxv"
   },
   "outputs": [],
   "source": [
    "from transformers import DistilBertTokenizerFast\n",
    "tokenizer = DistilBertTokenizerFast.from_pretrained('tokenizer/')"
   ]
  },
  {
   "cell_type": "code",
   "execution_count": 16,
   "metadata": {
    "id": "Pex-YXJnnwb9"
   },
   "outputs": [],
   "source": [
    "def tokenize_align(example):\n",
    "    encoding = tokenizer(example['sentences'], example['question'], truncation=True, padding=True, max_length=tokenizer.model_max_length)\n",
    "    start_positions = encoding.char_to_token(example['str_idx'])\n",
    "    end_positions = encoding.char_to_token(example['end_idx']-1)\n",
    "    if start_positions is None:\n",
    "        start_positions = tokenizer.model_max_length\n",
    "    if end_positions is None:\n",
    "        end_positions = tokenizer.model_max_length\n",
    "    return {'input_ids': encoding['input_ids'],\n",
    "          'attention_mask': encoding['attention_mask'],\n",
    "          'start_positions': start_positions,\n",
    "          'end_positions': end_positions}"
   ]
  },
  {
   "cell_type": "code",
   "execution_count": 17,
   "metadata": {
    "colab": {
     "base_uri": "https://localhost:8080/",
     "height": 115,
     "referenced_widgets": [
      "4d9152a30e824931983a425ee6d607a6",
      "1f2773e3e80c4dd8b6b26e171bf33bc7",
      "013f041c3e0b4e35bf2432fc345cb7bf",
      "ef4e12f29f1e458f811a400faf21bdcc",
      "f0e34f2bf626434fa73f0def26b3d1a5",
      "1e6c02317171453cbd3d4d665879b0d4",
      "5b6dbe662ca24834b7678638e101e1ff",
      "39029f730ae140c7902fca6dac5361ad",
      "723acefae33d448199fa5c1a9ec3f246",
      "32a5c82c7a9845c09c11bb4e30c2f1aa",
      "77273c2e4b4e4e4c8ee4b6b344749518",
      "f0ac3b9b8f664479940c6ee18fc2f13e",
      "393697738e724e9fad4d163de0a77840",
      "e592db98c0c34c5e800f5d7b6d3c099e",
      "568f11b4462f4b4e95f3ad5947bb275e",
      "7fefe9e1121a43558d773500aef8935c"
     ]
    },
    "id": "kKyLNWCvksOr",
    "outputId": "7af3d914-4546-430c-c2f0-206b732e5131"
   },
   "outputs": [
    {
     "data": {
      "application/vnd.jupyter.widget-view+json": {
       "model_id": "7a2d027f535b4e008a123e9a0805c99a",
       "version_major": 2,
       "version_minor": 0
      },
      "text/plain": [
       "HBox(children=(FloatProgress(value=0.0, max=1000.0), HTML(value='')))"
      ]
     },
     "metadata": {},
     "output_type": "display_data"
    },
    {
     "name": "stdout",
     "output_type": "stream",
     "text": [
      "\n"
     ]
    },
    {
     "data": {
      "application/vnd.jupyter.widget-view+json": {
       "model_id": "e03b54c65e9d4c449a5c9539752a6b38",
       "version_major": 2,
       "version_minor": 0
      },
      "text/plain": [
       "HBox(children=(FloatProgress(value=0.0, max=1000.0), HTML(value='')))"
      ]
     },
     "metadata": {},
     "output_type": "display_data"
    },
    {
     "name": "stdout",
     "output_type": "stream",
     "text": [
      "\n"
     ]
    }
   ],
   "source": [
    "qa_dataset = processed.map(tokenize_align)"
   ]
  },
  {
   "cell_type": "code",
   "execution_count": 18,
   "metadata": {
    "id": "8v5odGZBmGw0"
   },
   "outputs": [],
   "source": [
    "qa_dataset = qa_dataset.remove_columns(['story.answer', 'story.id', 'story.supporting_ids', 'story.text', 'story.type'])"
   ]
  },
  {
   "cell_type": "code",
   "execution_count": 19,
   "metadata": {
    "colab": {
     "base_uri": "https://localhost:8080/"
    },
    "id": "yBHzbjffmJa8",
    "outputId": "b0688636-fdec-4de0-c2d9-69372b1ddbac"
   },
   "outputs": [
    {
     "data": {
      "text/plain": [
       "{'answer': 'garden',\n",
       " 'attention_mask': [1,\n",
       "  1,\n",
       "  1,\n",
       "  1,\n",
       "  1,\n",
       "  1,\n",
       "  1,\n",
       "  1,\n",
       "  1,\n",
       "  1,\n",
       "  1,\n",
       "  1,\n",
       "  1,\n",
       "  1,\n",
       "  1,\n",
       "  1,\n",
       "  1,\n",
       "  1,\n",
       "  1,\n",
       "  1,\n",
       "  1,\n",
       "  1,\n",
       "  1,\n",
       "  1,\n",
       "  1,\n",
       "  1],\n",
       " 'end_idx': 10,\n",
       " 'end_positions': 2,\n",
       " 'input_ids': [101,\n",
       "  1996,\n",
       "  3871,\n",
       "  2003,\n",
       "  2167,\n",
       "  1997,\n",
       "  1996,\n",
       "  5723,\n",
       "  1012,\n",
       "  1996,\n",
       "  6797,\n",
       "  2003,\n",
       "  2148,\n",
       "  1997,\n",
       "  1996,\n",
       "  5723,\n",
       "  1012,\n",
       "  102,\n",
       "  2054,\n",
       "  2003,\n",
       "  2167,\n",
       "  1997,\n",
       "  1996,\n",
       "  5723,\n",
       "  1029,\n",
       "  102],\n",
       " 'question': 'What is north of the bathroom?',\n",
       " 'sentences': 'The garden is north of the bathroom. The hallway is south of the bathroom.',\n",
       " 'start_positions': 2,\n",
       " 'str_idx': 4}"
      ]
     },
     "execution_count": 19,
     "metadata": {},
     "output_type": "execute_result"
    }
   ],
   "source": [
    "qa_dataset['train'][200]"
   ]
  },
  {
   "cell_type": "markdown",
   "metadata": {
    "id": "qw79BQfW4feu"
   },
   "source": [
    "<font color='blue'><b>Lo que debe recordar:</b>\n",
    "- El objetivo del control de calidad *extractivo* es identificar la parte del texto que contiene la respuesta a una pregunta.\n",
    "- Los modelos de transformadores a menudo se entrenan mediante tokenizadores que dividen palabras en subpalabras.\n",
    "   - Antes de procesar, es importante que alinee los índices de inicio y finalización con los tokens asociados con la palabra de respuesta de destino.\n",
    "</font>\n",
    "\n",
    "\n",
    "<details><summary><font size=\"2\" color=\"darkblue\"><b> Texto Original </b></font></summary>\n",
    "\n",
    "<font color='blue'><b>What you should remember:</b>\n",
    "- The goal of *extractive* QA is to identify the portion of the text that contains the answer to a question.\n",
    "- Transformer models are often trained by tokenizers that split words into subwords.\n",
    "  - Before processing, it is important that you align the start and end indices with the tokens associated with the target answer word.\n",
    "</font>"
   ]
  },
  {
   "cell_type": "markdown",
   "metadata": {
    "id": "rFfJozZvNZWG"
   },
   "source": [
    "<a name='2'></a>\n",
    "# 2 - Entrenamiento \n",
    "\n",
    "Ahora que ha terminado de tokenizar y alinear sus datos, puede introducirlos en un modelo 🤗 Transformer preentrenado. Utilizarás un modelo DistilBERT, que coincide con el tokenizador que utilizaste para preprocesar tus datos.\n",
    "\n",
    "<details><summary><font size=\"2\" color=\"darkblue\"><b> Texto Original </b></font></summary>\n",
    "\n",
    "<a name='2'></a>\n",
    "# 2 - Training \n",
    "\n",
    "Now that you have finished tokenizing and aligning your data, you can feed it into a pre-trained 🤗 Transformer model! You will use a DistilBERT model, which matches the tokenizer you used to preprocess your data."
   ]
  },
  {
   "cell_type": "code",
   "execution_count": 20,
   "metadata": {
    "id": "8sdX5XY0Gwwc"
   },
   "outputs": [],
   "source": [
    "train_ds = qa_dataset['train']\n",
    "test_ds = qa_dataset['test']"
   ]
  },
  {
   "cell_type": "code",
   "execution_count": 21,
   "metadata": {
    "colab": {
     "base_uri": "https://localhost:8080/"
    },
    "id": "Be5k3ilHsJ6q",
    "outputId": "f2f7fea3-1394-4aaf-b159-994a38476994"
   },
   "outputs": [
    {
     "name": "stderr",
     "output_type": "stream",
     "text": [
      "All model checkpoint layers were used when initializing TFDistilBertForQuestionAnswering.\n",
      "\n",
      "All the layers of TFDistilBertForQuestionAnswering were initialized from the model checkpoint at model/tensorflow.\n",
      "If your task is similar to the task the model of the checkpoint was trained on, you can already use TFDistilBertForQuestionAnswering for predictions without further training.\n"
     ]
    }
   ],
   "source": [
    "from transformers import TFDistilBertForQuestionAnswering\n",
    "model = TFDistilBertForQuestionAnswering.from_pretrained(\"model/tensorflow\", return_dict=False)"
   ]
  },
  {
   "cell_type": "markdown",
   "metadata": {
    "id": "-aQVOG4ANcd2"
   },
   "source": [
    "<a name='2-1'></a>\n",
    "### 2.1 - Implementación de TensorFlow\n",
    "Para esta tarea ejecutarás dos implementaciones, una en TensorFlow y otra en PyTorch.\n",
    "\n",
    "<details><summary><font size=\"2\" color=\"darkblue\"><b> Texto Original </b></font></summary>\n",
    "\n",
    "<a name='2-1'></a>\n",
    "### 2.1 - TensorFlow implementation\n",
    "For this assignment you will execute two implemenations, one in TensorFlow and one in PyTorch.\n",
    "\n",
    "\n"
   ]
  },
  {
   "cell_type": "markdown",
   "metadata": {
    "id": "8pCRo_parYMc"
   },
   "source": [
    "#### Conjuntos de datos de entrenamiento y de prueba\n",
    "\n",
    "**Nota:**\n",
    "* En la implementación de TensorFlow, tendrás que establecer el tipo de formato de datos a tensores, lo que puede crear tensores irregulares (tensores de diferentes longitudes). \n",
    "* Tendrás que convertir los tensores irregulares en tensores normales utilizando el método `to_tensor()`, que rellena los tensores y establece las dimensiones a `[None, tokenizer.model_max_length]` para que puedas introducir tensores de diferente tamaño en tu modelo en función del tamaño del lote.  \n",
    "\n",
    "<details><summary><font size=\"2\" color=\"darkblue\"><b> Texto Original </b></font></summary>\n",
    "\n",
    "#### Train and test datasets\n",
    "\n",
    "**Note:**\n",
    "* In the TensorFlow implementation, you will have to set the data format type to tensors, which may create ragged tensors (tensors of different lengths). \n",
    "* You will have to convert the ragged tensors to normal tensors using the `to_tensor()` method, which pads the tensors and sets the dimensions to `[None, tokenizer.model_max_length]` so you can feed different size tensors into your model based on the batch size.  "
   ]
  },
  {
   "cell_type": "code",
   "execution_count": 22,
   "metadata": {
    "id": "FbpplBxNtanH"
   },
   "outputs": [],
   "source": [
    "import tensorflow as tf\n",
    "\n",
    "columns_to_return = ['input_ids','attention_mask', 'start_positions', 'end_positions']\n",
    "\n",
    "train_ds.set_format(type='tf', columns=columns_to_return)\n",
    "\n",
    "train_features = {x: train_ds[x].to_tensor(default_value=0, shape=[None, tokenizer.model_max_length]) for x in ['input_ids', 'attention_mask']}\n",
    "train_labels = {\"start_positions\": tf.reshape(train_ds['start_positions'], shape=[-1,1]),\n",
    "                'end_positions': tf.reshape(train_ds['end_positions'], shape=[-1,1])}\n",
    "\n",
    "\n",
    "train_tfdataset = tf.data.Dataset.from_tensor_slices((train_features, train_labels)).batch(8)"
   ]
  },
  {
   "cell_type": "markdown",
   "metadata": {
    "id": "0_Jj8Av6rEuN"
   },
   "source": [
    "#### Entrenamiento \n",
    "\n",
    "¡Por fin ha llegado el momento de empezar a entrenar tu modelo! \n",
    "\n",
    "* Cree una función de entrenamiento personalizada utilizando [tf.GradientTape()](https://www.tensorflow.org/api_docs/python/tf/GradientTape)\n",
    "* Apunta dos funciones de pérdida, una para el índice inicial y otra para el índice final. \n",
    "* `tf.GradientTape()` registra las operaciones realizadas durante el forward prop para la diferenciación automática durante el backprop. \n",
    "\n",
    "<details><summary><font size=\"2\" color=\"darkblue\"><b> Texto Original </b></font></summary>\n",
    "\n",
    "#### Training \n",
    "\n",
    "It is finally time to start training your model! \n",
    "\n",
    "* Create a custom training function using [tf.GradientTape()](https://www.tensorflow.org/api_docs/python/tf/GradientTape)\n",
    "* Target two loss functions, one for the start index and one for the end index. \n",
    "* `tf.GradientTape()` records the operations performed during forward prop for automatic differentiation during backprop. \n"
   ]
  },
  {
   "cell_type": "code",
   "execution_count": 23,
   "metadata": {
    "colab": {
     "base_uri": "https://localhost:8080/"
    },
    "id": "PtZz249vQbLn",
    "outputId": "24cdf861-af63-4581-a0ae-2de29d1880ed"
   },
   "outputs": [
    {
     "name": "stdout",
     "output_type": "stream",
     "text": [
      "Starting epoch: 0\n",
      "Training loss (for one batch) at step 0: 6.4653\n",
      "Training loss (for one batch) at step 20: 1.3121\n",
      "Training loss (for one batch) at step 40: 0.9882\n",
      "Training loss (for one batch) at step 60: 0.8768\n",
      "Training loss (for one batch) at step 80: 0.5850\n",
      "Training loss (for one batch) at step 100: 0.2008\n",
      "Training loss (for one batch) at step 120: 0.6242\n",
      "Starting epoch: 1\n",
      "Training loss (for one batch) at step 0: 0.6473\n",
      "Training loss (for one batch) at step 20: 0.1896\n",
      "Training loss (for one batch) at step 40: 0.5040\n",
      "Training loss (for one batch) at step 60: 0.3580\n",
      "Training loss (for one batch) at step 80: 0.3913\n",
      "Training loss (for one batch) at step 100: 0.0942\n",
      "Training loss (for one batch) at step 120: 0.5992\n",
      "Starting epoch: 2\n",
      "Training loss (for one batch) at step 0: 0.4085\n",
      "Training loss (for one batch) at step 20: 0.1244\n",
      "Training loss (for one batch) at step 40: 0.5173\n",
      "Training loss (for one batch) at step 60: 0.2671\n",
      "Training loss (for one batch) at step 80: 0.1199\n",
      "Training loss (for one batch) at step 100: 0.0820\n",
      "Training loss (for one batch) at step 120: 0.5956\n"
     ]
    }
   ],
   "source": [
    "EPOCHS = 3\n",
    "loss_fn1 = tf.keras.losses.SparseCategoricalCrossentropy( from_logits=True)\n",
    "loss_fn2 = tf.keras.losses.SparseCategoricalCrossentropy( from_logits=True)\n",
    "opt = tf.keras.optimizers.Adam(learning_rate=3e-5)\n",
    "\n",
    "losses = []\n",
    "for epoch in range(EPOCHS):\n",
    "    print(\"Starting epoch: %d\"% epoch )\n",
    "    for step, (x_batch_train, y_batch_train) in enumerate(train_tfdataset):\n",
    "        with tf.GradientTape() as tape:\n",
    "            answer_start_scores, answer_end_scores = model(x_batch_train)\n",
    "            loss_start = loss_fn1(y_batch_train['start_positions'], answer_start_scores)\n",
    "            loss_end = loss_fn2(y_batch_train['end_positions'], answer_end_scores)\n",
    "            loss = 0.5 * (loss_start + loss_end)\n",
    "        losses.append(loss)\n",
    "        grads = tape.gradient(loss, model.trainable_weights)\n",
    "        opt.apply_gradients(zip(grads, model.trainable_weights))\n",
    "\n",
    "        if step % 20 == 0:\n",
    "            print(\"Training loss (for one batch) at step %d: %.4f\"% (step, \n",
    "                                                                   float(loss_start)))\n"
   ]
  },
  {
   "cell_type": "markdown",
   "metadata": {
    "id": "Q8ggB0JUWQuW"
   },
   "source": [
    "\n",
    "Echa un vistazo a tus pérdidas e intenta jugar con algunos de los hiperparámetros para obtener mejores resultados.\n",
    "\n",
    "<details><summary><font size=\"2\" color=\"darkblue\"><b> Texto Original </b></font></summary>\n",
    "\n",
    "Take a look at your losses and try playing around with some of the hyperparameters for better results!"
   ]
  },
  {
   "cell_type": "code",
   "execution_count": 24,
   "metadata": {
    "colab": {
     "base_uri": "https://localhost:8080/",
     "height": 282
    },
    "id": "fK91EPvRYFcX",
    "outputId": "6b7099dd-f918-4905-e3a3-fcce2880e506"
   },
   "outputs": [
    {
     "data": {
      "text/plain": [
       "[<matplotlib.lines.Line2D at 0x7f9249920668>]"
      ]
     },
     "execution_count": 24,
     "metadata": {},
     "output_type": "execute_result"
    },
    {
     "data": {
      "image/png": "[encoded data removed]",
      "text/plain": [
       "<Figure size 432x288 with 1 Axes>"
      ]
     },
     "metadata": {
      "needs_background": "light"
     },
     "output_type": "display_data"
    }
   ],
   "source": [
    "from matplotlib.pyplot import plot\n",
    "\n",
    "plot(losses)"
   ]
  },
  {
   "cell_type": "markdown",
   "metadata": {
    "id": "64OtEmyUWUiM"
   },
   "source": [
    "Has entrenado con éxito a tu modelo para que te ayude a responder automáticamente a las preguntas. Prueba a hacerle una pregunta sobre una historia.\n",
    "\n",
    "<details><summary><font size=\"2\" color=\"darkblue\"><b> Texto Original </b></font></summary>\n",
    "\n",
    "You have successfully trained your model to help automatically answer questions! Try asking it a question about a story."
   ]
  },
  {
   "cell_type": "code",
   "execution_count": 25,
   "metadata": {
    "colab": {
     "base_uri": "https://localhost:8080/"
    },
    "id": "eFniMzpp1bpz",
    "outputId": "0ce0e2a3-3d6a-4e6e-adff-d0c16b622c9a"
   },
   "outputs": [
    {
     "name": "stdout",
     "output_type": "stream",
     "text": [
      "What is south of the bedroom? Garden\n"
     ]
    }
   ],
   "source": [
    "question, text = 'What is south of the bedroom?','The hallway is south of the garden. The garden is south of the bedroom.'\n",
    "input_dict = tokenizer(text, question, return_tensors='tf')\n",
    "outputs = model(input_dict)\n",
    "start_logits = outputs[0]\n",
    "end_logits = outputs[1]\n",
    "\n",
    "all_tokens = tokenizer.convert_ids_to_tokens(input_dict[\"input_ids\"].numpy()[0])\n",
    "answer = ' '.join(all_tokens[tf.math.argmax(start_logits, 1)[0] : tf.math.argmax(end_logits, 1)[0]+1])\n",
    "print(question, answer.capitalize())"
   ]
  },
  {
   "cell_type": "markdown",
   "metadata": {
    "id": "f07OtnCpuKFa"
   },
   "source": [
    "¡Enhorabuena! Acabas de implementar tu primer modelo de control de calidad en TensorFlow. \n",
    "\n",
    "<details><summary><font size=\"2\" color=\"darkblue\"><b> Texto Original </b></font></summary>\n",
    "\n",
    "Congratulations! You just implemented your first QA model in TensorFlow. "
   ]
  },
  {
   "cell_type": "markdown",
   "metadata": {
    "id": "9UaM5pY9u8EW"
   },
   "source": [
    "<a name='2-1'></a>\n",
    "## 2.2 Implementación de PyTorch\n",
    "\n",
    "[PyTorch](https://pytorch.org/) es un marco de aprendizaje automático de código abierto desarrollado por el laboratorio de investigación de IA de Facebook que puede utilizarse para la visión por ordenador y el procesamiento del lenguaje natural. Como se puede imaginar, es bastante compatible con el conjunto de datos bAbI.\n",
    "\n",
    "<details><summary><font size=\"2\" color=\"darkblue\"><b> Texto Original </b></font></summary>\n",
    "\n",
    "<a name='2-1'></a>\n",
    "## 2.2 PyTorch implementation\n",
    "\n",
    "[PyTorch](https://pytorch.org/) is an open source machine learning framework developed by Facebook's AI Research lab that can be used for computer vision and natural language processing. As you can imagine, it is quite compatible with the bAbI dataset."
   ]
  },
  {
   "cell_type": "markdown",
   "metadata": {
    "id": "nD9akXoXxMjd"
   },
   "source": [
    "#### Conjunto de datos de entrenamiento y prueba\n",
    "\n",
    "Intenta crear un conjunto de datos de entrenamiento y prueba importando PyTorch.\n",
    "\n",
    "<details><summary><font size=\"2\" color=\"darkblue\"><b> Texto Original </b></font></summary>\n",
    "\n",
    "#### Train and test dataset\n",
    "\n",
    "Go ahead and try creating a train and test dataset by importing PyTorch."
   ]
  },
  {
   "cell_type": "code",
   "execution_count": 26,
   "metadata": {
    "id": "JxMYWSG173ch"
   },
   "outputs": [],
   "source": [
    "from torch.utils.data import DataLoader\n",
    "\n",
    "columns_to_return = ['input_ids','attention_mask', 'start_positions', 'end_positions']\n",
    "train_ds.set_format(type='pt', columns=columns_to_return)\n",
    "test_ds.set_format(type='pt', columns=columns_to_return)"
   ]
  },
  {
   "cell_type": "markdown",
   "metadata": {
    "id": "OeuzZKlPHAAQ"
   },
   "source": [
    "Para las métricas de precisión para la implementación de PyTorch, cambiará un poco las cosas y utilizará la [puntuación F1](https://scikit-learn.org/stable/modules/generated/sklearn.metrics.f1_score.html) para los índices de inicio y final sobre todo el conjunto de datos de prueba como las funciones de pérdida. \n",
    "\n",
    "<details><summary><font size=\"2\" color=\"darkblue\"><b> Texto Original </b></font></summary>\n",
    "\n",
    "For the accuracy metrics for the PyTorch implementation, you will change things up a bit and use the [F1 score](https://scikit-learn.org/stable/modules/generated/sklearn.metrics.f1_score.html) for start and end indicies over the entire test dataset as the loss functions. "
   ]
  },
  {
   "cell_type": "code",
   "execution_count": 27,
   "metadata": {
    "id": "aD9tDpZfJsIB"
   },
   "outputs": [],
   "source": [
    "from sklearn.metrics import f1_score\n",
    "\n",
    "def compute_metrics(pred):\n",
    "    start_labels = pred.label_ids[0]\n",
    "    start_preds = pred.predictions[0].argmax(-1)\n",
    "    end_labels = pred.label_ids[1]\n",
    "    end_preds = pred.predictions[1].argmax(-1)\n",
    "    \n",
    "    f1_start = f1_score(start_labels, start_preds, average='macro')\n",
    "    f1_end = f1_score(end_labels, end_preds, average='macro')\n",
    "    \n",
    "    return {\n",
    "        'f1_start': f1_start,\n",
    "        'f1_end': f1_end,\n",
    "    }"
   ]
  },
  {
   "cell_type": "markdown",
   "metadata": {
    "id": "laX5cYQRHMXb"
   },
   "source": [
    "#### Entrenamiento\n",
    "\n",
    "Ahora es el momento de cargar un modelo pre-entrenado. \n",
    "\n",
    "**Nota:** Se utilizará el DistilBERT en lugar del TFDistilBERT para una implementación de PyTorch.\n",
    "\n",
    "<details><summary><font size=\"2\" color=\"darkblue\"><b> Texto Original </b></font></summary>\n",
    "\n",
    "#### Training\n",
    "\n",
    "Now it is time to load a pre-trained model. \n",
    "\n",
    "**Note:** You will be using the DistilBERT instead of TFDistilBERT for a PyTorch implementation."
   ]
  },
  {
   "cell_type": "code",
   "execution_count": 28,
   "metadata": {},
   "outputs": [],
   "source": [
    "del model # We delete the tensorflow model to avoid memory issues"
   ]
  },
  {
   "cell_type": "code",
   "execution_count": 29,
   "metadata": {
    "colab": {
     "base_uri": "https://localhost:8080/"
    },
    "id": "YXFCsNcY79jx",
    "outputId": "09af112f-e1e9-4a47-c988-37ee2a068df2"
   },
   "outputs": [],
   "source": [
    "from transformers import DistilBertForQuestionAnswering\n",
    "\n",
    "pytorch_model = DistilBertForQuestionAnswering.from_pretrained(\"model/pytorch\")"
   ]
  },
  {
   "cell_type": "markdown",
   "metadata": {
    "id": "xCUdMmCxHP6_"
   },
   "source": [
    "En lugar de un bucle de entrenamiento personalizado, utilizarás el [🤗 Trainer](https://huggingface.co/transformers/main_classes/trainer.html), que contiene un bucle de entrenamiento básico y es bastante fácil de implementar en PyTorch.\n",
    "\n",
    "<details><summary><font size=\"2\" color=\"darkblue\"><b> Texto Original </b></font></summary>\n",
    "\n",
    "Instead of a custom training loop, you will use the [🤗 Trainer](https://huggingface.co/transformers/main_classes/trainer.html), which contains a basic training loop and is fairly easy to implement in PyTorch."
   ]
  },
  {
   "cell_type": "code",
   "execution_count": 30,
   "metadata": {
    "colab": {
     "base_uri": "https://localhost:8080/",
     "height": 329
    },
    "id": "1htmS3TV-2Bk",
    "outputId": "cc21bfbb-da09-47f9-ee16-7db0096d35e7"
   },
   "outputs": [
    {
     "data": {
      "text/html": [
       "\n",
       "    <div>\n",
       "        <style>\n",
       "            /* Turns off some styling */\n",
       "            progress {\n",
       "                /* gets rid of default border in Firefox and Opera. */\n",
       "                border: none;\n",
       "                /* Needs to be in here for Safari polyfill so background images work as expected. */\n",
       "                background-size: auto;\n",
       "            }\n",
       "        </style>\n",
       "      \n",
       "      <progress value='375' max='375' style='width:300px; height:20px; vertical-align: middle;'></progress>\n",
       "      [375/375 00:13, Epoch 3/3]\n",
       "    </div>\n",
       "    <table border=\"1\" class=\"dataframe\">\n",
       "  <thead>\n",
       "    <tr style=\"text-align: left;\">\n",
       "      <th>Step</th>\n",
       "      <th>Training Loss</th>\n",
       "    </tr>\n",
       "  </thead>\n",
       "  <tbody>\n",
       "    <tr>\n",
       "      <td>50</td>\n",
       "      <td>1.553700</td>\n",
       "    </tr>\n",
       "    <tr>\n",
       "      <td>100</td>\n",
       "      <td>0.783700</td>\n",
       "    </tr>\n",
       "    <tr>\n",
       "      <td>150</td>\n",
       "      <td>0.601800</td>\n",
       "    </tr>\n",
       "    <tr>\n",
       "      <td>200</td>\n",
       "      <td>0.435200</td>\n",
       "    </tr>\n",
       "    <tr>\n",
       "      <td>250</td>\n",
       "      <td>0.358600</td>\n",
       "    </tr>\n",
       "    <tr>\n",
       "      <td>300</td>\n",
       "      <td>0.295800</td>\n",
       "    </tr>\n",
       "    <tr>\n",
       "      <td>350</td>\n",
       "      <td>0.413400</td>\n",
       "    </tr>\n",
       "  </tbody>\n",
       "</table><p>"
      ],
      "text/plain": [
       "<IPython.core.display.HTML object>"
      ]
     },
     "metadata": {},
     "output_type": "display_data"
    },
    {
     "data": {
      "text/plain": [
       "TrainOutput(global_step=375, training_loss=0.6163130976359049, metrics={'train_runtime': 13.7817, 'train_samples_per_second': 27.21, 'total_flos': 31058547624000, 'epoch': 3.0})"
      ]
     },
     "execution_count": 30,
     "metadata": {},
     "output_type": "execute_result"
    }
   ],
   "source": [
    "from transformers import Trainer, TrainingArguments\n",
    "\n",
    "training_args = TrainingArguments(\n",
    "    output_dir='results',          # output directory\n",
    "    overwrite_output_dir=True,\n",
    "    num_train_epochs=3,              # total number of training epochs\n",
    "    per_device_train_batch_size=8,  # batch size per device during training\n",
    "    per_device_eval_batch_size=8,   # batch size for evaluation\n",
    "    warmup_steps=20,                # number of warmup steps for learning rate scheduler\n",
    "    weight_decay=0.01,               # strength of weight decay\n",
    "    logging_dir=None,            # directory for storing logs\n",
    "    logging_steps=50\n",
    ")\n",
    "\n",
    "trainer = Trainer(\n",
    "    model=pytorch_model,                 # the instantiated 🤗 Transformers model to be trained\n",
    "    args=training_args,                  # training arguments, defined above\n",
    "    train_dataset=train_ds,         # training dataset\n",
    "    eval_dataset=test_ds,\n",
    "    compute_metrics=compute_metrics             # evaluation dataset\n",
    ")\n",
    "\n",
    "trainer.train()"
   ]
  },
  {
   "cell_type": "code",
   "execution_count": 31,
   "metadata": {
    "colab": {
     "base_uri": "https://localhost:8080/",
     "height": 207
    },
    "id": "lDzbm7vzAiPJ",
    "outputId": "7cd62f51-a04b-4583-bc0e-e459813d3103"
   },
   "outputs": [
    {
     "data": {
      "text/html": [
       "\n",
       "    <div>\n",
       "        <style>\n",
       "            /* Turns off some styling */\n",
       "            progress {\n",
       "                /* gets rid of default border in Firefox and Opera. */\n",
       "                border: none;\n",
       "                /* Needs to be in here for Safari polyfill so background images work as expected. */\n",
       "                background-size: auto;\n",
       "            }\n",
       "        </style>\n",
       "      \n",
       "      <progress value='125' max='125' style='width:300px; height:20px; vertical-align: middle;'></progress>\n",
       "      [125/125 00:02]\n",
       "    </div>\n",
       "    "
      ],
      "text/plain": [
       "<IPython.core.display.HTML object>"
      ]
     },
     "metadata": {},
     "output_type": "display_data"
    },
    {
     "data": {
      "text/plain": [
       "{'eval_loss': 0.32361623644828796,\n",
       " 'eval_f1_start': 0.7895575553055868,\n",
       " 'eval_f1_end': 0.7883126550868487,\n",
       " 'eval_runtime': 2.1261,\n",
       " 'eval_samples_per_second': 470.335,\n",
       " 'epoch': 3.0}"
      ]
     },
     "execution_count": 31,
     "metadata": {},
     "output_type": "execute_result"
    }
   ],
   "source": [
    "trainer.evaluate(test_ds)"
   ]
  },
  {
   "cell_type": "markdown",
   "metadata": {
    "id": "QAgrcs2pHvVu"
   },
   "source": [
    "¡Ahora es el momento de hacer una pregunta a tu modelo PyTorch! \n",
    "* Antes de probar tu modelo con una pregunta, puedes decirle a PyTorch que envíe tu modelo y entradas a la GPU si tu máquina tiene una, o a la CPU si no la tiene. \n",
    "* Luego puedes proceder a tokenizar tu entrada y crear tensores de PyTorch y enviarlos a tu dispositivo. \n",
    "* El resto del pipeline es relativamente similar al que implementaste para TensorFlow.   \n",
    "\n",
    "<details><summary><font size=\"2\" color=\"darkblue\"><b> Texto Original </b></font></summary>\n",
    "\n",
    "Now it is time to ask your PyTorch model a question! \n",
    "* Before testing your model with a question, you can tell PyTorch to send your model and inputs to the GPU if your machine has one, or the CPU if it does not. \n",
    "* You can then proceed to tokenize your input and create PyTorch tensors and send them to your device. \n",
    "* The rest of the pipeline is relatively similar to the one you implemented for TensorFlow.   \n"
   ]
  },
  {
   "cell_type": "code",
   "execution_count": 32,
   "metadata": {
    "colab": {
     "base_uri": "https://localhost:8080/"
    },
    "id": "yfBe9AFABqUr",
    "outputId": "b5ca6039-8ce2-4e75-9161-1c96a0f39425"
   },
   "outputs": [
    {
     "name": "stdout",
     "output_type": "stream",
     "text": [
      "What is east of the hallway? Kitchen\n"
     ]
    }
   ],
   "source": [
    "import torch\n",
    "\n",
    "device = torch.device('cuda') if torch.cuda.is_available() else torch.device('cpu')\n",
    "\n",
    "pytorch_model.to(device)\n",
    "\n",
    "question, text = 'What is east of the hallway?','The kitchen is east of the hallway. The garden is south of the bedroom.'\n",
    "\n",
    "input_dict = tokenizer(text, question, return_tensors='pt')\n",
    "\n",
    "input_ids = input_dict['input_ids'].to(device)\n",
    "attention_mask = input_dict['attention_mask'].to(device)\n",
    "\n",
    "outputs = pytorch_model(input_ids, attention_mask=attention_mask)\n",
    "\n",
    "start_logits = outputs[0]\n",
    "end_logits = outputs[1]\n",
    "\n",
    "all_tokens = tokenizer.convert_ids_to_tokens(input_dict[\"input_ids\"].numpy()[0])\n",
    "answer = ' '.join(all_tokens[torch.argmax(start_logits, 1)[0] : torch.argmax(end_logits, 1)[0]+1])\n",
    "\n",
    "print(question, answer.capitalize())"
   ]
  },
  {
   "cell_type": "markdown",
   "metadata": {
    "id": "eGzuHkMZ4q9I"
   },
   "source": [
    "### ¡Felicitaciones!\n",
    " \n",
    "Ha completado este cuaderno y ahora puede implementar los modelos Transformer para las tareas de control de calidad.\n",
    "\n",
    "Ahora eres capaz de:\n",
    "* Realizar respuestas extractivas a preguntas \n",
    "* Ajustar un modelo transformador preentrenado a un conjunto de datos personalizado\n",
    "* Implementar un modelo de control de calidad en TensorFlow y PyTorch\n",
    "\n",
    "<details><summary><font size=\"2\" color=\"darkblue\"><b> Texto Original </b></font></summary>\n",
    "\n",
    "### Congratulations!\n",
    " \n",
    "You've completed this notebook, and can now implement Transformer models for QA tasks!\n",
    "\n",
    "You are now able to:\n",
    "* Perform extractive Question Answering \n",
    "* Fine-tune a pre-trained transformer model to a custom dataset\n",
    "* Implement a QA model in TensorFlow and PyTorch"
   ]
  },
  {
   "cell_type": "markdown",
   "metadata": {
    "id": "G8tAV-584vKE"
   },
   "source": [
    "<font color='blue'><b>Lo que debe recordar</b>:\n",
    "- Los modelos transformadores suelen ser entrenados por tokenizadores que dividen las palabras en subpalabras.\n",
    "  - Antes de procesar, es importante que alinees los índices de inicio y fin con los tokens asociados a la palabra de respuesta objetivo.\n",
    "- PyTorch es un framework relativamente ligero y fácil de implementar que puede facilitar la creación rápida de prototipos, mientras que TensorFlow tiene ventajas en el escalado y es más utilizado en producción\n",
    "  - El `tf.GradientTape` permite construir bucles de entrenamiento personalizados en TensorFlow\n",
    "  - La API `Trainer` de PyTorch te ofrece un bucle de entrenamiento básico compatible con 🤗 modelos y conjuntos de datos\n",
    "    \n",
    "<details><summary><font size=\"2\" color=\"darkblue\"><b> Texto Original </b></font></summary>\n",
    "\n",
    "<font color='blue'><b>What you should remember</b>:\n",
    "- Transformer models are often trained by tokenizers that split words into subwords.\n",
    "  - Before processing, it is important that you align the start and end indices with the tokens associated with the target answer word.\n",
    "- PyTorch is a relatively light and easy to implement framework that can make rapid prototyping easier, while TensorFlow has advantages in scaling and is more widely used in production\n",
    "  - `tf.GradientTape` allows you to build custom training loops in TensorFlow\n",
    "  - The `Trainer` API in PyTorch gives you a basic training loop that is compatible with 🤗 models and datasets"
   ]
  },
  {
   "cell_type": "code",
   "execution_count": 3,
   "metadata": {},
   "outputs": [
    {
     "data": {
      "application/javascript": [
       "let element = document.getElementById('submit-notebook-button-group');\n",
       "if (!element) {\n",
       "    window._save_and_close = function(){\n",
       "        IPython.notebook.save_checkpoint();\n",
       "        IPython.notebook.session.delete();\n",
       "        window.onbeforeunload = null\n",
       "        setTimeout(function() {window.close();}, 1000)\n",
       "    }\n",
       "    let header = document.getElementById('maintoolbar-container');\n",
       "    element = document.createElement(\"div\");\n",
       "    element.setAttribute(\"class\", \"btn-group\");\n",
       "    element.setAttribute(\"id\", \"submit-notebook-button-group\");\n",
       "    element.setAttribute(\"align\", \"right\");\n",
       "    element.setAttribute(\"style\", \"float:right\")\n",
       "    element.innerHTML = '<button class=\"btn btn-default\" title=\"Save and close this notebook.\" style=\"background-color:rgb(42, 115, 204); color:white; padding:4px 8px\" onclick=window._save_and_close()>Save and close</button>'\n",
       "    header.appendChild(element); \n",
       "}                    \n"
      ],
      "text/plain": [
       "<IPython.core.display.Javascript object>"
      ]
     },
     "metadata": {},
     "output_type": "display_data"
    }
   ],
   "source": [
    "%%javascript\n",
    "let element = document.getElementById('submit-notebook-button-group');\n",
    "if (!element) {\n",
    "    window._save_and_close = function(){\n",
    "        IPython.notebook.save_checkpoint();\n",
    "        IPython.notebook.session.delete();\n",
    "        window.onbeforeunload = null\n",
    "        setTimeout(function() {window.close();}, 1000)\n",
    "    }\n",
    "    let header = document.getElementById('maintoolbar-container');\n",
    "    element = document.createElement(\"div\");\n",
    "    element.setAttribute(\"class\", \"btn-group\");\n",
    "    element.setAttribute(\"id\", \"submit-notebook-button-group\");\n",
    "    element.setAttribute(\"align\", \"right\");\n",
    "    element.setAttribute(\"style\", \"float:right\")\n",
    "    element.innerHTML = '<button class=\"btn btn-default\" title=\"Save and close this notebook.\" style=\"background-color:rgb(42, 115, 204); color:white; padding:4px 8px\" onclick=window._save_and_close()>Save and close</button>'\n",
    "    header.appendChild(element); \n",
    "}                    "
   ]
  },
  {
   "cell_type": "code",
   "execution_count": null,
   "metadata": {},
   "outputs": [],
   "source": []
  }
 ],
 "metadata": {
  "accelerator": "GPU",
  "colab": {
   "collapsed_sections": [],
   "name": "QA-dataset.ipynb",
   "provenance": []
  },
  "kernelspec": {
   "display_name": "Python 3",
   "language": "python",
   "name": "python3"
  },
  "language_info": {
   "codemirror_mode": {
    "name": "ipython",
    "version": 3
   },
   "file_extension": ".py",
   "mimetype": "text/x-python",
   "name": "python",
   "nbconvert_exporter": "python",
   "pygments_lexer": "ipython3",
   "version": "3.6.9"
  },
  "widgets": {
   "application/vnd.jupyter.widget-state+json": {
    "013f041c3e0b4e35bf2432fc345cb7bf": {
     "model_module": "@jupyter-widgets/controls",
     "model_name": "FloatProgressModel",
     "state": {
      "_dom_classes": [],
      "_model_module": "@jupyter-widgets/controls",
      "_model_module_version": "1.5.0",
      "_model_name": "FloatProgressModel",
      "_view_count": null,
      "_view_module": "@jupyter-widgets/controls",
      "_view_module_version": "1.5.0",
      "_view_name": "ProgressView",
      "bar_style": "success",
      "description": "100%",
      "description_tooltip": null,
      "layout": "IPY_MODEL_1e6c02317171453cbd3d4d665879b0d4",
      "max": 1000,
      "min": 0,
      "orientation": "horizontal",
      "style": "IPY_MODEL_f0e34f2bf626434fa73f0def26b3d1a5",
      "value": 1000
     }
    },
    "07aaa9b79a744856b19d723370d6e588": {
     "model_module": "@jupyter-widgets/controls",
     "model_name": "HBoxModel",
     "state": {
      "_dom_classes": [],
      "_model_module": "@jupyter-widgets/controls",
      "_model_module_version": "1.5.0",
      "_model_name": "HBoxModel",
      "_view_count": null,
      "_view_module": "@jupyter-widgets/controls",
      "_view_module_version": "1.5.0",
      "_view_name": "HBoxView",
      "box_style": "",
      "children": [
       "IPY_MODEL_b39b85d8cb05418aa92e8476ad02f755",
       "IPY_MODEL_0a8534ac52af4d48ad82b66463ad08c3"
      ],
      "layout": "IPY_MODEL_afedd2328cf141f78775e4cfa7758267"
     }
    },
    "0a8534ac52af4d48ad82b66463ad08c3": {
     "model_module": "@jupyter-widgets/controls",
     "model_name": "HTMLModel",
     "state": {
      "_dom_classes": [],
      "_model_module": "@jupyter-widgets/controls",
      "_model_module_version": "1.5.0",
      "_model_name": "HTMLModel",
      "_view_count": null,
      "_view_module": "@jupyter-widgets/controls",
      "_view_module_version": "1.5.0",
      "_view_name": "HTMLView",
      "description": "",
      "description_tooltip": null,
      "layout": "IPY_MODEL_8cfbd3b14b23417993270f851a2d8ff9",
      "placeholder": "​",
      "style": "IPY_MODEL_31fc08a1e7e04f6b9b3ea400ccfaea75",
      "value": " 1000/1000 [01:40&lt;00:00,  9.90ex/s]"
     }
    },
    "1e6c02317171453cbd3d4d665879b0d4": {
     "model_module": "@jupyter-widgets/base",
     "model_name": "LayoutModel",
     "state": {
      "_model_module": "@jupyter-widgets/base",
      "_model_module_version": "1.2.0",
      "_model_name": "LayoutModel",
      "_view_count": null,
      "_view_module": "@jupyter-widgets/base",
      "_view_module_version": "1.2.0",
      "_view_name": "LayoutView",
      "align_content": null,
      "align_items": null,
      "align_self": null,
      "border": null,
      "bottom": null,
      "display": null,
      "flex": null,
      "flex_flow": null,
      "grid_area": null,
      "grid_auto_columns": null,
      "grid_auto_flow": null,
      "grid_auto_rows": null,
      "grid_column": null,
      "grid_gap": null,
      "grid_row": null,
      "grid_template_areas": null,
      "grid_template_columns": null,
      "grid_template_rows": null,
      "height": null,
      "justify_content": null,
      "justify_items": null,
      "left": null,
      "margin": null,
      "max_height": null,
      "max_width": null,
      "min_height": null,
      "min_width": null,
      "object_fit": null,
      "object_position": null,
      "order": null,
      "overflow": null,
      "overflow_x": null,
      "overflow_y": null,
      "padding": null,
      "right": null,
      "top": null,
      "visibility": null,
      "width": null
     }
    },
    "1f2773e3e80c4dd8b6b26e171bf33bc7": {
     "model_module": "@jupyter-widgets/base",
     "model_name": "LayoutModel",
     "state": {
      "_model_module": "@jupyter-widgets/base",
      "_model_module_version": "1.2.0",
      "_model_name": "LayoutModel",
      "_view_count": null,
      "_view_module": "@jupyter-widgets/base",
      "_view_module_version": "1.2.0",
      "_view_name": "LayoutView",
      "align_content": null,
      "align_items": null,
      "align_self": null,
      "border": null,
      "bottom": null,
      "display": null,
      "flex": null,
      "flex_flow": null,
      "grid_area": null,
      "grid_auto_columns": null,
      "grid_auto_flow": null,
      "grid_auto_rows": null,
      "grid_column": null,
      "grid_gap": null,
      "grid_row": null,
      "grid_template_areas": null,
      "grid_template_columns": null,
      "grid_template_rows": null,
      "height": null,
      "justify_content": null,
      "justify_items": null,
      "left": null,
      "margin": null,
      "max_height": null,
      "max_width": null,
      "min_height": null,
      "min_width": null,
      "object_fit": null,
      "object_position": null,
      "order": null,
      "overflow": null,
      "overflow_x": null,
      "overflow_y": null,
      "padding": null,
      "right": null,
      "top": null,
      "visibility": null,
      "width": null
     }
    },
    "31fc08a1e7e04f6b9b3ea400ccfaea75": {
     "model_module": "@jupyter-widgets/controls",
     "model_name": "DescriptionStyleModel",
     "state": {
      "_model_module": "@jupyter-widgets/controls",
      "_model_module_version": "1.5.0",
      "_model_name": "DescriptionStyleModel",
      "_view_count": null,
      "_view_module": "@jupyter-widgets/base",
      "_view_module_version": "1.2.0",
      "_view_name": "StyleView",
      "description_width": ""
     }
    },
    "32a5c82c7a9845c09c11bb4e30c2f1aa": {
     "model_module": "@jupyter-widgets/base",
     "model_name": "LayoutModel",
     "state": {
      "_model_module": "@jupyter-widgets/base",
      "_model_module_version": "1.2.0",
      "_model_name": "LayoutModel",
      "_view_count": null,
      "_view_module": "@jupyter-widgets/base",
      "_view_module_version": "1.2.0",
      "_view_name": "LayoutView",
      "align_content": null,
      "align_items": null,
      "align_self": null,
      "border": null,
      "bottom": null,
      "display": null,
      "flex": null,
      "flex_flow": null,
      "grid_area": null,
      "grid_auto_columns": null,
      "grid_auto_flow": null,
      "grid_auto_rows": null,
      "grid_column": null,
      "grid_gap": null,
      "grid_row": null,
      "grid_template_areas": null,
      "grid_template_columns": null,
      "grid_template_rows": null,
      "height": null,
      "justify_content": null,
      "justify_items": null,
      "left": null,
      "margin": null,
      "max_height": null,
      "max_width": null,
      "min_height": null,
      "min_width": null,
      "object_fit": null,
      "object_position": null,
      "order": null,
      "overflow": null,
      "overflow_x": null,
      "overflow_y": null,
      "padding": null,
      "right": null,
      "top": null,
      "visibility": null,
      "width": null
     }
    },
    "364ba960eb474c9084cc71851594d345": {
     "model_module": "@jupyter-widgets/base",
     "model_name": "LayoutModel",
     "state": {
      "_model_module": "@jupyter-widgets/base",
      "_model_module_version": "1.2.0",
      "_model_name": "LayoutModel",
      "_view_count": null,
      "_view_module": "@jupyter-widgets/base",
      "_view_module_version": "1.2.0",
      "_view_name": "LayoutView",
      "align_content": null,
      "align_items": null,
      "align_self": null,
      "border": null,
      "bottom": null,
      "display": null,
      "flex": null,
      "flex_flow": null,
      "grid_area": null,
      "grid_auto_columns": null,
      "grid_auto_flow": null,
      "grid_auto_rows": null,
      "grid_column": null,
      "grid_gap": null,
      "grid_row": null,
      "grid_template_areas": null,
      "grid_template_columns": null,
      "grid_template_rows": null,
      "height": null,
      "justify_content": null,
      "justify_items": null,
      "left": null,
      "margin": null,
      "max_height": null,
      "max_width": null,
      "min_height": null,
      "min_width": null,
      "object_fit": null,
      "object_position": null,
      "order": null,
      "overflow": null,
      "overflow_x": null,
      "overflow_y": null,
      "padding": null,
      "right": null,
      "top": null,
      "visibility": null,
      "width": null
     }
    },
    "39029f730ae140c7902fca6dac5361ad": {
     "model_module": "@jupyter-widgets/base",
     "model_name": "LayoutModel",
     "state": {
      "_model_module": "@jupyter-widgets/base",
      "_model_module_version": "1.2.0",
      "_model_name": "LayoutModel",
      "_view_count": null,
      "_view_module": "@jupyter-widgets/base",
      "_view_module_version": "1.2.0",
      "_view_name": "LayoutView",
      "align_content": null,
      "align_items": null,
      "align_self": null,
      "border": null,
      "bottom": null,
      "display": null,
      "flex": null,
      "flex_flow": null,
      "grid_area": null,
      "grid_auto_columns": null,
      "grid_auto_flow": null,
      "grid_auto_rows": null,
      "grid_column": null,
      "grid_gap": null,
      "grid_row": null,
      "grid_template_areas": null,
      "grid_template_columns": null,
      "grid_template_rows": null,
      "height": null,
      "justify_content": null,
      "justify_items": null,
      "left": null,
      "margin": null,
      "max_height": null,
      "max_width": null,
      "min_height": null,
      "min_width": null,
      "object_fit": null,
      "object_position": null,
      "order": null,
      "overflow": null,
      "overflow_x": null,
      "overflow_y": null,
      "padding": null,
      "right": null,
      "top": null,
      "visibility": null,
      "width": null
     }
    },
    "393697738e724e9fad4d163de0a77840": {
     "model_module": "@jupyter-widgets/controls",
     "model_name": "ProgressStyleModel",
     "state": {
      "_model_module": "@jupyter-widgets/controls",
      "_model_module_version": "1.5.0",
      "_model_name": "ProgressStyleModel",
      "_view_count": null,
      "_view_module": "@jupyter-widgets/base",
      "_view_module_version": "1.2.0",
      "_view_name": "StyleView",
      "bar_color": null,
      "description_width": "initial"
     }
    },
    "3abb36da57c841838867c56e2a3a325b": {
     "model_module": "@jupyter-widgets/controls",
     "model_name": "ProgressStyleModel",
     "state": {
      "_model_module": "@jupyter-widgets/controls",
      "_model_module_version": "1.5.0",
      "_model_name": "ProgressStyleModel",
      "_view_count": null,
      "_view_module": "@jupyter-widgets/base",
      "_view_module_version": "1.2.0",
      "_view_name": "StyleView",
      "bar_color": null,
      "description_width": "initial"
     }
    },
    "3dab28395f3f475d8242e4d4d45ed059": {
     "model_module": "@jupyter-widgets/controls",
     "model_name": "HTMLModel",
     "state": {
      "_dom_classes": [],
      "_model_module": "@jupyter-widgets/controls",
      "_model_module_version": "1.5.0",
      "_model_name": "HTMLModel",
      "_view_count": null,
      "_view_module": "@jupyter-widgets/controls",
      "_view_module_version": "1.5.0",
      "_view_name": "HTMLView",
      "description": "",
      "description_tooltip": null,
      "layout": "IPY_MODEL_63b4ebafcead4c0784b5511219a6a198",
      "placeholder": "​",
      "style": "IPY_MODEL_58718e12f1b7459989ab5296846c4be6",
      "value": " 1000/1000 [00:10&lt;00:00, 97.35ex/s]"
     }
    },
    "44b7bea3e09d4e5684921c66dd4c7514": {
     "model_module": "@jupyter-widgets/controls",
     "model_name": "HBoxModel",
     "state": {
      "_dom_classes": [],
      "_model_module": "@jupyter-widgets/controls",
      "_model_module_version": "1.5.0",
      "_model_name": "HBoxModel",
      "_view_count": null,
      "_view_module": "@jupyter-widgets/controls",
      "_view_module_version": "1.5.0",
      "_view_name": "HBoxView",
      "box_style": "",
      "children": [
       "IPY_MODEL_7e1325e57bf9417e93d7ef180794ab3c",
       "IPY_MODEL_3dab28395f3f475d8242e4d4d45ed059"
      ],
      "layout": "IPY_MODEL_6af3ec5091d74bd1a95bf02a87dd240b"
     }
    },
    "4d9152a30e824931983a425ee6d607a6": {
     "model_module": "@jupyter-widgets/controls",
     "model_name": "HBoxModel",
     "state": {
      "_dom_classes": [],
      "_model_module": "@jupyter-widgets/controls",
      "_model_module_version": "1.5.0",
      "_model_name": "HBoxModel",
      "_view_count": null,
      "_view_module": "@jupyter-widgets/controls",
      "_view_module_version": "1.5.0",
      "_view_name": "HBoxView",
      "box_style": "",
      "children": [
       "IPY_MODEL_013f041c3e0b4e35bf2432fc345cb7bf",
       "IPY_MODEL_ef4e12f29f1e458f811a400faf21bdcc"
      ],
      "layout": "IPY_MODEL_1f2773e3e80c4dd8b6b26e171bf33bc7"
     }
    },
    "4f5b06c3a5e44c6cade5bf83634d9f69": {
     "model_module": "@jupyter-widgets/controls",
     "model_name": "ProgressStyleModel",
     "state": {
      "_model_module": "@jupyter-widgets/controls",
      "_model_module_version": "1.5.0",
      "_model_name": "ProgressStyleModel",
      "_view_count": null,
      "_view_module": "@jupyter-widgets/base",
      "_view_module_version": "1.2.0",
      "_view_name": "StyleView",
      "bar_color": null,
      "description_width": "initial"
     }
    },
    "568f11b4462f4b4e95f3ad5947bb275e": {
     "model_module": "@jupyter-widgets/controls",
     "model_name": "DescriptionStyleModel",
     "state": {
      "_model_module": "@jupyter-widgets/controls",
      "_model_module_version": "1.5.0",
      "_model_name": "DescriptionStyleModel",
      "_view_count": null,
      "_view_module": "@jupyter-widgets/base",
      "_view_module_version": "1.2.0",
      "_view_name": "StyleView",
      "description_width": ""
     }
    },
    "58718e12f1b7459989ab5296846c4be6": {
     "model_module": "@jupyter-widgets/controls",
     "model_name": "DescriptionStyleModel",
     "state": {
      "_model_module": "@jupyter-widgets/controls",
      "_model_module_version": "1.5.0",
      "_model_name": "DescriptionStyleModel",
      "_view_count": null,
      "_view_module": "@jupyter-widgets/base",
      "_view_module_version": "1.2.0",
      "_view_name": "StyleView",
      "description_width": ""
     }
    },
    "5b6dbe662ca24834b7678638e101e1ff": {
     "model_module": "@jupyter-widgets/controls",
     "model_name": "DescriptionStyleModel",
     "state": {
      "_model_module": "@jupyter-widgets/controls",
      "_model_module_version": "1.5.0",
      "_model_name": "DescriptionStyleModel",
      "_view_count": null,
      "_view_module": "@jupyter-widgets/base",
      "_view_module_version": "1.2.0",
      "_view_name": "StyleView",
      "description_width": ""
     }
    },
    "63b4ebafcead4c0784b5511219a6a198": {
     "model_module": "@jupyter-widgets/base",
     "model_name": "LayoutModel",
     "state": {
      "_model_module": "@jupyter-widgets/base",
      "_model_module_version": "1.2.0",
      "_model_name": "LayoutModel",
      "_view_count": null,
      "_view_module": "@jupyter-widgets/base",
      "_view_module_version": "1.2.0",
      "_view_name": "LayoutView",
      "align_content": null,
      "align_items": null,
      "align_self": null,
      "border": null,
      "bottom": null,
      "display": null,
      "flex": null,
      "flex_flow": null,
      "grid_area": null,
      "grid_auto_columns": null,
      "grid_auto_flow": null,
      "grid_auto_rows": null,
      "grid_column": null,
      "grid_gap": null,
      "grid_row": null,
      "grid_template_areas": null,
      "grid_template_columns": null,
      "grid_template_rows": null,
      "height": null,
      "justify_content": null,
      "justify_items": null,
      "left": null,
      "margin": null,
      "max_height": null,
      "max_width": null,
      "min_height": null,
      "min_width": null,
      "object_fit": null,
      "object_position": null,
      "order": null,
      "overflow": null,
      "overflow_x": null,
      "overflow_y": null,
      "padding": null,
      "right": null,
      "top": null,
      "visibility": null,
      "width": null
     }
    },
    "6af3ec5091d74bd1a95bf02a87dd240b": {
     "model_module": "@jupyter-widgets/base",
     "model_name": "LayoutModel",
     "state": {
      "_model_module": "@jupyter-widgets/base",
      "_model_module_version": "1.2.0",
      "_model_name": "LayoutModel",
      "_view_count": null,
      "_view_module": "@jupyter-widgets/base",
      "_view_module_version": "1.2.0",
      "_view_name": "LayoutView",
      "align_content": null,
      "align_items": null,
      "align_self": null,
      "border": null,
      "bottom": null,
      "display": null,
      "flex": null,
      "flex_flow": null,
      "grid_area": null,
      "grid_auto_columns": null,
      "grid_auto_flow": null,
      "grid_auto_rows": null,
      "grid_column": null,
      "grid_gap": null,
      "grid_row": null,
      "grid_template_areas": null,
      "grid_template_columns": null,
      "grid_template_rows": null,
      "height": null,
      "justify_content": null,
      "justify_items": null,
      "left": null,
      "margin": null,
      "max_height": null,
      "max_width": null,
      "min_height": null,
      "min_width": null,
      "object_fit": null,
      "object_position": null,
      "order": null,
      "overflow": null,
      "overflow_x": null,
      "overflow_y": null,
      "padding": null,
      "right": null,
      "top": null,
      "visibility": null,
      "width": null
     }
    },
    "723acefae33d448199fa5c1a9ec3f246": {
     "model_module": "@jupyter-widgets/controls",
     "model_name": "HBoxModel",
     "state": {
      "_dom_classes": [],
      "_model_module": "@jupyter-widgets/controls",
      "_model_module_version": "1.5.0",
      "_model_name": "HBoxModel",
      "_view_count": null,
      "_view_module": "@jupyter-widgets/controls",
      "_view_module_version": "1.5.0",
      "_view_name": "HBoxView",
      "box_style": "",
      "children": [
       "IPY_MODEL_77273c2e4b4e4e4c8ee4b6b344749518",
       "IPY_MODEL_f0ac3b9b8f664479940c6ee18fc2f13e"
      ],
      "layout": "IPY_MODEL_32a5c82c7a9845c09c11bb4e30c2f1aa"
     }
    },
    "77273c2e4b4e4e4c8ee4b6b344749518": {
     "model_module": "@jupyter-widgets/controls",
     "model_name": "FloatProgressModel",
     "state": {
      "_dom_classes": [],
      "_model_module": "@jupyter-widgets/controls",
      "_model_module_version": "1.5.0",
      "_model_name": "FloatProgressModel",
      "_view_count": null,
      "_view_module": "@jupyter-widgets/controls",
      "_view_module_version": "1.5.0",
      "_view_name": "ProgressView",
      "bar_style": "success",
      "description": "100%",
      "description_tooltip": null,
      "layout": "IPY_MODEL_e592db98c0c34c5e800f5d7b6d3c099e",
      "max": 1000,
      "min": 0,
      "orientation": "horizontal",
      "style": "IPY_MODEL_393697738e724e9fad4d163de0a77840",
      "value": 1000
     }
    },
    "7e1325e57bf9417e93d7ef180794ab3c": {
     "model_module": "@jupyter-widgets/controls",
     "model_name": "FloatProgressModel",
     "state": {
      "_dom_classes": [],
      "_model_module": "@jupyter-widgets/controls",
      "_model_module_version": "1.5.0",
      "_model_name": "FloatProgressModel",
      "_view_count": null,
      "_view_module": "@jupyter-widgets/controls",
      "_view_module_version": "1.5.0",
      "_view_name": "ProgressView",
      "bar_style": "success",
      "description": "100%",
      "description_tooltip": null,
      "layout": "IPY_MODEL_7fb1118c0b4443b6b6dbb5803e9ec2e8",
      "max": 1000,
      "min": 0,
      "orientation": "horizontal",
      "style": "IPY_MODEL_ca722dcd857c433c9058585e31a1673d",
      "value": 1000
     }
    },
    "7fb1118c0b4443b6b6dbb5803e9ec2e8": {
     "model_module": "@jupyter-widgets/base",
     "model_name": "LayoutModel",
     "state": {
      "_model_module": "@jupyter-widgets/base",
      "_model_module_version": "1.2.0",
      "_model_name": "LayoutModel",
      "_view_count": null,
      "_view_module": "@jupyter-widgets/base",
      "_view_module_version": "1.2.0",
      "_view_name": "LayoutView",
      "align_content": null,
      "align_items": null,
      "align_self": null,
      "border": null,
      "bottom": null,
      "display": null,
      "flex": null,
      "flex_flow": null,
      "grid_area": null,
      "grid_auto_columns": null,
      "grid_auto_flow": null,
      "grid_auto_rows": null,
      "grid_column": null,
      "grid_gap": null,
      "grid_row": null,
      "grid_template_areas": null,
      "grid_template_columns": null,
      "grid_template_rows": null,
      "height": null,
      "justify_content": null,
      "justify_items": null,
      "left": null,
      "margin": null,
      "max_height": null,
      "max_width": null,
      "min_height": null,
      "min_width": null,
      "object_fit": null,
      "object_position": null,
      "order": null,
      "overflow": null,
      "overflow_x": null,
      "overflow_y": null,
      "padding": null,
      "right": null,
      "top": null,
      "visibility": null,
      "width": null
     }
    },
    "7fefe9e1121a43558d773500aef8935c": {
     "model_module": "@jupyter-widgets/base",
     "model_name": "LayoutModel",
     "state": {
      "_model_module": "@jupyter-widgets/base",
      "_model_module_version": "1.2.0",
      "_model_name": "LayoutModel",
      "_view_count": null,
      "_view_module": "@jupyter-widgets/base",
      "_view_module_version": "1.2.0",
      "_view_name": "LayoutView",
      "align_content": null,
      "align_items": null,
      "align_self": null,
      "border": null,
      "bottom": null,
      "display": null,
      "flex": null,
      "flex_flow": null,
      "grid_area": null,
      "grid_auto_columns": null,
      "grid_auto_flow": null,
      "grid_auto_rows": null,
      "grid_column": null,
      "grid_gap": null,
      "grid_row": null,
      "grid_template_areas": null,
      "grid_template_columns": null,
      "grid_template_rows": null,
      "height": null,
      "justify_content": null,
      "justify_items": null,
      "left": null,
      "margin": null,
      "max_height": null,
      "max_width": null,
      "min_height": null,
      "min_width": null,
      "object_fit": null,
      "object_position": null,
      "order": null,
      "overflow": null,
      "overflow_x": null,
      "overflow_y": null,
      "padding": null,
      "right": null,
      "top": null,
      "visibility": null,
      "width": null
     }
    },
    "863c5ce96db84e3da162072c9a13c913": {
     "model_module": "@jupyter-widgets/base",
     "model_name": "LayoutModel",
     "state": {
      "_model_module": "@jupyter-widgets/base",
      "_model_module_version": "1.2.0",
      "_model_name": "LayoutModel",
      "_view_count": null,
      "_view_module": "@jupyter-widgets/base",
      "_view_module_version": "1.2.0",
      "_view_name": "LayoutView",
      "align_content": null,
      "align_items": null,
      "align_self": null,
      "border": null,
      "bottom": null,
      "display": null,
      "flex": null,
      "flex_flow": null,
      "grid_area": null,
      "grid_auto_columns": null,
      "grid_auto_flow": null,
      "grid_auto_rows": null,
      "grid_column": null,
      "grid_gap": null,
      "grid_row": null,
      "grid_template_areas": null,
      "grid_template_columns": null,
      "grid_template_rows": null,
      "height": null,
      "justify_content": null,
      "justify_items": null,
      "left": null,
      "margin": null,
      "max_height": null,
      "max_width": null,
      "min_height": null,
      "min_width": null,
      "object_fit": null,
      "object_position": null,
      "order": null,
      "overflow": null,
      "overflow_x": null,
      "overflow_y": null,
      "padding": null,
      "right": null,
      "top": null,
      "visibility": null,
      "width": null
     }
    },
    "8968319cdaca476fb15c11a388dce39a": {
     "model_module": "@jupyter-widgets/controls",
     "model_name": "HBoxModel",
     "state": {
      "_dom_classes": [],
      "_model_module": "@jupyter-widgets/controls",
      "_model_module_version": "1.5.0",
      "_model_name": "HBoxModel",
      "_view_count": null,
      "_view_module": "@jupyter-widgets/controls",
      "_view_module_version": "1.5.0",
      "_view_name": "HBoxView",
      "box_style": "",
      "children": [
       "IPY_MODEL_a725734893004a45b61194f649f5f602",
       "IPY_MODEL_c4a24656d67844e995d3b8e175c6c497"
      ],
      "layout": "IPY_MODEL_863c5ce96db84e3da162072c9a13c913"
     }
    },
    "89fdda6e6688476495ca297bfe010bf8": {
     "model_module": "@jupyter-widgets/controls",
     "model_name": "DescriptionStyleModel",
     "state": {
      "_model_module": "@jupyter-widgets/controls",
      "_model_module_version": "1.5.0",
      "_model_name": "DescriptionStyleModel",
      "_view_count": null,
      "_view_module": "@jupyter-widgets/base",
      "_view_module_version": "1.2.0",
      "_view_name": "StyleView",
      "description_width": ""
     }
    },
    "8b961844b5004905922531bd805a9d57": {
     "model_module": "@jupyter-widgets/base",
     "model_name": "LayoutModel",
     "state": {
      "_model_module": "@jupyter-widgets/base",
      "_model_module_version": "1.2.0",
      "_model_name": "LayoutModel",
      "_view_count": null,
      "_view_module": "@jupyter-widgets/base",
      "_view_module_version": "1.2.0",
      "_view_name": "LayoutView",
      "align_content": null,
      "align_items": null,
      "align_self": null,
      "border": null,
      "bottom": null,
      "display": null,
      "flex": null,
      "flex_flow": null,
      "grid_area": null,
      "grid_auto_columns": null,
      "grid_auto_flow": null,
      "grid_auto_rows": null,
      "grid_column": null,
      "grid_gap": null,
      "grid_row": null,
      "grid_template_areas": null,
      "grid_template_columns": null,
      "grid_template_rows": null,
      "height": null,
      "justify_content": null,
      "justify_items": null,
      "left": null,
      "margin": null,
      "max_height": null,
      "max_width": null,
      "min_height": null,
      "min_width": null,
      "object_fit": null,
      "object_position": null,
      "order": null,
      "overflow": null,
      "overflow_x": null,
      "overflow_y": null,
      "padding": null,
      "right": null,
      "top": null,
      "visibility": null,
      "width": null
     }
    },
    "8cfbd3b14b23417993270f851a2d8ff9": {
     "model_module": "@jupyter-widgets/base",
     "model_name": "LayoutModel",
     "state": {
      "_model_module": "@jupyter-widgets/base",
      "_model_module_version": "1.2.0",
      "_model_name": "LayoutModel",
      "_view_count": null,
      "_view_module": "@jupyter-widgets/base",
      "_view_module_version": "1.2.0",
      "_view_name": "LayoutView",
      "align_content": null,
      "align_items": null,
      "align_self": null,
      "border": null,
      "bottom": null,
      "display": null,
      "flex": null,
      "flex_flow": null,
      "grid_area": null,
      "grid_auto_columns": null,
      "grid_auto_flow": null,
      "grid_auto_rows": null,
      "grid_column": null,
      "grid_gap": null,
      "grid_row": null,
      "grid_template_areas": null,
      "grid_template_columns": null,
      "grid_template_rows": null,
      "height": null,
      "justify_content": null,
      "justify_items": null,
      "left": null,
      "margin": null,
      "max_height": null,
      "max_width": null,
      "min_height": null,
      "min_width": null,
      "object_fit": null,
      "object_position": null,
      "order": null,
      "overflow": null,
      "overflow_x": null,
      "overflow_y": null,
      "padding": null,
      "right": null,
      "top": null,
      "visibility": null,
      "width": null
     }
    },
    "929946fdfaa04cf59d3b31cf92fc08d1": {
     "model_module": "@jupyter-widgets/controls",
     "model_name": "HTMLModel",
     "state": {
      "_dom_classes": [],
      "_model_module": "@jupyter-widgets/controls",
      "_model_module_version": "1.5.0",
      "_model_name": "HTMLModel",
      "_view_count": null,
      "_view_module": "@jupyter-widgets/controls",
      "_view_module_version": "1.5.0",
      "_view_name": "HTMLView",
      "description": "",
      "description_tooltip": null,
      "layout": "IPY_MODEL_cda72c45821a4eb89f1a3ab5510b26d3",
      "placeholder": "​",
      "style": "IPY_MODEL_89fdda6e6688476495ca297bfe010bf8",
      "value": " 1000/1000 [00:08&lt;00:00, 123.32ex/s]"
     }
    },
    "a725734893004a45b61194f649f5f602": {
     "model_module": "@jupyter-widgets/controls",
     "model_name": "FloatProgressModel",
     "state": {
      "_dom_classes": [],
      "_model_module": "@jupyter-widgets/controls",
      "_model_module_version": "1.5.0",
      "_model_name": "FloatProgressModel",
      "_view_count": null,
      "_view_module": "@jupyter-widgets/controls",
      "_view_module_version": "1.5.0",
      "_view_name": "ProgressView",
      "bar_style": "success",
      "description": "100%",
      "description_tooltip": null,
      "layout": "IPY_MODEL_afc33fa78b5d440192c435bfca6f7914",
      "max": 1000,
      "min": 0,
      "orientation": "horizontal",
      "style": "IPY_MODEL_4f5b06c3a5e44c6cade5bf83634d9f69",
      "value": 1000
     }
    },
    "aa5c0d374889482697fc0f7ce9c81afe": {
     "model_module": "@jupyter-widgets/controls",
     "model_name": "ProgressStyleModel",
     "state": {
      "_model_module": "@jupyter-widgets/controls",
      "_model_module_version": "1.5.0",
      "_model_name": "ProgressStyleModel",
      "_view_count": null,
      "_view_module": "@jupyter-widgets/base",
      "_view_module_version": "1.2.0",
      "_view_name": "StyleView",
      "bar_color": null,
      "description_width": "initial"
     }
    },
    "afc33fa78b5d440192c435bfca6f7914": {
     "model_module": "@jupyter-widgets/base",
     "model_name": "LayoutModel",
     "state": {
      "_model_module": "@jupyter-widgets/base",
      "_model_module_version": "1.2.0",
      "_model_name": "LayoutModel",
      "_view_count": null,
      "_view_module": "@jupyter-widgets/base",
      "_view_module_version": "1.2.0",
      "_view_name": "LayoutView",
      "align_content": null,
      "align_items": null,
      "align_self": null,
      "border": null,
      "bottom": null,
      "display": null,
      "flex": null,
      "flex_flow": null,
      "grid_area": null,
      "grid_auto_columns": null,
      "grid_auto_flow": null,
      "grid_auto_rows": null,
      "grid_column": null,
      "grid_gap": null,
      "grid_row": null,
      "grid_template_areas": null,
      "grid_template_columns": null,
      "grid_template_rows": null,
      "height": null,
      "justify_content": null,
      "justify_items": null,
      "left": null,
      "margin": null,
      "max_height": null,
      "max_width": null,
      "min_height": null,
      "min_width": null,
      "object_fit": null,
      "object_position": null,
      "order": null,
      "overflow": null,
      "overflow_x": null,
      "overflow_y": null,
      "padding": null,
      "right": null,
      "top": null,
      "visibility": null,
      "width": null
     }
    },
    "afedd2328cf141f78775e4cfa7758267": {
     "model_module": "@jupyter-widgets/base",
     "model_name": "LayoutModel",
     "state": {
      "_model_module": "@jupyter-widgets/base",
      "_model_module_version": "1.2.0",
      "_model_name": "LayoutModel",
      "_view_count": null,
      "_view_module": "@jupyter-widgets/base",
      "_view_module_version": "1.2.0",
      "_view_name": "LayoutView",
      "align_content": null,
      "align_items": null,
      "align_self": null,
      "border": null,
      "bottom": null,
      "display": null,
      "flex": null,
      "flex_flow": null,
      "grid_area": null,
      "grid_auto_columns": null,
      "grid_auto_flow": null,
      "grid_auto_rows": null,
      "grid_column": null,
      "grid_gap": null,
      "grid_row": null,
      "grid_template_areas": null,
      "grid_template_columns": null,
      "grid_template_rows": null,
      "height": null,
      "justify_content": null,
      "justify_items": null,
      "left": null,
      "margin": null,
      "max_height": null,
      "max_width": null,
      "min_height": null,
      "min_width": null,
      "object_fit": null,
      "object_position": null,
      "order": null,
      "overflow": null,
      "overflow_x": null,
      "overflow_y": null,
      "padding": null,
      "right": null,
      "top": null,
      "visibility": null,
      "width": null
     }
    },
    "b39b85d8cb05418aa92e8476ad02f755": {
     "model_module": "@jupyter-widgets/controls",
     "model_name": "FloatProgressModel",
     "state": {
      "_dom_classes": [],
      "_model_module": "@jupyter-widgets/controls",
      "_model_module_version": "1.5.0",
      "_model_name": "FloatProgressModel",
      "_view_count": null,
      "_view_module": "@jupyter-widgets/controls",
      "_view_module_version": "1.5.0",
      "_view_name": "ProgressView",
      "bar_style": "success",
      "description": "100%",
      "description_tooltip": null,
      "layout": "IPY_MODEL_8b961844b5004905922531bd805a9d57",
      "max": 1000,
      "min": 0,
      "orientation": "horizontal",
      "style": "IPY_MODEL_3abb36da57c841838867c56e2a3a325b",
      "value": 1000
     }
    },
    "b4c6a18610734036a16a14a43174c52e": {
     "model_module": "@jupyter-widgets/base",
     "model_name": "LayoutModel",
     "state": {
      "_model_module": "@jupyter-widgets/base",
      "_model_module_version": "1.2.0",
      "_model_name": "LayoutModel",
      "_view_count": null,
      "_view_module": "@jupyter-widgets/base",
      "_view_module_version": "1.2.0",
      "_view_name": "LayoutView",
      "align_content": null,
      "align_items": null,
      "align_self": null,
      "border": null,
      "bottom": null,
      "display": null,
      "flex": null,
      "flex_flow": null,
      "grid_area": null,
      "grid_auto_columns": null,
      "grid_auto_flow": null,
      "grid_auto_rows": null,
      "grid_column": null,
      "grid_gap": null,
      "grid_row": null,
      "grid_template_areas": null,
      "grid_template_columns": null,
      "grid_template_rows": null,
      "height": null,
      "justify_content": null,
      "justify_items": null,
      "left": null,
      "margin": null,
      "max_height": null,
      "max_width": null,
      "min_height": null,
      "min_width": null,
      "object_fit": null,
      "object_position": null,
      "order": null,
      "overflow": null,
      "overflow_x": null,
      "overflow_y": null,
      "padding": null,
      "right": null,
      "top": null,
      "visibility": null,
      "width": null
     }
    },
    "c42644a4e6184a1cbdb2b453b5dbb7d6": {
     "model_module": "@jupyter-widgets/controls",
     "model_name": "HBoxModel",
     "state": {
      "_dom_classes": [],
      "_model_module": "@jupyter-widgets/controls",
      "_model_module_version": "1.5.0",
      "_model_name": "HBoxModel",
      "_view_count": null,
      "_view_module": "@jupyter-widgets/controls",
      "_view_module_version": "1.5.0",
      "_view_name": "HBoxView",
      "box_style": "",
      "children": [
       "IPY_MODEL_e8f1abd85f3e49f991d4c1312ffd416b",
       "IPY_MODEL_929946fdfaa04cf59d3b31cf92fc08d1"
      ],
      "layout": "IPY_MODEL_364ba960eb474c9084cc71851594d345"
     }
    },
    "c4a24656d67844e995d3b8e175c6c497": {
     "model_module": "@jupyter-widgets/controls",
     "model_name": "HTMLModel",
     "state": {
      "_dom_classes": [],
      "_model_module": "@jupyter-widgets/controls",
      "_model_module_version": "1.5.0",
      "_model_name": "HTMLModel",
      "_view_count": null,
      "_view_module": "@jupyter-widgets/controls",
      "_view_module_version": "1.5.0",
      "_view_name": "HTMLView",
      "description": "",
      "description_tooltip": null,
      "layout": "IPY_MODEL_b4c6a18610734036a16a14a43174c52e",
      "placeholder": "​",
      "style": "IPY_MODEL_f37bd346f8614fec92d6c5b5e9b66d2f",
      "value": " 1000/1000 [01:41&lt;00:00,  9.86ex/s]"
     }
    },
    "ca722dcd857c433c9058585e31a1673d": {
     "model_module": "@jupyter-widgets/controls",
     "model_name": "ProgressStyleModel",
     "state": {
      "_model_module": "@jupyter-widgets/controls",
      "_model_module_version": "1.5.0",
      "_model_name": "ProgressStyleModel",
      "_view_count": null,
      "_view_module": "@jupyter-widgets/base",
      "_view_module_version": "1.2.0",
      "_view_name": "StyleView",
      "bar_color": null,
      "description_width": "initial"
     }
    },
    "cda72c45821a4eb89f1a3ab5510b26d3": {
     "model_module": "@jupyter-widgets/base",
     "model_name": "LayoutModel",
     "state": {
      "_model_module": "@jupyter-widgets/base",
      "_model_module_version": "1.2.0",
      "_model_name": "LayoutModel",
      "_view_count": null,
      "_view_module": "@jupyter-widgets/base",
      "_view_module_version": "1.2.0",
      "_view_name": "LayoutView",
      "align_content": null,
      "align_items": null,
      "align_self": null,
      "border": null,
      "bottom": null,
      "display": null,
      "flex": null,
      "flex_flow": null,
      "grid_area": null,
      "grid_auto_columns": null,
      "grid_auto_flow": null,
      "grid_auto_rows": null,
      "grid_column": null,
      "grid_gap": null,
      "grid_row": null,
      "grid_template_areas": null,
      "grid_template_columns": null,
      "grid_template_rows": null,
      "height": null,
      "justify_content": null,
      "justify_items": null,
      "left": null,
      "margin": null,
      "max_height": null,
      "max_width": null,
      "min_height": null,
      "min_width": null,
      "object_fit": null,
      "object_position": null,
      "order": null,
      "overflow": null,
      "overflow_x": null,
      "overflow_y": null,
      "padding": null,
      "right": null,
      "top": null,
      "visibility": null,
      "width": null
     }
    },
    "e592db98c0c34c5e800f5d7b6d3c099e": {
     "model_module": "@jupyter-widgets/base",
     "model_name": "LayoutModel",
     "state": {
      "_model_module": "@jupyter-widgets/base",
      "_model_module_version": "1.2.0",
      "_model_name": "LayoutModel",
      "_view_count": null,
      "_view_module": "@jupyter-widgets/base",
      "_view_module_version": "1.2.0",
      "_view_name": "LayoutView",
      "align_content": null,
      "align_items": null,
      "align_self": null,
      "border": null,
      "bottom": null,
      "display": null,
      "flex": null,
      "flex_flow": null,
      "grid_area": null,
      "grid_auto_columns": null,
      "grid_auto_flow": null,
      "grid_auto_rows": null,
      "grid_column": null,
      "grid_gap": null,
      "grid_row": null,
      "grid_template_areas": null,
      "grid_template_columns": null,
      "grid_template_rows": null,
      "height": null,
      "justify_content": null,
      "justify_items": null,
      "left": null,
      "margin": null,
      "max_height": null,
      "max_width": null,
      "min_height": null,
      "min_width": null,
      "object_fit": null,
      "object_position": null,
      "order": null,
      "overflow": null,
      "overflow_x": null,
      "overflow_y": null,
      "padding": null,
      "right": null,
      "top": null,
      "visibility": null,
      "width": null
     }
    },
    "e8f1abd85f3e49f991d4c1312ffd416b": {
     "model_module": "@jupyter-widgets/controls",
     "model_name": "FloatProgressModel",
     "state": {
      "_dom_classes": [],
      "_model_module": "@jupyter-widgets/controls",
      "_model_module_version": "1.5.0",
      "_model_name": "FloatProgressModel",
      "_view_count": null,
      "_view_module": "@jupyter-widgets/controls",
      "_view_module_version": "1.5.0",
      "_view_name": "ProgressView",
      "bar_style": "success",
      "description": "100%",
      "description_tooltip": null,
      "layout": "IPY_MODEL_ff444b253e9a40e5bec755926d83740f",
      "max": 1000,
      "min": 0,
      "orientation": "horizontal",
      "style": "IPY_MODEL_aa5c0d374889482697fc0f7ce9c81afe",
      "value": 1000
     }
    },
    "ef4e12f29f1e458f811a400faf21bdcc": {
     "model_module": "@jupyter-widgets/controls",
     "model_name": "HTMLModel",
     "state": {
      "_dom_classes": [],
      "_model_module": "@jupyter-widgets/controls",
      "_model_module_version": "1.5.0",
      "_model_name": "HTMLModel",
      "_view_count": null,
      "_view_module": "@jupyter-widgets/controls",
      "_view_module_version": "1.5.0",
      "_view_name": "HTMLView",
      "description": "",
      "description_tooltip": null,
      "layout": "IPY_MODEL_39029f730ae140c7902fca6dac5361ad",
      "placeholder": "​",
      "style": "IPY_MODEL_5b6dbe662ca24834b7678638e101e1ff",
      "value": " 1000/1000 [01:25&lt;00:00, 11.68ex/s]"
     }
    },
    "f0ac3b9b8f664479940c6ee18fc2f13e": {
     "model_module": "@jupyter-widgets/controls",
     "model_name": "HTMLModel",
     "state": {
      "_dom_classes": [],
      "_model_module": "@jupyter-widgets/controls",
      "_model_module_version": "1.5.0",
      "_model_name": "HTMLModel",
      "_view_count": null,
      "_view_module": "@jupyter-widgets/controls",
      "_view_module_version": "1.5.0",
      "_view_name": "HTMLView",
      "description": "",
      "description_tooltip": null,
      "layout": "IPY_MODEL_7fefe9e1121a43558d773500aef8935c",
      "placeholder": "​",
      "style": "IPY_MODEL_568f11b4462f4b4e95f3ad5947bb275e",
      "value": " 1000/1000 [01:24&lt;00:00, 11.77ex/s]"
     }
    },
    "f0e34f2bf626434fa73f0def26b3d1a5": {
     "model_module": "@jupyter-widgets/controls",
     "model_name": "ProgressStyleModel",
     "state": {
      "_model_module": "@jupyter-widgets/controls",
      "_model_module_version": "1.5.0",
      "_model_name": "ProgressStyleModel",
      "_view_count": null,
      "_view_module": "@jupyter-widgets/base",
      "_view_module_version": "1.2.0",
      "_view_name": "StyleView",
      "bar_color": null,
      "description_width": "initial"
     }
    },
    "f37bd346f8614fec92d6c5b5e9b66d2f": {
     "model_module": "@jupyter-widgets/controls",
     "model_name": "DescriptionStyleModel",
     "state": {
      "_model_module": "@jupyter-widgets/controls",
      "_model_module_version": "1.5.0",
      "_model_name": "DescriptionStyleModel",
      "_view_count": null,
      "_view_module": "@jupyter-widgets/base",
      "_view_module_version": "1.2.0",
      "_view_name": "StyleView",
      "description_width": ""
     }
    },
    "ff444b253e9a40e5bec755926d83740f": {
     "model_module": "@jupyter-widgets/base",
     "model_name": "LayoutModel",
     "state": {
      "_model_module": "@jupyter-widgets/base",
      "_model_module_version": "1.2.0",
      "_model_name": "LayoutModel",
      "_view_count": null,
      "_view_module": "@jupyter-widgets/base",
      "_view_module_version": "1.2.0",
      "_view_name": "LayoutView",
      "align_content": null,
      "align_items": null,
      "align_self": null,
      "border": null,
      "bottom": null,
      "display": null,
      "flex": null,
      "flex_flow": null,
      "grid_area": null,
      "grid_auto_columns": null,
      "grid_auto_flow": null,
      "grid_auto_rows": null,
      "grid_column": null,
      "grid_gap": null,
      "grid_row": null,
      "grid_template_areas": null,
      "grid_template_columns": null,
      "grid_template_rows": null,
      "height": null,
      "justify_content": null,
      "justify_items": null,
      "left": null,
      "margin": null,
      "max_height": null,
      "max_width": null,
      "min_height": null,
      "min_width": null,
      "object_fit": null,
      "object_position": null,
      "order": null,
      "overflow": null,
      "overflow_x": null,
      "overflow_y": null,
      "padding": null,
      "right": null,
      "top": null,
      "visibility": null,
      "width": null
     }
    }
   }
  }
 },
 "nbformat": 4,
 "nbformat_minor": 1
}
