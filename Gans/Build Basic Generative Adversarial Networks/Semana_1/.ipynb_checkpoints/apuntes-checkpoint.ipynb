{
 "cells": [
  {
   "cell_type": "markdown",
   "metadata": {},
   "source": [
    "# Gans\n",
    "\n",
    "\n",
    "Los GAN son modelos poderosos que aprenden a producir objetos realistas que son difíciles de distinguir de los reales, por ejemplo, rostros humanos.   \n",
    "\n",
    "\n",
    "\n",
    "Un GAN aprende haciendo un generador y un discriminador, que compiten entre sí.\n",
    "\n",
    "\n",
    "\n",
    "Vamos a hablar de los objetivos del generador y el discriminador, y verás cómo comienza el juego entre ellos. Y cómo se desarrolla realmente, ya que se levantan unos a otros hasta que consigamos un generador que es realmente, muy bueno y que pueda producir imágenes realistas que usted desea.   \n",
    "\n",
    "\n",
    "Así que recuerden que los GAN tienen dos componentes, uno se llama el generador y el otro se llama el discriminador. Y estas son típicamente dos redes neuronales diferentes."
   ]
  },
  {
   "cell_type": "markdown",
   "metadata": {},
   "source": [
    "El generador aprende a generar falsificaciones que se ven reales, a engañar al discriminador.   \n",
    "\n",
    "Y el discriminador aprende a distinguir entre lo que es real y lo falso.  \n",
    "\n",
    "<center><img src=\"./img/gans_01.jpg\" width = \"50%\"></center>\n",
    "\n",
    "Así que puedes pensar en el generador como un falsificador de pintura y el discriminador como un inspector de arte.   \n",
    "Así que el generador forja imágenes falsas para tratar de parecer lo más realista posible, y lo hace con la esperanza de engañar al discriminador"
   ]
  },
  {
   "cell_type": "markdown",
   "metadata": {},
   "source": [
    "What is the role of the generator?\n",
    "\n",
    "- To find the real image in a pile of fakes.\n",
    "- To create realistic looking fake images.\n",
    "- To sort images by color.\n",
    "- To piece together real images to make a fake.\n",
    "\n",
    "¿Cuál es la función del generador?\n",
    "\n",
    "- Encontrar la imagen real en un montón de falsificaciones.\n",
    "- Crear imágenes falsas de aspecto realista.\n",
    "- Clasificar las imágenes por colores.\n",
    "- Para unir las imágenes reales para crear una falsa."
   ]
  },
  {
   "cell_type": "markdown",
   "metadata": {},
   "source": [
    "What is the role of the discriminator?\n",
    "\n",
    "- To tell the generator it’s doing a stellar job.\n",
    "- To create fake images.\n",
    "- To rank images based on complexity.\n",
    "- To classify images as real or fake.\n",
    "\n",
    "\n",
    "¿Cuál es el papel del discriminador?\n",
    "\n",
    "\n",
    "- Decirle al generador que está haciendo un trabajo estelar.\n",
    "- Crear imágenes falsas.\n",
    "- Clasificar las imágenes en función de su complejidad.\n",
    "- Clasificar las imágenes como reales o falsas."
   ]
  },
  {
   "cell_type": "markdown",
   "metadata": {},
   "source": []
  },
  {
   "cell_type": "markdown",
   "metadata": {},
   "source": [
    "## Descriminador \n",
    "\n",
    "El objetivo del clasificador es distinguir entre diferentes clases. Entonces, desde esta función de costo, puede actualizar esos parámetros. Los nodos en esa red neuronal de acuerdo con el gradiente de esta función de costo. Y eso solo significa generalmente en qué dirección deberían ir esos parámetros para tratar de llegar a la respuesta correcta $\\hat{y}$, eso es lo más cerca posible de Y. Y luego repite este proceso hasta que su clasificador esté en buena forma.   \n",
    "\n",
    "<center><img src=\"img/gans_02.jpg\" width = \"50%\" ></center>>\n",
    "\n",
    "\n",
    "Así que vamos a dar un pequeño paseo a la tierra matemática donde el objetivo del discriminador es modelar la probabilidad de cada clase\n",
    "\n",
    "En otras palabras, esto es modelar la probabilidad de clase Y dada las características de entrada X\n",
    "\n",
    "\n",
    "<center><img src=\"img/gans_03.jpg\" width = \"50%\" ></center>\n"
   ]
  },
  {
   "cell_type": "markdown",
   "metadata": {},
   "source": []
  },
  {
   "cell_type": "markdown",
   "metadata": {},
   "source": [
    "What is the primary goal of the discriminator, in a probabilistic sense?\n",
    "\n",
    "\n",
    "- Capture the probability of x and y: P( x ∩ y ).\n",
    "- Capture the probability of the features x: P( x ).\n",
    "- Capture the probability of the class y: P( y ).\n",
    "- **_Capture the conditional probability P( y | x )._**\n",
    "\n",
    "Correcto\n",
    "Correct! The discriminator finds the probability of class y (real or fake) given input features x.\n",
    "\n",
    "¿Cuál es el objetivo principal del discriminador, en sentido probabilístico?\n",
    "\n",
    "\n",
    "- Capturar la probabilidad de x e y: P( x ∩ y ).\n",
    "- Capturar la probabilidad de las características x: P( x ).\n",
    "- Capturar la probabilidad de la clase y: P( y ).\n",
    "- **_Capturar la probabilidad condicional P( y | x )._**\n",
    "\n",
    "Correcto\n",
    "Correcto. El discriminador encuentra la probabilidad de la clase y (real o falsa) dadas las características de entrada x.\n"
   ]
  },
  {
   "cell_type": "markdown",
   "metadata": {},
   "source": [
    "# Generador\n",
    "\n",
    "El objetivo final de los generadores es poder producir ejemplos de una determinada clase. Entonces, si lo entrenó desde la clase de un gato, entonces el generador hará algunos cálculos y producirá una representación de un gato que se ve real.\n",
    "\n",
    "<center><img src=\"img/gans_04.jpg\" width = \"50%\" ></center>\n",
    "\n",
    "Así para asegurarse de que sea capaz de producir diferentes ejemplos cada vez, en realidad ingresará diferentes conjuntos de valores aleatorios, también conocidos como vector de ruido.\n",
    "\n",
    "A continuación, este vector de ruido se alimenta como entrada, a veces con nuestra clase en la red neuronal generadora dando un $\\hat{X}$. Este se introduce en el discriminador, lo que determina cuán real y qué tan falso piensa que se basa en su inspección de la misma.   \n",
    "\n",
    "Después de eso, el discriminador, genera $\\hat{Y}_{d}$ que representa que son las predicciones de los discriminadores, puede calcular una función de costo que básicamente mira hasta qué punto los ejemplos producidos por el generador están siendo considerados reales por el discriminador porque el generador quiere que esto parezca lo más real posible.   \n",
    "\n",
    "Así que básicamente, el generador quiere que $\\hat{Y}_{d}$ sea lo más cercano a uno, lo que significa lo más real posible. Mientras que, el discriminador está tratando de conseguir que esto sea cero, falso.   \n",
    "\n",
    "Utiliza la diferencia entre estos dos para luego actualizar los parámetros del generador, y eso consigue que mejore con el tiempo.\n",
    "\n",
    "<center><img src=\"img/gans_05.jpg\" width = \"50%\" ></center>\n",
    "\n",
    "\n",
    "\n",
    "\n"
   ]
  },
  {
   "cell_type": "markdown",
   "metadata": {},
   "source": [
    "What is the primary goal of the generator, in a probabilistic sense?\n",
    "\n",
    "\n",
    "- Capture the probability of the class y: P( y ).- \n",
    "- **_Model the features x conditioned on class y: P( x | y )._**\n",
    "- Capture the probability of x and y: P( x ∩ y ).- \n",
    "- Model the union of x and y: P( x U y ).\n",
    "\n",
    "Correcto\n",
    "Correct! The generator models the probability of features x conditioned on a class y."
   ]
  },
  {
   "cell_type": "markdown",
   "metadata": {},
   "source": []
  }
 ],
 "metadata": {
  "kernelspec": {
   "display_name": "Python 3.10.4 64-bit",
   "language": "python",
   "name": "python3"
  },
  "language_info": {
   "name": "python",
   "version": "3.10.4"
  },
  "orig_nbformat": 4,
  "vscode": {
   "interpreter": {
    "hash": "26de051ba29f2982a8de78e945f0abaf191376122a1563185a90213a26c5da77"
   }
  }
 },
 "nbformat": 4,
 "nbformat_minor": 2
}
