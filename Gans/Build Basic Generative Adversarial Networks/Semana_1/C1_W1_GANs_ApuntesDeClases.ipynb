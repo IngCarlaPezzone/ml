{
 "cells": [
  {
   "cell_type": "markdown",
   "metadata": {},
   "source": [
    "<figure>\n",
    " <img align=\"center\", src=\"./Imagenes/00_Logo.PNG\"   style=\"width:550px;height:160px;\" >\n",
    "</figure>\n",
    "\n",
    "# Curso 1: Build Basic Generative Adversarial Networks (GANs)\n",
    "\n",
    "*Esta notebook plasma los apuntes traducidos al español del Curso dicatado por [DeepLearning.AI](https://www.deeplearning.ai/courses/), por lo que puede encontrar errores. Las figuras y ecuaciones se han obtenido/adaptado directamente de las diapositivas utilizadas en el curso. Todo el mérito es de los instructores. Simplemente espero que los apuntes sirvan como material de estudio complementario.*"
   ]
  },
  {
   "cell_type": "markdown",
   "metadata": {},
   "source": [
    "## SEMANA 1: INTRO TO GANs"
   ]
  },
  {
   "cell_type": "markdown",
   "metadata": {},
   "source": [
    "### Welcome to the Specialization"
   ]
  },
  {
   "cell_type": "markdown",
   "metadata": {},
   "source": [
    "Bienvenidos a la especialización en Redes Conversarias Generativas o GANs para abreviar. Los GAN son una clase emergente de algoritmos de aprendizaje profundo que generan imágenes increíblemente realistas. Esta especialización, le enseñará cómo construir y aplicar GANs de vanguardia. Por ejemplo, usted aprende a construir una GAN para generar imágenes de personas que nunca habían existido, o hacer que alguien tal vez usted mismo, parezca más joven o mayor. También puede usar un GAN para tomar un video de baja resolución y convertirlo en un video de alta resolución de gran aspecto. O en el lado del aprendizaje supervisado, si está atando para clasificar los objetos rayados, o clasifica las imágenes médicas de rayos X, pero no tiene suficientes imágenes, no tiene suficientes ejemplos. También puede usar un GAN, para sintetizar más datos para alimentar a su algoritmo de aprendizaje. Creo que las GAN están en el camino para transformar la edición de imágenes y, más ampliamente, los medios de comunicación y el entretenimiento. \n",
    "\n",
    "Estoy aquí hoy con Sharon Joe, quien será su instructor para esta serie de cursos. Bienvenida Sharon. Gracias Andrew, es un placer estar aquí. Una de las cosas sobre los GAN es que, parecen un poco complejos o misteriosos. Pero no creo que necesariamente tengan que serlo. No se necesita mucho implementar realmente una GAN, y para los estudiantes que ven esto, realmente se llega a implementar una GAN en su primera semana. \n",
    "\n",
    "Sharon, para desmitificar las GAN, te he oído cuando estás enseñando, a veces usas el falsificador de arte y la analogía del inspector de arte para explicar las GANs. ¿Puedes decir más sobre eso? Sí, me encanta esta analogía, porque elimina los componentes de la red neuronal y los detalles, las matemáticas, todo. Realmente nos deja con dos redes diferentes que son, una es el falsificador de arte que está tratando de imitar piezas de arte o obras de arte realistas. Puede ser la Mona Lisa, quizá la Noche Estelar. Luego hay un inspector de arte que está mirando un montón de arte famoso real y también este arte falso que está forjado por este falsificador de arte, y tratando de averiguar cuáles son reales y cuáles son falsos y devolverle esa retroalimentación al falsificador de arte para mejorar con el tiempo. Así es como obtienes una gran GAN que genera imágenes realmente realistas. \n",
    "\n",
    "Como implementador GAN, lo que uno está haciendo es realmente instrumento para redes neuronales. El falsificador de arte, que está tratando de pintar estas imágenes increíbles, y el inspector de arte de la red neuronal, que está tratando de dar retroalimentación al falsificador de arte, para que la red neuronal del falsificador de arte pueda ser mejor y mejor en la generación de estas imágenes. Exactamente. \n",
    "\n",
    "Una de las cosas realmente divertidas de trabajar con GAN es que he visto a muchos investigadores de GAN sentirse orgullosos de su creación. Porque como alguien que trabaja en GAN, es como si crearas tu obra de arte. Estoy realmente emocionado con esta especialización. Esperando que muchos estudiantes creen su propia obra de arte, ¿puedes sentir ese orgullo de la creación también? Definitivamente estaría de acuerdo con eso. En realidad pienso en esto como el efecto IKEA, porque con los muebles de IKEA, puedes construirlo tú mismo. La gente en realidad ha visto que te gustan más tus muebles si lo construyes tú mismo. Al igual que tu obra de arte, si construyes tu GAN tú mismo, te gustará esa salida, esa obra de arte, esas obras maestras que creas. Pero son de nuevo, mucho más. \n",
    "\n",
    "Para aprender allí, creo que una de las cosas que podrían ser realmente divertidas sería, si en esta especialización, implementaras tu propia GAN y generaras algunas fotos de aspecto realmente genial, de las que te sientes orgulloso y quieres compartir con tus amigos y familiares. O con nosotros, hazte creativo. \n",
    "\n",
    "Por último, las GAN son relativamente avanzadas, tema de aprendizaje profundo. Repasemos también el trasfondo que esta especialización supone que tiene. Para los antecedentes de esta especialización, para que usted pueda sacar el máximo provecho de esta especialización. Usted debe saber qué es una red neuronal, incluyendo una red neuronal convolucional y ser capaz de cortar modelos en Python y también saber cómo usar un marco de aprendizaje profundo como TensorFlow, Keras o pyplot. Si ha completado deeplearning.ai y la especialización de aprendizaje profundo, estará todo listo. Está bien si estás un poco oxidado en estos temas, podrás revisarlos en las primeras semanas. \n",
    "\n",
    "Para aquellos de ustedes que habían hecho la especialización de aprendizaje profundo, espero que esta especialización en GANs sea un buen paso siguiente para aprender acerca de unos conjuntos muy avanzados de algoritmos de aprendizaje profundo. Estoy emocionado por la especialización, esperando que muchos estudiantes, esperando que muchos de ustedes comiencen en este campo de vanguardia. Con eso, empecemos con el primer curso, donde podrás construir un GAN básico en tu primera semana, lo cual es increíble. En segundo lugar, se llega a construir sobre ese GAN, y algunos aspectos de la red neuronal convolucional, para construir un GAN más poderoso. Sigues mejorando para que tu GAN pueda entrenar de forma estable en tu tercera semana. Finalmente, en su cuarta semana, usted llega a decir realmente a su GAN qué generar. Si su GAN está generando tipos de perros, puede decirle a su GAN que genere un golden retriever, por ejemplo. También podrás controlar las salidas de tu GAN un poco más. Así que si tu GAN está generando caras, puedes hacer que esta cara parezca más joven o mayor. Suena como si fueran unas semanas emocionantes. Vamos a saltar en él y vamos a empezar. Empecemos. Te veré en el aula pronto."
   ]
  },
  {
   "cell_type": "markdown",
   "metadata": {},
   "source": [
    "### Welcome to Week 1"
   ]
  },
  {
   "cell_type": "markdown",
   "metadata": {},
   "source": [
    "Hola. Bienvenidos a la primera semana de Redes Conversarias Generativas o GANs. Esta semana, podrás ver algunas hazañas increíbles que han logrado los GAN. Conseguirás un caramelo de ojos aquí. Verás la progresión a lo largo del tiempo de cómo se han vuelto mejores y mejores. Los GAN están en técnica no supervisada. Es posible que hayas visto muchas técnicas supervisadas como clasificadores, y las GAN son un poco diferentes, pero esta semana, obtendrás algo de intuición sobre las GAN y cómo hay dos modelos detrás de un GAN, el **generador** y el **discriminador**. En realidad luchan entre sí, y esta lucha hace que uno de los modelos sea tan bueno que genera imágenes realistas. Esta semana también está salpicada de grandes memes alrededor, y también obtendrá una revisión de la pérdida binaria de entropía cruzada y un poco de PyTorch para que pueda familiarizarse con ellos antes de abordar la tarea de esta semana. La tarea de esta semana es genial. Ya podrás construir tu primer GAN. Empecemos."
   ]
  },
  {
   "cell_type": "markdown",
   "metadata": {},
   "source": [
    "### Generative Models"
   ]
  },
  {
   "cell_type": "markdown",
   "metadata": {},
   "source": [
    "Bienvenidos a la especialización en redes adversarias generativas o GANs para abreviar. Verás cómo crear modelos que puedan generar imágenes realistas , música y otras cosas. En este video, usted va a ganar algo de intuición acerca de cómo funcionan las GAN y su familia de modelos. Al final de la semana, podrás construir tu propia GAN que genera dígitos escritos a mano. En este video, te presentaré qué son los modelos generativos, de qué GAN son un tipo, y cómo estos modelos se comparan con otros modelos que quizás ya conozcas. También hablaré de dos de las arquitecturas de modelos generativos más populares. \n",
    "\n",
    "<figure>\n",
    " <img align=\"right\", src=\"./Imagenes/01.png\"   style=\"width:400px;height:224px;\" >\n",
    "</figure>\n",
    "\n",
    "Puede que esté familiarizado con los modelos discriminativos, pero es posible que no haya sabido cómo encajan en el contexto más amplio del aprendizaje automático o ML. Un **modelo discriminativo** es el que se utiliza típicamente para la clasificación en el aprendizaje automático. Aprenden a distinguir entre clases como perros y gatos, y a menudo se llaman **clasificadores**. Los modelos discriminativos toman un conjunto de características $X$, como tener una nariz mojada o si ronronea y a partir de estas características determinan una categoría $Y$ de si la imagen es de un perro o un gato. En otras palabras, tratan de modelar la probabilidad de clase $Y$ dado un conjunto de características $X$ como tener una nariz mojada, pero no ronea, por lo que probablemente sea un perro. \n",
    "\n",
    "Por otro lado, los **modelos generativos** intentan aprender a hacer una representación realista de alguna clase. Por ejemplo, una imagen realista de un perro que se ve aquí. Toman alguna entrada aleatoria representada por la nariz aquí, que podría tomar el valor, digamos 3, un número aleatorio, o-5, o 2.6 o en realidad solo un vector de todos esos valores. El punto es que el ruido representa un conjunto aleatorio de valores que entran en el modelo generativo. El modelo generativo también a veces toma en una clase $Y$ como un perro. A partir de estas entradas, su objetivo es generar un conjunto de características $X$ que parezcan un perro realista. Entonces, una imagen de un perro con características como una nariz mojada o una lengua que sobresale. \n",
    "\n",
    "Tal vez te preguntes por qué necesitamos este ruido en primer lugar. ¿ Por qué no podemos decirle, «Oye, genera un perro para mí», y entonces generará un perro? El ruido es más grande para asegurarse de que lo que se genera no es en realidad el mismo perro cada vez y verás que este tema se reproduce en breve. Esto se debe a que generar un solo perro no es divertido y también un poco inútil. Por ahora, piense en esto como un ruido aleatorio que también entra como una entrada. Más generalmente, los modelos generativos tratan de capturar la distribución de probabilidad de $X$, las diferentes características de tener una nariz mojada, la lengua que sobresale, tal vez orejas puntiagudas a veces pero no todo el tiempo dada esa clase Y de un perro. Con el ruido añadido, estos modelos generarían representaciones realistas y diversas de esta clase $Y$. En realidad, si solo estás generando una clase, una $Y$ de un perro, entonces probablemente no necesites este acondicionamiento en $Y$ y en su lugar es solo la probabilidad sobre todos los $X$. "
   ]
  },
  {
   "cell_type": "markdown",
   "metadata": {},
   "source": [
    "<figure>\n",
    " <img align=\"right\", src=\"./Imagenes/C1_W1_Página_05.jpg\"   style=\"width:400px;height:224px;\" >\n",
    "</figure>\n",
    "\n",
    "Se puede ver en esta comparación lado a lado que los modelos discriminativos y los modelos generativos realmente se acercan un poco aquí. \n",
    "\n",
    "Como ejemplo para el modelo generativo, en una buena ejecución de un modelo generativo, se podría obtener una imagen de este pekinés y en otra carrera, un mastín tibetano. Si continúa ejecutándolo varias veces sin restricciones, terminará obteniendo más imágenes que representen el conjunto de datos en el que su modelo generativo fue entrenado. Eso podría parecer un montón de labradores de cola. "
   ]
  },
  {
   "cell_type": "markdown",
   "metadata": {},
   "source": [
    "<figure>\n",
    " <img align=\"right\", src=\"./Imagenes/02.png\"   style=\"width:400px;height:224px;\" >\n",
    "</figure>\n",
    "\n",
    "Hay muchos tipos de modelos generativos, y brevemente te presentaré a los más populares: **Autocodificadores variacionales** o **VAE** para abreviar, y **GANs**. \n",
    "\n",
    "Los VAE funcionan con dos modelos, un codificador y un decodificador y estos son normalmente redes neuronales. Aprenden primero alimentando imágenes realistas en el codificador, como esta imagen realmente realista de un perro que dibujé. Entonces, el trabajo del codificador es encontrar una buena manera de representar esa imagen en este espacio latente. Digamos que encuentra un lugar justo aquí. Digamos que este punto en el espacio latente puede ser representado por este vector de números 6.2, -3, 21. Lo que el VAE hace ahora es tomar esta representación latente o un punto cercano a ella y ponerlo a través del decodificador. El objetivo del decodificador es reconstruir la imagen realista que el codificador vio antes. Eso supone que el decodificador ya ha sido entrenado para ser bastante bueno. Pero al principio, el decodificador no será capaz de reconstruir la imagen y tal vez el perro producido tendrá malos ojos. Después del entrenamiento, realmente cortamos el codificador y podemos elegir puntos aleatorios en el espacio latente, como aquí, y el decodificador habrá aprendido a producir una imagen realista de un perro. Lo que acabo de describir es en gran medida la parte del autocodificador o el autocodificador variacional. La parte variacional realmente inyecta algo de ruido en todo este modelo y proceso de entrenamiento. En lugar de hacer que el codificador codifique la imagen en un solo punto en ese espacio latente, el codificador realmente codifica la imagen en una distribución completa y luego muestra un punto en esa distribución para alimentar al decodificador para luego producir una imagen realista. Esto agrega un poco de ruido ya que se pueden muestrear diferentes puntos en esta distribución. \n",
    "\n",
    "<figure>\n",
    " <img align=\"right\", src=\"./Imagenes/03.png\"   style=\"width:400px;height:224px;\" >\n",
    "</figure>\n",
    "\n",
    "Las GANs funcionan de una manera bastante diferente. Están compuestos de dos modelos otra vez, pero ahora hay un generador que genera imágenes como el decodificador y un discriminador que en realidad es un modelo discriminativo escondido dentro de esto. Es un poco de iniciación pasando. El generador toma alguna entrada de ruido aleatorio, como usted vio antes, por ejemplo, 1.2, 3, -5 como vector, y eso es entrada en este generador. Por supuesto, una clase opcional de perro, pero si solo estamos generando perro, no necesitamos ingresar eso. Como salida, puede generar ese mismo perro con el tiempo, por supuesto, y por supuesto, al principio también pueden ser malvados. El papel del generador en cierto sentido es muy similar al decodificador en el VAE. Lo que es diferente es que no hay un codificador guía esta vez que determine qué vector de ruido debe ser, eso es la entrada en el generador. En cambio, hay un discriminador mirando imágenes falsas y reales y simultáneamente tratando de averiguar cuáles son reales y cuáles son falsas. Con el tiempo, cada modelo intenta uno arriba uno al otro. Estos modelos compiten entre sí, por lo que se les llama *adversarios*, en el nombre de redes adversarias generativas. Puedes imaginar que esos músculos crecen con el tiempo mientras compiten entre sí y aprenden unos de otros hasta llegar a un punto en el que nosotros , de nuevo, ya no necesitamos este segundo modelo, el discriminador, y el generador puede tomar cualquier ruido aleatorio y producir un imagen realista. Por ejemplo, un vector de números aleatorios -5, 6.2 y 8 puede generar este lindo labrador retriever. \n",
    "\n",
    "Durante esta especialización, usted se va a centrar en GAN, pero siéntase libre de leer más y VAE si usted los encuentra interesantes y no se preocupe si usted no entiende bien cómo funcionan los GAN todavía. Voy a profundizar más en su arquitectura y la forma en que aprenden en los próximos videos de esta semana. \n",
    "\n",
    "En resumen, los *modelos generativos* aprenden a producir *ejemplos realistas*, como un artista que puede pintar pinturas que parecen fotos. Mientras tanto, los *modelos discriminativos distinguen entre diferentes clases*. En resumen, los modelos generativos aprenden a producir ejemplos realistas como la producción de esas fotos de perros lindos que acabas de ver. Un modelo generativo es un artista que está tratando de aprender a crear arte fotorrealista. Mientras tanto, los modelos discriminativos distinguen entre diferentes clases, como un perro o un gato. Pero, por supuesto, usted también vio que un modelo discriminatorio puede ser un subcomponente de un modelo generativo, como el discriminador cuyas clases son reales y falsas. Hay muchos tipos de modelos generativos, pero en esta especialización, vas a estudiar GAN. Al final de esta semana, podrás construir tu propia GAN, que puede ser capaz de producir dígitos escritos a mano. ¿Qué tan genial es eso? Prepárate."
   ]
  },
  {
   "cell_type": "markdown",
   "metadata": {},
   "source": [
    "***\n",
    "<font size=\"2\" color=\"red\"><b> PREGUNTA </b></font>\n",
    "\n",
    "Verdadero o falso: Los GAN se componen de dos modelos que compiten entre sí para producir una buena distribución sobre el espacio latente. \n",
    "\n",
    "***\n",
    "<details>\n",
    "   <summary><font size=\"2\" color=\"darkblue\"><b> Click para la respuesta</b></font></summary>\n",
    "\n",
    "Respuesta: False.\n",
    "    \n",
    "Así es. Los dos modelos de un GAN compiten entre sí y llegan a un punto en el que el generador produce ejemplos realistas.\n",
    "    \n",
    "</details>"
   ]
  },
  {
   "cell_type": "markdown",
   "metadata": {},
   "source": [
    "### Real Life GANs"
   ]
  },
  {
   "cell_type": "markdown",
   "metadata": {},
   "source": [
    "A pesar de que solo han existido desde 2014, las GAN ya han logrado un rendimiento superimpresionante en una multitud de tareas. Si no has visto algunos de sus resultados, te apetece un regalo. En este video, te mostraré algunas aplicaciones geniales de GAN, como la generación de rostros humanos realistas y la animación de obras de arte famosas. Luego podrás ver algunos de los increíbles proyectos para los que las grandes empresas los están usando. \n",
    "\n",
    "<figure>\n",
    " <img align=\"right\", src=\"./Imagenes/C1_W1_Página_11.jpg\"   style=\"width:400px;height:224px;\" >\n",
    "</figure>\n",
    "\n",
    "Este tuit es de Ian Goodfellow, quien es ampliamente considerado como el creador de GAN. Muestra una impresionante visualización de la velocidad a la que los GAN han mejorado a lo largo de los años. Puedes ver cómo los GAN han progresado de caras blancas y negras y bastante inhumanas en 2014 a caras fotorrealistas de colores de gran calidad en 2018. Han estado mejorando incluso hasta este día. "
   ]
  },
  {
   "cell_type": "markdown",
   "metadata": {},
   "source": [
    "<figure>\n",
    " <img align=\"right\", src=\"./Imagenes/C1_W1_Página_12.jpg\"   style=\"width:400px;height:224px;\" >\n",
    "</figure>\n",
    "\n",
    "\n",
    "Caso en punto, el progreso sólo ha aumentado desde entonces a principios de 2020 en video realista GAN que podría generar imágenes como estas, que son de tan alta resolución y parecen fotografías profesionales. Tienen un efecto de fondo suave y todo. Es fácil pensar que estas personas son reales, pero en realidad no existen. Increíble, ¿no? \n",
    "\n"
   ]
  },
  {
   "cell_type": "markdown",
   "metadata": {},
   "source": [
    "<figure>\n",
    " <img align=\"right\", src=\"./Imagenes/C1_W1_Página_13.jpg\"   style=\"width:400px;height:224px;\" >\n",
    "</figure>\n",
    "\n",
    "Los GAN pueden aprender de los datos de entrenamiento que se les proporcionen. No se limitan a reproducir rostros humanos. Aquí está el modelo, el mismo de antes, pero esta vez produciendo gatos. Si miras de cerca, puedes ver algunas imágenes muy extrañas porque no todos los ejemplos generados son perfectos en este caso."
   ]
  },
  {
   "cell_type": "markdown",
   "metadata": {},
   "source": [
    "<figure>\n",
    " <img align=\"right\", src=\"./Imagenes/04.png\"   style=\"width:400px;height:224px;\" >\n",
    "</figure>\n",
    "\n",
    "También algo que es bastante genial es que en realidad se pueden observar imágenes con textos en ellas. Esto sucede porque, como se mencionó anteriormente, los modelos generativos intentan imitar la distribución de los datos que estás usando para entrenarlos, en este caso, los datos de entrenamiento con raspados de la web de todos estos gatos y esto incluye una gran cantidad de memes de gatos con textos meme sobre ellos. Lo que es gracioso, por supuesto, es que estos textos meme sobre los memes de gato generados en realidad no inventan palabras porque el modelo generativo no está tratando de modelar palabras, sino más bien el efecto visual realista. \n",
    "\n",
    "Dicho esto, algunos de estos son realmente bastante lindos y realistas a pesar de que podrían no estar listos para Reddit todavía. "
   ]
  },
  {
   "cell_type": "markdown",
   "metadata": {},
   "source": [
    "<figure>\n",
    " <img align=\"right\", src=\"./Imagenes/C1_W1_Página_14.jpg\"   style=\"width:400px;height:224px;\" >\n",
    "</figure>\n",
    "\n",
    "Los GAN también pueden realizar la traducción de imágenes, lo que significa que pueden tomar una imagen de un dominio y transformarla en otro. Por ejemplo, pueden transformar una imagen de un caballo en una cebra y viceversa. Lo que es realmente interesante es que en realidad no necesitas ejemplos de una cebra y un caballo haciendo las mismas cosas, y en su lugar simplemente transfieres ese estilo. "
   ]
  },
  {
   "cell_type": "markdown",
   "metadata": {},
   "source": [
    "<figure>\n",
    " <img align=\"right\", src=\"./Imagenes/05.png\"   style=\"width:400px;height:224px;\" >\n",
    "</figure>\n",
    "\n",
    "\n",
    "De la misma manera, los GANs pueden ayudarle a dibujar. Este modelo puede tomar un dibujo áspero de un paisaje y hacerlo fotorrealista. Así que puedes tener pinceladas aquí a la izquierda. Esta es una persona que pone pinceladas realmente ásperas de diferentes clases, como una nube, o una montaña, o un lago. Entonces el GAN, de este boceto realmente áspero es capaz de producir algo realmente fotorrealista. En este GIF, una persona es capaz de hacer bocetos ásperos con solo unas pocas líneas y color, y luego el GAN puede transformarlos en imágenes realistas. "
   ]
  },
  {
   "cell_type": "markdown",
   "metadata": {},
   "source": [
    "<figure>\n",
    " <img align=\"right\", src=\"./Imagenes/C1_W1_Página_16.jpg\"   style=\"width:400px;height:224px;\" >\n",
    "</figure>\n",
    "\n",
    "GAN también puede tomar un retrato de naturaleza muerta, por ejemplo, la Mona Lisa, y animarlo usando el movimiento de la cara de cualquier persona real. Ni siquiera tienen que parecer una Mona Lisa para interpretar el papel. Si te recuerdan los retratos que hablan en Hogwarts, no estás solo, en cierto sentido, las GAN son mágicas. "
   ]
  },
  {
   "cell_type": "markdown",
   "metadata": {},
   "source": [
    "<figure>\n",
    " <img align=\"right\", src=\"./Imagenes/C1_W1_Página_17.jpg\"   style=\"width:400px;height:224px;\" >\n",
    "</figure>\n",
    "\n",
    "Las GANs no se detienen en imágenes 2D, también pueden generar objetos 3D como sillas y mesas. Estos se pueden aplicar a campos como el diseño generativo donde puedes crear muebles frescos para tu casa. También existen diversas aplicaciones en medicina donde puede usar su GAN para generar datos médicos artificiales o incluso detectar anomalías en los rayos X. Podrás ver más sobre esto en el curso 3, pero mostrar todas las aplicaciones geniales que hay por ahí podría tomar horas. "
   ]
  },
  {
   "cell_type": "markdown",
   "metadata": {},
   "source": [
    "Varias empresas destacadas también han empezado a utilizar redes de contención generativas para una variedad de aplicaciones. Por ejemplo, **Adobe** está pensando en la próxima generación de Photoshop donde los artistas novatos pueden actuar a nivel experto, por ejemplo, con esos garabatos. **Google** los está utilizando para la generación de texto en gran parte, pero también con imágenes. **IBM** está usando GANs para el aumento de datos, por lo que usa un GAN para generar ejemplos sintéticos que aumenten el conjunto de datos para un clasificador aguas abajo, por ejemplo, si no tiene suficientes datos de una determinada clase o de un determinado tipo de imagen. **Snapchat** y **TikTok** los ponen a trabajar en nuevos filtros creativos que probablemente hayas visto y utilizado. Incluso **Disney** los está usando para la superresolución. Al final de la especialización, podrás utilizar GANs también para cualquier aplicación que quieras. \n",
    "\n",
    "En resumen, resumimos los avances que los GAN han logrado en los últimos años. Bueno, te mostré varias aplicaciones realmente geniales, mencioné la forma en que algunas grandes compañías están usando GAN. Hay muchas más cosas que hacer con las GAN, y muchas direcciones potenciales que podría tomar para usar estos modelos."
   ]
  },
  {
   "cell_type": "markdown",
   "metadata": {},
   "source": [
    "> **Check out some non-existent people!**\n",
    ">\n",
    "> ¿Tienes curiosidad por ver las personas que se generaron por un GAN? ¡Compruébalo! https://www.thispersondoesnotexist.com/"
   ]
  },
  {
   "cell_type": "markdown",
   "metadata": {},
   "source": [
    "> **Pre-trained Model Exploration**\n",
    ">\n",
    "> Explora algunos GANs geniales de forma interactiva aquí: en la especialización de GANs, aprenderás cómo funcionan y cómo podrías aplicarlos en esta [Colab](https://colab.research.google.com/github/https-deeplearning-ai/GANs-Public/blob/master/C1W1_(Colab)_Pre_trained_model_exploration.ipynb)."
   ]
  },
  {
   "cell_type": "markdown",
   "metadata": {},
   "source": [
    "### Intuition Behind GANs"
   ]
  },
  {
   "cell_type": "markdown",
   "metadata": {},
   "source": [
    "Los GAN son modelos poderosos que aprenden a producir objetos realistas que son difíciles de distinguir de los reales existentes, por ejemplo, rostros humanos. Un GAN aprende haciendo un generador y un discriminador, compiten entre sí. En este video, voy a hablar de los objetivos del generador y el discriminador, y verás cómo comienza el juego entre ellos. Y cómo se desarrolla realmente, ya que se levantan unos a otros hasta que consigamos un generador que es realmente, muy bueno y que pueda producir imágenes realistas que usted desea. \n",
    "\n",
    "<figure>\n",
    " <img align=\"right\", src=\"./Imagenes/C1_W1_Página_22.jpg\"   style=\"width:400px;height:224px;\" >\n",
    "</figure>\n",
    "\n",
    "Así que recuerden que los GAN tienen dos componentes, uno se llama el **generador** y el otro se llama el **discriminador**. Y estas son típicamente dos redes neuronales diferentes. \n",
    "\n",
    "El generador aprende a generar falsificaciones que se ven reales, a engañar al discriminador. Y el discriminador aprende a distinguir entre lo que es real y lo falso. Así que puedes pensar en el generador como un *falsificador* de pintura y el discriminador como un *inspector de arte*.\n",
    "\n",
    "Así que el generador forja imágenes falsas para tratar de parecer lo más realista posible, y lo hace con la esperanza de engañar al discriminador. Así que puedes ver aquí Noche Estrellada y Grito, se ven bastante bien. Mientras tanto, el discriminador aquí busca un montón de pinturas famosas reales y las falsas creadas por el generador. Y trata de decir cuáles son reales y cuáles son falsos. "
   ]
  },
  {
   "cell_type": "markdown",
   "metadata": {},
   "source": [
    "<figure>\n",
    " <img align=\"right\", src=\"./Imagenes/C1_W1_Página_23.jpg\"   style=\"width:400px;height:224px;\" >\n",
    "</figure>\n",
    "\n",
    "Así que aquí están los bordeados con ese color rosa púrpura son falsos y los que están bordeados con verde son reales. "
   ]
  },
  {
   "cell_type": "markdown",
   "metadata": {},
   "source": [
    "<figure>\n",
    " <img align=\"right\", src=\"./Imagenes/C1_W1_Página_24.jpg\"   style=\"width:400px;height:224px;\" >\n",
    "</figure>\n",
    "\n",
    "Y como se puede ver un poco de esta configuración, para engañar al discriminador, el generador intentará forjar pinturas que se parezcan más a las reales. Y para atrapar el generador, el discriminador tratará de aprender cómo no dejarse engañar, incluso por la réplica más cercana. Así que para empezar este juego, todo lo que necesitas es una colección de estas imágenes reales, como algunas pinturas famosas. Si quieres que el generador pinte pinturas famosas. "
   ]
  },
  {
   "cell_type": "markdown",
   "metadata": {},
   "source": [
    "<figure>\n",
    " <img align=\"right\", src=\"./Imagenes/C1_W1_Página_25.jpg\"   style=\"width:400px;height:224px;\" >\n",
    "</figure>\n",
    "\n",
    "Y así, al principio de este juego, el generador no es muy sofisticado. No sabe cómo producir obras de arte de aspecto real, así que voy a representar al generador como este meme de un perro tratando de pintar.\n",
    "\n",
    "Además, el generador no puede ver las imágenes reales. Ni siquiera sabe cómo debería verse esta pintura. Así que esto es muy, muy difícil para el generador, especialmente al principio. Así que al principio, el generador elemental inicialmente sólo pinta una obra maestra de garabatos. Y no la juzgues, nadie le dijo nunca qué hacer y qué generar aquí. "
   ]
  },
  {
   "cell_type": "markdown",
   "metadata": {},
   "source": [
    "<figure>\n",
    " <img align=\"right\", src=\"./Imagenes/C1_W1_Página_26.jpg\"   style=\"width:400px;height:224px;\" >\n",
    "</figure>\n",
    "\n",
    "Así que tu otro componente inicial es en realidad un discriminador elemental que no sabe con certeza lo que es real y lo que es falso. Y representado aquí como un perro con una boina puesta, tratando de ser un crítico de arte aquí. Pero en este caso, se le permite mirar las obras de arte reales. Está confundido con los falsos también, y él no sabe cuál es cuál. Eso es para que él lo descubra y aprenda a decidir."
   ]
  },
  {
   "cell_type": "markdown",
   "metadata": {},
   "source": [
    "<figure>\n",
    " <img align=\"right\", src=\"./Imagenes/C1_W1_Página_27.jpg\"   style=\"width:400px;height:224px;\" >\n",
    "</figure>\n",
    "\n",
    "Así que para empezar la competición, entrenas al discriminador usando las obras de arte reales para que pueda saber qué imágenes son realmente reales. Así que después de que decida, tal vez esto se vea real, en realidad le dices que sí, eso es real o no, eso es falso. De esta manera se puede obtener un discriminador que sea capaz de diferenciar una imagen mal dibujada como esta, de las que son ligeramente mejores y eventualmente también las reales.\n",
    "\n",
    "Por supuesto, el discriminador tiene todo esto confundido, así que no sabe por adelantado cuáles son reales, cuáles son falsos. Pero lo dices a medida que aprende cuáles son reales y cuáles son falsos, ya sea correcto o incorrecto al determinar esas dos clases. "
   ]
  },
  {
   "cell_type": "markdown",
   "metadata": {},
   "source": [
    "<figure>\n",
    " <img align=\"right\", src=\"./Imagenes/C1_W1_Página_28.jpg\"   style=\"width:400px;height:224px;\" >\n",
    "</figure>\n",
    "\n",
    "Y cuando el generador produce un lote de pinturas, el generador sabrá en qué dirección seguir y mejorar, mirando las puntuaciones asignadas a su trabajo por el discriminador.\n",
    "\n",
    "Así que este parece un poco más real, así que tal vez el generador de aquí comience a pintar un poco más realista. Hacia la cara de tal vez la Mona Lisa, no del todo allí todavía, pero casi."
   ]
  },
  {
   "cell_type": "markdown",
   "metadata": {},
   "source": [
    "<figure>\n",
    " <img align=\"right\", src=\"./Imagenes/C1_W1_Página_29.jpg\"   style=\"width:400px;height:224px;\" >\n",
    "</figure>\n",
    "\n",
    "Y el discriminador también mejora con el tiempo porque recibe imágenes cada vez más realistas en cada ronda del generador. Y siempre recuerda, recibe imágenes reales y falsas, todo mezclado en una pila. Pero esencialmente trata de desarrollar un ojo más agudo y agudo a medida que estas imágenes mejoran."
   ]
  },
  {
   "cell_type": "markdown",
   "metadata": {},
   "source": [
    "<figure>\n",
    " <img align=\"right\", src=\"./Imagenes/C1_W1_Página_30.jpg\"   style=\"width:400px;height:224px;\" >\n",
    "</figure>\n",
    "\n",
    "Y así cuando dice que esta imagen aquí creada por el generador es 60% real. En realidad lo dices después de que dice que es 60% real, que está mal que no es necesariamente real, que en realidad es falso. "
   ]
  },
  {
   "cell_type": "markdown",
   "metadata": {},
   "source": [
    "<figure>\n",
    " <img align=\"right\", src=\"./Imagenes/C1_W1_Página_31.jpg\"   style=\"width:400px;height:224px;\" >\n",
    "</figure>\n",
    "\n",
    "Y luego después de muchas rondas el generador, comenzará a producir pinturas que son más y más difíciles de distinguir. Si no es imposible que el discriminador se distinga de los reales. Y luego en este punto, cuando tú, la persona que quiere un buen generador para generar imágenes falsas impresionantes. Cuando estés contento con el resultado de este generador, el juego terminará.\n",
    "\n",
    "Así que en resumen de esta lección, es importante quitar que el objetivo del generador es producir falsificaciones que parezcan reales para el discriminador. Mientras que el objetivo del discriminador es decir las falsificaciones del generador aparte de ejemplos reales que usted le da. Y así ambos modelos aprenden de su competencia entre sí, hasta que los ejemplos producidos por el generador son lo suficientemente buenos como para engañar al discriminador. En los próximos videos, vas a tomar esta intuición y profundizar en cómo funciona esta competencia."
   ]
  },
  {
   "cell_type": "markdown",
   "metadata": {},
   "source": [
    "***\n",
    "<font size=\"2\" color=\"red\"><b> PREGUNTA 1 </b></font>\n",
    "\n",
    "¿Cuál es la función del generador?\n",
    "\n",
    "* Para crear imágenes falsas de aspecto realista.\n",
    "* Clasificar las imágenes por colores.\n",
    "* Encontrar la imagen real en un montón de imágenes falsas.\n",
    "* Reunir imágenes reales para crear una falsa. \n",
    "\n",
    "<font size=\"2\" color=\"red\"><b> PREGUNTA 2 </b></font>\n",
    "\n",
    "¿Cuál es el papel del discriminador?\n",
    "\n",
    "* Decirle al generador que está haciendo un trabajo estelar.\n",
    "* Crear imágenes falsas.\n",
    "* Clasificar las imágenes en función de su complejidad.\n",
    "* Clasificar las imágenes como reales o falsas. \n",
    "\n",
    "***\n",
    "<details>\n",
    "   <summary><font size=\"2\" color=\"darkblue\"><b> Click para la respuesta</b></font></summary>\n",
    "\n",
    "Respuesta 1: Para crear imágenes falsas de aspecto realista.\n",
    "    \n",
    "Correcto. El objetivo del generador es crear imágenes falsas para engañar al discriminador..\n",
    "\n",
    "Respuesta 2: Clasificar las imágenes como reales o falsas.\n",
    "    \n",
    "Correcto. El objetivo del discriminador es clasificar correctamente las imágenes falsas del generador como falsas y las imágenes reales como reales.\n",
    "    \n",
    "</details>"
   ]
  },
  {
   "cell_type": "markdown",
   "metadata": {},
   "source": [
    "### Discriminator"
   ]
  },
  {
   "cell_type": "markdown",
   "metadata": {},
   "source": [
    "Así que los GAN se componen de dos modelos, el discriminador y el generador. En este video, te mostraré primero cómo funciona el discriminador. \n",
    "\n",
    "<figure>\n",
    " <img align=\"right\", src=\"./Imagenes/C1_W1_Página_35.jpg\"   style=\"width:400px;height:224px;\" >\n",
    "</figure>\n",
    "\n",
    "El discriminador es un tipo de clasificador, así que empezaré con una actualización de lo que es. Entonces verás en términos probabilísticos lo que los clasificadores aprenden a modelar, y al final de este video, te mostraré cómo todo se traduce al discriminador de GANs. Por lo tanto, como un resumen rápido, el objetivo del clasificador es distinguir entre diferentes clases. Así que dada esta imagen de un gato, el clasificador debería ser capaz de decir que es un gato y un perro, por ejemplo. De hecho, puede aprender a diferenciar a los gatos de múltiples clases diferentes y esto depende de las clases que desea diferenciar. Probablemente el caso más simple es probablemente sólo gato y no gato."
   ]
  },
  {
   "cell_type": "markdown",
   "metadata": {},
   "source": [
    "<figure>\n",
    " <img align=\"right\", src=\"./Imagenes/C1_W1_Página_36.jpg\"   style=\"width:400px;height:224px;\" >\n",
    "</figure>\n",
    "\n",
    "Los clasificadores no se limitan a determinar las clases de imagen, por lo que podría tener esta pieza de texto aquí, maulla y juega con hilo para clasificar en un gato. Podrías tener un video de un gato ronroneando, todo tipo de cosas diferentes aquí. "
   ]
  },
  {
   "cell_type": "markdown",
   "metadata": {},
   "source": [
    "<figure>\n",
    " <img align=\"right\", src=\"./Imagenes/C1_W1_Página_37.jpg\"   style=\"width:400px;height:224px;\" >\n",
    "</figure>\n",
    "\n",
    "Así que un tipo de modelo para un clasificador es usar una red neuronal y esta red neuronal puede tomar algunas características $x$. Por ejemplo, aquí hay $x_0$, $x_1$, $x_2$, todo el camino hasta $x_n$, así que $n$ diferentes características. "
   ]
  },
  {
   "cell_type": "markdown",
   "metadata": {},
   "source": [
    "<figure>\n",
    " <img align=\"right\", src=\"./Imagenes/06.png\"   style=\"width:400px;height:224px;\" >\n",
    "</figure>\n",
    "\n",
    "Calcula una serie de no-linearidades, en las que entraré más adelante y genera las probabilidades de un conjunto de categorías. "
   ]
  },
  {
   "cell_type": "markdown",
   "metadata": {},
   "source": [
    "<figure>\n",
    " <img align=\"right\", src=\"./Imagenes/C1_W1_Página_38.jpg\"   style=\"width:400px;height:224px;\" >\n",
    "</figure>\n",
    "\n",
    "Y, piensa que es 45% de probabilidad de que esta imagen sea un gato, 45% de probabilidad de que esta imagen sea un perro, y 10% de probabilidad de que esta imagen sea un pájaro. Y al principio, el modelo probablemente no sabrá cómo clasificar correctamente, así que es por eso que el gato y el perro probablemente estén a la par entre sí aquí. Y aprende horas extras tratando de mejorar sus predicciones de acuerdo con las verdaderas etiquetas de los datos. Así que lo dirás al final, no. Esto es 100% gato, 0% perro, 0% pájaro. "
   ]
  },
  {
   "cell_type": "markdown",
   "metadata": {},
   "source": [
    "<figure>\n",
    " <img align=\"right\", src=\"./Imagenes/07.png\"   style=\"width:400px;height:224px;\" >\n",
    "</figure>\n",
    "\n",
    "Así que este proceso de aprendizaje se puede resumir de la siguiente manera. Tiene algunas características de entrada $X$, como que ronea, y le gusta jugar con hilo, y un conjunto de etiquetas $Y$ asociadas con cada una de sus clases. Por ejemplo, un gato, un perro y un pájaro. Y usas tu red neuronal, que toma esas características y aprende este conjunto de parámetros, que llamaré $\\theta$. Y estos son cada uno de esos nodos que ves en esa red neuronal. Y estos pesos cambian las horas extras a medida que aprende cómo se ve un gato y cómo se ve un perro y cómo se ve un pájaro. Y estos datos de parámetros, $\\theta$,  están tratando de asignar estas entidades $X$ a las etiquetas $Y$. Y esas predicciones que llamarás $\\hat{Y}$ porque no son exactamente las etiquetas $Y$ exactas. Están tratando de ser las etiquetas $Y$. \n",
    "\n",
    "Y así el objetivo es llegar a un punto en el que se minimice la diferencia entre los valores verdaderos $Y$ en las predicciones $\\hat{Y}$. Y aquí es donde entra una función de costo, y se calcula comparando cuán cerca está $\\hat{Y}$ con $Y$. Y ese es el objetivo de esta función de costo, que le dice a este modelo discriminatorio. Esta red neuronal, lo cerca que está de clasificar el gato correctamente y el perro correctamente y el pájaro correctamente. \n",
    "\n",
    "Entonces, desde esta función de costo, puede actualizar esos parámetros. Los nodos en esa red neuronal de acuerdo con el gradiente de esta función de costo. Y eso solo significa generalmente en qué dirección deberían ir esos parámetros para tratar de llegar a la respuesta correcta, tratar de llegar a un $\\hat{Y}$, eso es lo más cerca posible de $Y$. Y luego repite este proceso hasta que su clasificador esté en buena forma. "
   ]
  },
  {
   "cell_type": "markdown",
   "metadata": {},
   "source": [
    "<figure>\n",
    " <img align=\"right\", src=\"./Imagenes/C1_W1_Página_40.jpg\"   style=\"width:400px;height:224px;\" >\n",
    "</figure>\n",
    "\n",
    "Así que vamos a dar un pequeño paseo a la tierra matemática donde el objetivo del discriminador es modelar la probabilidad de cada clase. Por ejemplo, no sólo el gato aquí, pero la tortuga, el pájaro, el perro y los peces también. Dado un conjunto de entidades de entrada, por ejemplo, aquí hay una imagen de un gato. Así que dada esta imagen de un gato, ¿qué clase es esta? En otras palabras, esto es modelar la probabilidad de clase $Y$ dada las características de entrada $X$. "
   ]
  },
  {
   "cell_type": "markdown",
   "metadata": {},
   "source": [
    "<figure>\n",
    " <img align=\"right\", src=\"./Imagenes/C1_W1_Página_41.jpg\"   style=\"width:400px;height:224px;\" >\n",
    "</figure>\n",
    "\n",
    "Y de nuevo, estas características podrían ser entidades extraídas de esta imagen, como que ronronea y que le gusta jugar con hilo, pero también los propios píxeles. Y esta es una distribución de probabilidad condicional porque predice la probabilidad de clase $Y$ condicionada a un cierto conjunto de entidades, que es para lo que está esta barra vertical. Entonces, el modelo solo hace una predicción de una clase una vez que se ve las entidades de entrada. Y en este caso, está en la imagen. "
   ]
  },
  {
   "cell_type": "markdown",
   "metadata": {},
   "source": [
    "<figure>\n",
    " <img align=\"right\", src=\"./Imagenes/C1_W1_Página_42.jpg\"   style=\"width:400px;height:224px;\" >\n",
    "</figure>\n",
    "\n",
    "Y ahora, devuélvelo al contexto de GAN. El discriminador es un clasificador que inspecciona los ejemplos. Son ejemplos falsos, los ejemplos reales, y determina si pertenecen a la clase real o falsa. "
   ]
  },
  {
   "cell_type": "markdown",
   "metadata": {},
   "source": [
    "<figure>\n",
    " <img align=\"right\", src=\"./Imagenes/C1_W1_Página_43.jpg\"   style=\"width:400px;height:224px;\" >\n",
    "</figure>\n",
    "\n",
    "Así que tomando esta falsa Mona Lisa aquí, y en lugar de determinar si hay un gato, un perro o un pájaro en esta imagen, determinando lo falsa que es esta imagen, y aquí piensa que es un 85% falso. En términos probabilísticos, el discriminador modela la probabilidad de que un ejemplo sea falso dado un conjunto de entradas X. Por ejemplo, mirará esta imagen de una Mona Lisa falsa y determinará que con 85% de probabilidad no es la real. Y como simplificación, será clasificado como falso. Y también puedes pensar en esto como 0.15 real y reescribir esto como una probabilidad sobre real dada esa imagen."
   ]
  },
  {
   "cell_type": "markdown",
   "metadata": {},
   "source": [
    "<figure>\n",
    " <img align=\"right\", src=\"./Imagenes/C1_W1_Página_44.jpg\"   style=\"width:400px;height:224px;\" >\n",
    "</figure>\n",
    "\n",
    "El discriminador modela la probabilidad de que un ejemplo sea falso dado ese conjunto de entradas $X$. Por ejemplo, en un vistazo a una foto de una Mona Lisa o una Mona Lisa falsa y determinar que con 85% de probabilidad este no es el real, 0.85 falso. Así que en este caso, será clasificado como falso y esa información. Y no solo esta información falsa, sino que este 0.85 se le dará al generador para mejorar sus esfuerzos. \n",
    "\n",
    "En resumen, el discriminador es un tipo de clasificador que aprende a modelar la probabilidad de que un ejemplo sea real o falso dado ese conjunto de entidades de entrada, como los valores de píxeles RGB para imágenes. Las probabilidades de salida del discriminador son las que ayudan al generador a aprender a producir mejores ejemplos."
   ]
  },
  {
   "cell_type": "markdown",
   "metadata": {},
   "source": [
    "***\n",
    "<font size=\"2\" color=\"red\"><b> PREGUNTA </b></font>\n",
    "\n",
    "¿Cuál es el objetivo principal del discriminador, en sentido probabilístico?\n",
    "\n",
    "* Capturar la probabilidad de x e y: P( x ∩ y ).\n",
    "* Capturar la probabilidad de la clase y: P( y ).\n",
    "* Capturar la probabilidad condicional P( y | x ).\n",
    "* Capturar la probabilidad de las características x: P( x ).\n",
    "\n",
    "***\n",
    "<details>\n",
    "   <summary><font size=\"2\" color=\"darkblue\"><b> Click para la respuesta</b></font></summary>\n",
    "\n",
    "Respuesta: Capturar la probabilidad condicional P( y | x ).\n",
    "    \n",
    "Correcto. El discriminador encuentra la probabilidad de la clase y (real o falsa) dadas las características de entrada x.\n",
    "    \n",
    "</details>"
   ]
  },
  {
   "cell_type": "markdown",
   "metadata": {},
   "source": [
    "### Generator"
   ]
  },
  {
   "cell_type": "markdown",
   "metadata": {},
   "source": [
    "El generador y otra vez, es como su corazón. Es un modelo que se utiliza para generar ejemplos y en el que se debe invertir y ayudar a lograr un rendimiento realmente alto al final del proceso de formación. En este video, volveré a ver el papel del generador y verás cómo es capaz de mejorar su rendimiento. Entonces te mostraré lo que modela en términos de probabilidad. \n",
    "\n",
    "<figure>\n",
    " <img align=\"right\", src=\"./Imagenes/C1_W1_Página_49.jpg\"   style=\"width:400px;height:224px;\" >\n",
    "</figure>\n",
    "\n",
    "Por lo tanto, el objetivo final de los generadores es poder producir ejemplos de una determinada clase. Entonces, si lo entrenó desde la clase de un gato, entonces el generador hará algunos cálculos y producirá una representación de un gato que se ve real. "
   ]
  },
  {
   "cell_type": "markdown",
   "metadata": {},
   "source": [
    "<figure>\n",
    " <img align=\"right\", src=\"./Imagenes/08.png\"   style=\"width:400px;height:224px;\" >\n",
    "</figure>\n",
    "\n",
    "Así que idealmente, el generador no emitirá el mismo gato en cada carrera, y así para asegurarse de que sea capaz de producir diferentes ejemplos cada vez, en realidad ingresará diferentes conjuntos de valores aleatorios, también conocidos como **vector de ruido**. Así que aquí este vector de ruido es en realidad solo un conjunto de valores donde estas celdas sombreadas de manera diferente son solo valores diferentes. Así que puedes pensar en esto como 1, 2, 5, 1.5, 5, 5, 2. A continuación, este vector de ruido se alimenta como entrada, a veces con nuestra clase $y$ para gato en la red neuronal de los generadores.  Esto significa que estas características, $x_0$, $x_1$, $x_2$, hasta $x_n$, incluyen la clase, así como, los números en este vector de ruido. "
   ]
  },
  {
   "cell_type": "markdown",
   "metadata": {},
   "source": [
    "<figure>\n",
    " <img align=\"right\", src=\"./Imagenes/09.png\"   style=\"width:400px;height:224px;\" >\n",
    "</figure>\n",
    "\n",
    "Entonces, el generador en esta red neuronal calculará una serie de no-linealidades a partir de esas entradas y devolverá algunas variables que se parecen a un lindo gato marrón y blanco y se ejecutan. "
   ]
  },
  {
   "cell_type": "markdown",
   "metadata": {},
   "source": [
    "<figure>\n",
    " <img align=\"right\", src=\"./Imagenes/10.png\"   style=\"width:400px;height:224px;\" >\n",
    "</figure>\n",
    "\n",
    "Así que aquí en lugar de diferentes clases, su salida será en realidad una imagen. Así que puedes imaginar que tal vez esta imagen tiene tres millones de píxeles, por lo que puedes imaginar que son tres millones de nodos al final allí que no necesariamente representan clases sino el valor de cada píxel. \n"
   ]
  },
  {
   "cell_type": "markdown",
   "metadata": {},
   "source": [
    "<figure>\n",
    " <img align=\"left\", src=\"./Imagenes/11.png\"   style=\"width:280px;height:157px;\" >\n",
    "</figure>\n",
    "\n",
    "<figure>\n",
    " <img align=\"rigth\", src=\"./Imagenes/C1_W1_Página_51.jpg\"   style=\"width:280px;height:157px;\" >\n",
    "</figure>\n",
    "\n",
    "\n",
    "En otra carrera, puede generar este gato esfinge, tal vez en un embudo equivocado, este gato sabana. Estos son todos con diferentes vectores de ruido. "
   ]
  },
  {
   "cell_type": "markdown",
   "metadata": {},
   "source": [
    "<figure>\n",
    " <img align=\"right\", src=\"./Imagenes/12.png\"   style=\"width:400px;height:224pxpx;\" >\n",
    "</figure>\n",
    "\n",
    "Así que primero consideremos conceptualmente cómo el generador mejora con el tiempo. Primero, tienes un vector de ruido o esos valores de entrada aleatorios que viste, que voy a representar con este símbolo griego aquí de $\\xi$. Se pasa esto a un generador representado por una red neuronal para producir un conjunto de características que pueden representar una imagen de un gato o un intento de un gato. Por ejemplo, su generador podría generar esto. En esta imagen, $\\hat{x}$ se introduce en el discriminador, lo que determina cuán real y qué tan falso piensa que se basa en su inspección de la misma. \n",
    "\n",
    "Después de eso, por lo que piensa el discriminador, que es este $\\hat{y_d}$ con una d aquí que representa que son las predicciones de los discriminadores, puede calcular una función de costo que básicamente mira hasta qué punto los ejemplos producidos por el generador están siendo considerados reales por el discriminador porque el generador quiere que esto parezca lo más real posible. Así que básicamente, el generador quiere que $\\hat{y_d}$ sea lo más cercano a uno, lo que significa lo más real posible. Mientras que, el discriminador está tratando de conseguir que esto sea cero, falso. Utiliza la diferencia entre estos dos para luego actualizar los parámetros del generador, y eso consigue que mejore con el tiempo y sepa qué dirección mover sus parámetros para generar algo que se vea más real y engañará al discriminador. "
   ]
  },
  {
   "cell_type": "markdown",
   "metadata": {},
   "source": [
    "<figure>\n",
    " <img align=\"right\", src=\"./Imagenes/C1_W1_Página_53.jpg\"   style=\"width:400px;height:224px;\" >\n",
    "</figure>\n",
    "\n",
    "Así que una vez que obtienes un generador que se ve bastante bien, puedes guardar los parámetros theta del generador. Eso normalmente significa congelar esos valores theta y guardarlos en algún lugar y luego puede cargarlos de nuevo y luego tomar muestras de este generador seguro. Lo que el muestreo significa básicamente es que tiene estos vectores de ruido aleatorio, y cuando ingresa eso en el generador guardado, puede generar todo tipo de ejemplos diferentes. Así que este generador ahorrado no fue entrenado en gatos, espero, porque está generando perros. \n",
    "\n",
    "Ahora que puedes seguir generando nuevos vectores de ruido, ponerlo a través de este generador guardado, y luego tomar muestras de más imágenes de perros en este caso."
   ]
  },
  {
   "cell_type": "markdown",
   "metadata": {},
   "source": [
    "<figure>\n",
    " <img align=\"right\", src=\"./Imagenes/C1_W1_Página_54.jpg\"   style=\"width:400px;height:224px;\" >\n",
    "</figure>\n",
    "\n",
    "Así que en la tierra de la probabilidad, el generador modela la probabilidad de un ejemplo como un gato. En el ejemplo anterior, en realidad era un perro. Por supuesto, puedes hacer una tortuga, un pájaro o un pez también, por favor vuelve loco con eso. Más en general, el generador está tratando de modelar la probabilidad de estas características de un gato, tales como fugas de su pata o tener bigotes lindos están teniendo diferentes tipos de lejos, dada esta clase y de un gato. Así que esta es la probabilidad condicional de las características $X$ dada la clase $Y$. "
   ]
  },
  {
   "cell_type": "markdown",
   "metadata": {},
   "source": [
    "<figure>\n",
    " <img align=\"right\", src=\"./Imagenes/C1_W1_Página_55.jpg\"   style=\"width:400px;height:224px;\" >\n",
    "</figure>\n",
    "\n",
    "Sin embargo, dado que solo tenemos una clase en este momento para digamos que solo genera gatos, entonces $Y$ siempre será el mismo y por lo que realmente no necesitas esto aquí para que tengas $P(X)$ que estás modelando. Por supuesto, si quieres que tu generador aprenda en todos los diferentes tipos de clases y te importa la clase, entonces necesitas poner esa clase $Y$. Verás más sobre esto en breve a través de nuestro Curso 1. "
   ]
  },
  {
   "cell_type": "markdown",
   "metadata": {},
   "source": [
    "<figure>\n",
    " <img align=\"right\", src=\"./Imagenes/C1_W1_Página_56.jpg\"   style=\"width:400px;height:224px;\" >\n",
    "</figure>\n",
    "\n",
    "Así que ahora tienes $P(X)$ en todos los diferentes tipos de gatos en el mundo. El generador modelará la probabilidad de las características $X$ sin ninguna condición adicional y esto se debe a que la clase $Y$ siempre será gato, por lo que está implícita para todas las probabilidades $X$. En este caso, tratará de aproximar la distribución real de los gatos. Por lo tanto, las razas de gatos más comunes tendrán más posibilidades de ser generadas porque son más comunes en el conjunto de datos. Ciertas características como tener orejas puntiagudas serán comentarios adicionales porque la mayoría de los gatos tienen eso. Pero entonces las razas más raras tendrán menos probabilidades de ser muestreadas. por lo que estas líneas aquí solo representan una distribución de probabilidad 3D de cómo se distribuye la clase de gatos. Así que los tipos más comunes de características que los gatos llevan a cabo se mostrarían y muestrearon en este medio aquí, que si piensas en esto como una representación 3D, está saliendo hacia ti. Entonces unas razas raras o sombreros de aspecto raro estarán en los bordes. \n",
    "\n",
    "Así que esto significa que las tasas de límite más comunes tendrán más posibilidades de ser generadas, mientras que las menos comunes como la esfinge se producirán mucho más raramente. Verás en futuros videos cómo controlar el proceso de muestreo y obtener lo que te gustaría, pero en este momento, la caída de los generadores es solo para modelar cómo están los gatos en el mundo natural. \n",
    "\n",
    "Así que para terminar, el generador produce datos falsos que intentan parecer reales. Aprende a imitar esa distribución de las entidades $X$ de la clase de sus datos. Con el fin de producir diferentes salidas cada vez que toma entidades aleatorias como entrada. En la tarea de esta semana, construirás un arma que genera imágenes de dígitos numéricos. Tiene la misma configuración, solo le das ruido aleatorio y puede producir todos estos diferentes dígitos que están escritos a mano como este cinco y este ocho. Esto es genial porque la escritura a mano no se ve perfecta, no se ve igual cada vez y sería capaz de modelar y generar el rango de diferentes 5's y 8's y todo tipo de dígitos diferentes de este conjunto de datos de dígitos escritos a mano que verá en la asignación."
   ]
  },
  {
   "cell_type": "markdown",
   "metadata": {},
   "source": [
    "***\n",
    "<font size=\"2\" color=\"red\"><b> PREGUNTA </b></font>\n",
    "\n",
    "¿Cuál es el objetivo principal del generador, en un sentido probabilístico?\n",
    "\n",
    "* Capturar la probabilidad de la clase y: P( y ).\n",
    "* Capturar la probabilidad de x e y: P( x ∩ y ).\n",
    "* Modelar las características x condicionadas a la clase y: P( x | y ).\n",
    "* Modelar la unión de x e y: P( x U y ).\n",
    "\n",
    "***\n",
    "<details>\n",
    "   <summary><font size=\"2\" color=\"darkblue\"><b> Click para la respuesta</b></font></summary>\n",
    "\n",
    "Respuesta: Modelar las características x condicionadas a la clase y: P( x | y ).\n",
    "    \n",
    "Correcto. El generador modela la probabilidad de las características x condicionadas a una clase y.\n",
    "    \n",
    "</details>"
   ]
  },
  {
   "cell_type": "markdown",
   "metadata": {},
   "source": [
    "### BCE Cost Function"
   ]
  },
  {
   "cell_type": "markdown",
   "metadata": {},
   "source": [
    "**Función Binary Cross Entropía**, o **BCE** para abreviar, se utiliza para el entrenamiento de GANs. Es útil para estos modelos, porque está especialmente diseñado para tareas de clasificación, donde hay dos categorías como, real y falso. En este video, te mostraré la ecuación utilizada para obtener la pérdida de BCE, y lo que significa cada parte de la ecuación. Al final, terminaré esta lección mostrando cómo la función de coste de BCE busca diferentes etiquetas. \n",
    "\n",
    "<figure>\n",
    " <img align=\"right\", src=\"./Imagenes/C1_W1_Página_60.jpg\"   style=\"width:400px;height:224px;\" >\n",
    "</figure>\n",
    "\n",
    "Aquí está la función completa del costo de BCE. Puede parecer un poco intimidante, pero voy a desglosar cada uno de estos componentes y también le daré ejemplos para proporcionar algo de intuición sobre cómo funciona. \n",
    "\n",
    "* Primero al principio aquí se ve un signo de suma de 1 a $m$, así como dividir por ese $m$. Esto básicamente significa sumar sobre la variable $m$, que en realidad es el número de ejemplos en todo el lote, y tomar el promedio de esos ejemplos. Tomar el costo promedio de este mini-lote. Repasaré lo que significa este signo negativo más adelante. \n",
    "\n",
    "* A lo largo de este video, $h$ denota las predicciones hechas por el modelo. \n",
    "\n",
    "* Ves que aquí, $y$ son las etiquetas para los diferentes ejemplos. Estas son las verdaderas etiquetas de si algo es real o falso. Por ejemplo, si real podría ser una etiqueta de 1, y falso o ser una etiqueta de 0. \n",
    "\n",
    "* $x$ son las características que se pasan a través de la predicción, por lo que esta podría ser una imagen, y \n",
    "\n",
    "* $\\theta$ son los parámetros de lo que sea que esté computando esa producción. En este caso, probablemente va a ser el discriminador. Como los parámetros del discriminador, mirando esas características, y eso es hacer esto, $h(x,\\theta)$. A menudo verás esto también escrito como $h(x;\\theta)$, y eso solo significa parametrizado por $\\theta$. Eso es un poco más preciso, pero no tienes que preocuparte por eso ahora. "
   ]
  },
  {
   "cell_type": "markdown",
   "metadata": {},
   "source": [
    "<figure>\n",
    " <img align=\"right\", src=\"./Imagenes/C1_W1_Página_61.jpg\"   style=\"width:500px;height:175px;\" >\n",
    "</figure>\n",
    "\n",
    "En estos corchetes, puede dividirlos en dos términos diferentes. Echemos un vistazo a cada uno de ellos. \n",
    "\n"
   ]
  },
  {
   "cell_type": "markdown",
   "metadata": {},
   "source": [
    "<figure>\n",
    " <img align=\"right\", src=\"./Imagenes/C1_W1_Página_62.jpg\"   style=\"width:400px;height:224px;\" >\n",
    "</figure>\n",
    "\n",
    "* El término a la izquierda, es el producto de la etiqueta verdadera y veces el $log$ de la predicción, que es $h(x)$, las características parametrizadas por $\\theta$ para el modelo. Para entender a qué se trata de obtener este valor, veamos algunos ejemplos. El caso donde la etiqueta 0, así que digamos que esto significa que es falso, y tienes alguna predicción aquí, entonces este valor realmente da como resultado 0. Si tiene una predicción de 1, digamos que es real, y tiene una predicción muy alta que está cerca de 1, de 0.99, entonces también obtiene un valor que está cerca de 0. En el caso en que realmente es real, pero su predicción es terrible, y es 0, tan lejos de 1, usted piensa que es falso, pero en realidad es real, entonces este valor es extremadamente grande. Esto es causado en gran medida por el $log$ allí. Lo que esto está tratando de decir, es que en el caso cuando la verdadera predicción es 0, este término no importa, simplemente va a 0. Este término es principalmente para cuando la predicción es en realidad solo 1, y lo hace 0 si su predicción es buena, y hace que sea infinito negativo si su predicción es mala. "
   ]
  },
  {
   "cell_type": "markdown",
   "metadata": {},
   "source": [
    "<figure>\n",
    " <img align=\"right\", src=\"./Imagenes/C1_W1_Página_63.jpg\"   style=\"width:400px;height:224px;\" >\n",
    "</figure>\n",
    "\n",
    "* Ahora mirando el segundo término, se ve muy similar, guarde algunos de estos signos menos aquí. En este caso, si su etiqueta es 1, entonces $(1 - y) = 0$. En realidad, si su predicción es algo, esto evaluará a 0, y si su predicción está diciendo, *Hey, eso es bastante falso*, se acerca a 0, entonces este valor está cerca de 0. Sin embargo, si es falso, pero su predicción está muy lejos, y piensa que es real, entonces este término se evalúa a infinito negativo. Básicamente, cada uno de estos términos se evalúa a infinito negativo si para su etiqueta relevante, la predicción es realmente mala. Eso nos lleva a este signo negativo un poco. Si cualquiera de estos valores se evalúa como algo realmente grande en la dirección negativa, este signo negativo es crucial para asegurarse de que es un número positivo y un infinito positivo. Porque para nuestra función de costo, lo que normalmente desea es que un alto valor sea malo, y su red neuronal está tratando de reducir este valor tanto como sea posible. Obtener predicciones que están más cerca, evaluar a 0 tiene sentido aquí, porque desea minimizar su función de costo a medida que aprenda. "
   ]
  },
  {
   "cell_type": "markdown",
   "metadata": {},
   "source": [
    "<figure>\n",
    " <img align=\"right\", src=\"./Imagenes/C1_W1_Página_64.jpg\"   style=\"width:400px;height:224px;\" >\n",
    "</figure>\n",
    "\n",
    "En resumen, un término en la función de costo es relevante cuando la etiqueta 0, el otro es relevante cuando es 1, y en cualquier caso, se calculó el logaritmo de un valor entre 1-0, lo que devuelve ese resultado negativo. Es por eso que desea que este término negativo al principio, para asegurarse de que es alto, o mayor que, o igual a 0. \n"
   ]
  },
  {
   "cell_type": "markdown",
   "metadata": {},
   "source": [
    "<figure>\n",
    " <img align=\"right\", src=\"./Imagenes/C1_W1_Página_65.jpg\"   style=\"width:400px;height:224px;\" >\n",
    "</figure>\n",
    "\n",
    "Ahora le mostraré cómo se ve la función de pérdida para cada una de las etiquetas sobre todas las predicciones posibles. En esta gráfica, puede tener su valor de predicción en el eje $x$, donde $h$es su modelo, y da una predicción basada en $x$ parametrizada por $\\theta$. La pérdida asociada a ese ejemplo de entrenamiento se encuentra en el eje $y$. En este caso, la pérdida simplifica al registro negativo de la predicción. \n",
    "\n",
    "- Cuando la predicción es cercana a 1, aquí en la cola, la pérdida es cercana a 0 porque su predicción está cerca de la etiqueta. Buen trabajo aquí, esto es bueno. \n",
    "- Cuando la predicción está cerca de 0 aquí, desafortunadamente su pérdida se acerca al infinito, por lo que un valor realmente alto porque la predicción y la etiqueta son muy diferentes. "
   ]
  },
  {
   "cell_type": "markdown",
   "metadata": {},
   "source": [
    "<figure>\n",
    " <img align=\"right\", src=\"./Imagenes/C1_W1_Página_66.jpg\"   style=\"width:400px;height:224px;\" >\n",
    "</figure>\n",
    "\n",
    "Lo contrario es cierto cuando la etiqueta es 0, y la función de pérdida se reduce al $-log(1 - esa predicción)$. \n",
    "\n",
    "- Cuando la predicción es cercana a 0, la pérdida también es cercana a 0. Eso significa que lo estás haciendo muy bien. \n",
    "- Pero cuando su predicción está más cerca de 1, pero la verdad del suelo es 0, se acercará al infinito de nuevo. "
   ]
  },
  {
   "cell_type": "markdown",
   "metadata": {},
   "source": [
    "En resumen, la función de coste de BCE tiene dos términos principales que son relevantes para cada una de las clases. Si la predicción y la etiqueta son similares, la pérdida de BCE es cercana a 0. Cuando son muy diferentes, esa pérdida de BCE se acerca al infinito. La pérdida de BCE se realiza a través de un mini-lote de varios ejemplos, digamos $n$ ejemplos, tal vez cinco ejemplos donde $n$ es igual a 5. Toma el promedio de todos esos cinco ejemplos. Cada uno de esos ejemplos puede ser diferente. Uno de ellos puede ser 1, los otros cuatro podrían ser 0, para sus diferentes clases."
   ]
  },
  {
   "cell_type": "markdown",
   "metadata": {},
   "source": [
    "### Putting It All Together"
   ]
  },
  {
   "cell_type": "markdown",
   "metadata": {},
   "source": [
    "Así que has visto todos los conceptos básicos en la intuición detrás de los GAN y sus componentes. En este video revisarás algunos conceptos anteriores que cubrí, además de ponerlo todo junto para que puedas empezar a entrenar tu GAN. Así que primero compartiré una representación de cómo podría ser una arquitectura GAN. Y luego te mostraré cómo entrenar un GAN alternando el entrenamiento del discriminador con el entrenamiento del generador. "
   ]
  },
  {
   "cell_type": "markdown",
   "metadata": {},
   "source": [
    "<figure>\n",
    " <img align=\"right\", src=\"./Imagenes/C1_W1_Página_70.jpg\"   style=\"width:400px;height:224px;\" >\n",
    "</figure>\n",
    "\n",
    "Así que recordemos que en un GAN básico, el generador toma un ruido aleatorio como entrada, con esta letra griega $\\xi$. Y este generador que produce ejemplos falsos llamados $\\hat{X}$. Y estas son imágenes falsas, por ejemplo.\n",
    "\n",
    "Y no necesito pasar una clase de generador, pero puedo si estoy generando muchas clases diferentes. Por ahora, no voy a pasar la clase del generador, te mostraré cómo funciona esto más tarde. Y luego los ejemplos generados, junto con algunos ejemplos reales se pasan al discriminador. En esta probabilidad, esta salida del discriminador se llama $\\hat{Y}$. \n",
    "\n",
    "Por lo tanto, el objetivo del discriminador es distinguir entre los ejemplos generados y los ejemplos reales. Mientras que el objetivo del generador es engañar al discriminador produciendo ejemplos falsos que se ven lo más reales posible. \n"
   ]
  },
  {
   "cell_type": "markdown",
   "metadata": {},
   "source": [
    "<figure>\n",
    " <img align=\"right\", src=\"./Imagenes/C1_W1_Página_71.jpg\"   style=\"width:400px;height:224px;\" >\n",
    "</figure>\n",
    "\n",
    "Así que para entrenar un GAN básico, alternas el entrenamiento en el generador y el discriminador. Así que primero empecemos con cómo funciona el discriminador. Así que primero, por supuesto, obtienes algunos ejemplos falsos $\\hat{X}$ producido por el generador de ese ruido de entrada. Y luego esos ejemplos, los falsos, el $\\hat{X}$ y los $X$ se pasan al discriminador sin decirle al discriminador todavía cuáles son reales y cuáles son falsos. Y luego el discriminador hace predicciones $\\hat{Y}$ de cuáles son reales y cuáles son falsos. O más específicamente una probabilidad de puntuación de lo falso y lo real que son cada una de estas imágenes. Después de eso, las predicciones se comparan usando esa pérdida de BCE con las etiquetas deseadas para falsos y reales. Y eso ayuda a actualizar sus parámetros o $\\theta_d$, donde d representa parámetros para el discriminador.\n",
    "\n",
    "Y esto solo actualiza los parámetros del discriminador, solo esta red neuronal, y no el generador. "
   ]
  },
  {
   "cell_type": "markdown",
   "metadata": {},
   "source": [
    "<figure>\n",
    " <img align=\"right\", src=\"./Imagenes/C1_W1_Página_72.jpg\"   style=\"width:400px;height:224px;\" >\n",
    "</figure>\n",
    "\n",
    "Muy bien, así que para el generador primero genera algunos ejemplos falsos, otra vez $\\hat{X}$, y esto es del ruido de entrada. Y luego estos se pasan de nuevo al discriminador. Pero en este caso, el generador solo ve sus propios ejemplos falsos. Así que no ve los ejemplos reales en absoluto. Así que sólo sabe que estos se están pasando a algún discriminador. Y luego el discriminador hace predicciones. $\\hat{Y}$ de lo reales o falsos que son. Y después de eso las predicciones se comparan usando la pérdida de BCE con todas las etiquetas iguales a reales. Debido a que el generador está tratando de conseguir que estas imágenes falsas sean iguales a reales o etiqueta de 1 lo más cerca posible. \n",
    "\n",
    "Y aquí es donde es un poco complicado y un poco diferente entre el generador y el discriminador. Discriminator quiere que los ejemplos falsos parezcan lo más falsos posible, pero el generador quiere que los ejemplos falsos parezcan lo más reales posible. Es decir, quiere engañar al discriminador. Y así, después de calcular el costo, el gradiente se propaga hacia atrás y se actualizan los parámetros del generador o $\\theta_g$.De nuevo, es sólo el generador, esta red neuronal que se está actualizando en este proceso, no el discriminador. Así que mientras alternas su entrenamiento, solo un modelo es entrenado a la vez, mientras que el otro se mantiene constante. "
   ]
  },
  {
   "cell_type": "markdown",
   "metadata": {},
   "source": [
    "***\n",
    "<font size=\"2\" color=\"red\"><b> PREGUNTA 1 </b></font>\n",
    "\n",
    "¿Cómo aprende el discriminador con el tiempo?\n",
    "\n",
    "* Comparando las imágenes con las de Internet.\n",
    "* Utilizando la retroalimentación del generador.\n",
    "* Recibiendo retroalimentación sobre si su clasificación fue correcta.\n",
    "* Recibiendo las aportaciones del usuario.\n",
    "\n",
    "<font size=\"2\" color=\"red\"><b> PREGUNTA 2 </b></font>\n",
    "\n",
    "¿Cómo aprende el generador con el tiempo?\n",
    "\n",
    "* Comparando la imagen falsa con la real.\n",
    "* Utilizando la retroalimentación del discriminador.\n",
    "* Recibiendo los comentarios de los usuarios.\n",
    "* Generando imágenes más diversas.\n",
    "\n",
    "***\n",
    "<details>\n",
    "   <summary><font size=\"2\" color=\"darkblue\"><b> Click para la respuesta</b></font></summary>\n",
    "\n",
    "Respuesta 1: Recibiendo retroalimentación sobre si su clasificación fue correcta.\n",
    "    \n",
    "El discriminador observa imágenes reales y falsas a lo largo del tiempo, hace conjeturas y recibe información sobre si sus conjeturas eran correctas o incorrectas.\n",
    "\n",
    "Con el tiempo, aprende a distinguir mejor las imágenes reales de las falsas, pero hay que tener en cuenta que, como el generador también está aprendiendo, las imágenes falsas son cada vez más realistas y difíciles de distinguir. Este juego del gato y el ratón permite que ambos modelos aprendan a la vez. \n",
    "  \n",
    "Respuesta 2: Utilizando la retroalimentación del discriminador.\n",
    "    \n",
    "Correcto. Con la respuesta del discriminador sobre si una imagen falsa parece real o falsa, el generador empieza a producir imágenes falsas cada vez más realistas (que intentan engañar al discriminador). Las imágenes que parecen \"falsas\" para el discriminador se descartan en favor de las que parecen \"reales\" para el discriminador; como el discriminador va mejorando con el tiempo a medida que ve más reales y falsas, el generador también necesita aprender continuamente.\n",
    "    \n",
    "</details>"
   ]
  },
  {
   "cell_type": "markdown",
   "metadata": {},
   "source": [
    "<figure>\n",
    " <img align=\"right\", src=\"./Imagenes/C1_W1_Página_73.jpg\"   style=\"width:400px;height:224px;\" >\n",
    "</figure>\n",
    "\n",
    "Por lo tanto, al entrenar a los GAN de esta manera alterna, es importante tener en cuenta que ambos modelos deben mejorar juntos y deben mantenerse en niveles de habilidad similares desde el comienzo del entrenamiento. Y entonces el razonamiento detrás de esto es que si tienes un discriminador que es superior al generador, como super, super bueno, obtendrás predicciones de él diciendo que todos los ejemplos falsos son 100% falsos. Bueno, eso no es útil para el generador, el generador no sabe cómo mejorar. Todo parece súper falso, no hay nada que lo diga para saber en qué dirección ir. Tal vez para agregar algo un poco más realista y cómo aprender con el tiempo. Mientras tanto, si tienes un generador superior que supera completamente al discriminador, obtendrás predicciones que te indicarán que todas las imágenes generadas son 100% reales. Por lo tanto, al entrenar a los GAN de esta manera alterna, es importante tener en cuenta que ambos modelos deben mejorar juntos. Y debe mantenerse en niveles de habilidad similares desde el comienzo del entrenamiento. Y el razonamiento detrás de esto se debe en gran medida al discriminador. El discriminador tiene una tarea mucho más fácil, solo está tratando de averiguar cuáles son reales, cuáles son falsos, en lugar de modelar todo el espacio de cómo podría verse una clase. Lo que todos los gatos podrían verse. Así que el trabajo del discriminador es mucho más fácil que el del generador. Un problema común es tener un discriminador superior, que aprenda demasiado rápido a este discriminador. Y cuando aprende demasiado rápido y de repente mira una imagen falsa y dice, esto es 100% falso, sé que esto es falso. Pero este 100% no es útil para el generador en absoluto porque no sabe de qué manera crecer y aprender. Y así tener salida del discriminador ser mucho más informativo, como 0,87 falso o 0,2 falso en lugar de solo 100% falso. Uno, probabilidad uno falso, es mucho más informativo para el generador en términos de actualizar sus pesos y hacer que aprenda a generar imágenes realistas con el tiempo.\n",
    "\n",
    "Y así lo más importante para llevar aquí es que el entrenamiento GAN funciona de esta manera alterna típicamente. Y para mejorar ese entrenamiento con el tiempo, hay que mantener cerca la escala del generador y del discriminador para mantener un buen proceso de entrenamiento. Y, por supuesto, si tu generador ya es algo bueno, estás hecho."
   ]
  },
  {
   "cell_type": "markdown",
   "metadata": {},
   "source": [
    "***\n",
    "<font size=\"2\" color=\"red\"><b> PREGUNTA </b></font>\n",
    "\n",
    "¿Cuáles deberían ser los niveles de habilidad del discriminador y del generador?\n",
    "\n",
    "* El generador debe ser muy bueno.\n",
    "* Ambos deben estar en niveles aleatorios.\n",
    "* Ambos deben tener niveles de habilidad similares.\n",
    "* El discriminador debe ser muy bueno.\n",
    "\n",
    "\n",
    "***\n",
    "<details>\n",
    "   <summary><font size=\"2\" color=\"darkblue\"><b> Click para la respuesta</b></font></summary>\n",
    "\n",
    "Respuesta: Ambos deben tener niveles de habilidad similares.\n",
    "    \n",
    "Correcto. Tienen que aprender el uno del otro con el tiempo.\n",
    "\n",
    "Si uno de los modelos es significativamente mejor que el otro, no ayuda al otro a aprender porque la retroalimentación no es útil. Imagina que eres un artista principiante y le enseñas tu obra a un experto en arte, preguntándole si tu cuadro se parece a una obra famosa y lo único que te dice es \"no\". Como tienen un ojo muy perspicaz, saben que tu imagen no es correcta, pero no podrán decirte lo cerca que estás.\n",
    "\n",
    "    \n",
    "</details>"
   ]
  },
  {
   "cell_type": "markdown",
   "metadata": {},
   "source": [
    "### (Optional) Intro to PyTorch"
   ]
  },
  {
   "cell_type": "markdown",
   "metadata": {},
   "source": [
    "Algunos de los cuadernos en la especialización utilizan PyTorch, un framework de aprendizaje profundo súper popular desarrollado por Facebook y que realmente me encanta. Pero si no lo has usado antes, no te preocupes. Verá que es realmente similar a otros marcos como TensorFlow y en cada Notebook de asignación habrá sugerencias para ayudarle a guiarlo en el uso de este framework PyTorch. En este video, primero compararé PyTorch con TensorFlow. A continuación, verá cómo definir modelos y cómo entrenarlos usando las funciones PyTorch. "
   ]
  },
  {
   "cell_type": "markdown",
   "metadata": {},
   "source": [
    "<figure>\n",
    " <img align=\"right\", src=\"./Imagenes/C1_W1_Página_77.jpg\"   style=\"width:400px;height:224px;\" >\n",
    "</figure>\n",
    "\n",
    "Entonces PyTorch y TensorFlow son posiblemente los marcos de aprendizaje profundo más populares en este momento. Y si tomaste la especialización de aprendizaje profundo, probablemente estés familiarizado con TensorFlow. Pero aquí hay un secreto, me gusta más PyTorch. \n",
    "\n",
    "La principal diferencia entre ellos es la forma en que normalmente hacen cálculos. En PyTorch, usted calcula cosas sobre la marcha, y esto a veces se llama **programación imperativa**. En TensorFlow, primero define cómo calcular las cosas, y luego realiza los cálculos después, lo que se denomina **enfoque simbólico**. Entonces esto solo significa que en PyTorch, tienes algunos valores para las variables A y B, como A es 1, B es 2 y cuando los resumes, obtienes 3 como resultado. Bueno, en TensorFlow, no tiene valores iniciales para A y B, pero puede almacenar la suma de ellos en otra variable, C. Así que es un poco abstracto aquí, pero luego compila C y para obtener un valor para ese cálculo, debe asignar valores donde están A y B. \n",
    "\n",
    "Esto le da a PyTorch la capacidad de tener gráficos computacionales dinámicos y esto solo significa que sus redes conocidas podrían cambiar su estructura en cada carrera con bastante facilidad. Sin embargo, debido a que los gráficos computacionales en TensorFlow son estáticos, los modelos tienden a tardar menos tiempo en ejecutarse. Así que debido a que está describiendo esto, C = A + B o toda su red neuronal de esa manera, estos gráficos computacionales se consideran estáticos. \n",
    "\n"
   ]
  },
  {
   "cell_type": "markdown",
   "metadata": {},
   "source": [
    "<figure>\n",
    " <img align=\"right\", src=\"./Imagenes/C1_W1_Página_78.jpg\"   style=\"width:400px;height:224px;\" >\n",
    "</figure>\n",
    "\n",
    "Y recientemente, con TensorFlow 2.0, hay algo llamado **Eager Execution** y esto es muy, muy similar a PyTorch con gráficos computacionales dinámicos. Pero en general, los gráficos computacionales dinámicos todavía se sienten mucho más naturales en PyTorch. Pero en general, estos son actualmente marcos muy, muy similares y verás que la transición de uno a otro nunca ha sido tan fácil, especialmente de la dirección TensorFlow a PyTorch. "
   ]
  },
  {
   "cell_type": "markdown",
   "metadata": {},
   "source": [
    "<figure>\n",
    " <img align=\"right\", src=\"./Imagenes/C1_W1_Página_79.jpg\"   style=\"width:400px;height:224px;\" >\n",
    "</figure>\n",
    "\n",
    "Así que centrándonos en PyTorch, comencemos con cómo definir un modelo usando PyTorch. \n",
    "\n",
    "- Primero, tienes que importar PyTorch. Y esto es sólo la Biblioteca PyTorch. \n",
    "- Y luego también es útil importar el módulo nn, que significa red neuronal (Neural Network). Y esto incluye capas personalizadas para modelos de aprendizaje profundo. Así que es muy, muy útil. \n",
    "- Es común definir modelos en PyTorch usando subclases de la clase nn.Module. Y aquí la clase LogisticRegresion nos ayudará a crear un modelo de regresión logística. \n",
    "- El método de inicialización para esta clase, toma los parámetros que desea para su modelo, por lo que esto es típico de Python orientado a objetos. Y en este caso, la variable aquí (in) determina el número de variables de entrada para este modelo de regresión logística. \n",
    "- Luego define la arquitectura del modelo como un atributo dentro del *init* del constructor, y para una regresión logística, puede usar una capa lineal y una activación Sigmoid dentro de lo que se denomina módulo secuencial. \n",
    "- Y por lo tanto, el módulo secuencial solo está colocando capas en capas secuenciales. Así que primero dame una capa lineal y luego dame una función de activación sigmoide. \n",
    "- Y aquí en la capa lineal puedes ver que pasé esta variable desde aquí, por lo que este es el tamaño de esa entrada y luego la salida es 1. Solo quiero una predicción de todas estas entradas. Y entonces este 1 aquí podría ser una clase de corte o no corte, que pasa por la activación sigmoide que produce valores entre cero y uno. \n",
    "- Y luego, finalmente, después de este *init* aquí, define el método forward de su clase de modelo y el método forward solo significa lo que su modelo hace en las entradas de avance dadas para producir una salida. No es el paso hacia atrás con propagación hacia atrás, el paso adelante es lo que sucede cuando pones las entradas, cómo produce las salidas. Y así en este caso, el modelo secuencial que define aquí, regresión logística, acaba de devolver dadas las entradas $x$. Así que dadas las entradas $x$, lo pones a través de este conjunto secuencial de capas. \n",
    "\n",
    "Muy bien, este es un esquema general muy simple de cómo definir un modelo en PytTorch, pero también podría lograr los mismos resultados con una estructura de código diferente. "
   ]
  },
  {
   "cell_type": "markdown",
   "metadata": {},
   "source": [
    "<figure>\n",
    " <img align=\"right\", src=\"./Imagenes/C1_W1_Página_80.jpg\"   style=\"width:400px;height:224px;\" >\n",
    "</figure>\n",
    "\n",
    "Ahora, para entrenar un modelo en este marco, debe \n",
    "- inicializar una instancia de la clase que defina para su modelo. Así que aquí la clase LogisticRegresion, este modelo de la última diapositiva tiene 16 variables de entrada. \n",
    "- A continuación, se determina una función de coste para el modelo. Llamaré a esto el criterio, por lo que es un criterio del que su modelo está aprendiendo. Y este es un nombre típico que se le da a la función de costo en PyTorch. Y aquí voy a inicializar los BCELoss para la función de costo, que está disponible a través de esta biblioteca nn, la biblioteca de red neuronal Pythorch. \n",
    "- Después de eso, debe elegir el optimizador que desea usar, por ejemplo, descenso de gradiente estocástico que pasa los parámetros de sus modelos. Así que estos son los $\\theta$ que has visto anteriormente y que serán esperas que se van a actualizar durante el entrenamiento. Y luego debe especificar diferentes hiperparámetros para este optimizador. Por ejemplo, la tasa de aprendizaje aquí. \n",
    "- Finalmente, puedes entrenar tu modelo para varias épocas diferentes, así que comencemos el ciclo de entrenamiento con n_epochs, esto podría ser por ejemplo 100, donde dentro de este bucle de entrenamiento pasas la entrada a tu modelo. Obtienes una predicción de tu modelo. Luego compara su predicción con la salida de verdad de base usando este criterio (criterion), usando su función de costo, y esto obtiene su pérdida para este paso en particular. Y luego dar un paso hacia su óptimo usando el optimizador que definió. No tienes que preocuparte por la sintaxis exacta aquí, pero básicamente lo que está sucediendo es que este optimizador estamos poniendo a cero los gradientes de antes para asegurarnos de que todo está limpio y bueno, y este es el paso importante para la propagación de atrás. Esto prepara el paso de propagación hacia atrás y este último optimizador.step aquí significa usar el descenso de gradiente estocástico en los parámetros del modelo con esta pequeña tasa de aprendizaje para avanzar en esa dirección general y actualizar esos parámetros. \n",
    "\n",
    "Por lo tanto, para resumir, PyTorch hace cálculos en la carrera, por lo que le permite experimentar con modelos que pueden cambiar en cada una de las corridas. Sin embargo, como has visto en este video, PyTorch es solo otro framework de aprendizaje profundo que en realidad es muy similar a TensorFlow. Podrás cambiar de ida y vuelta entre estos marcos sin ningún problema, si ya estás familiarizado con uno de ellos."
   ]
  },
  {
   "cell_type": "markdown",
   "metadata": {},
   "source": [
    "> **(Optional) Intro to PyTorch**\n",
    ">\n",
    "> Lab"
   ]
  },
  {
   "cell_type": "markdown",
   "metadata": {},
   "source": [
    "> **Inputs to a Pre-trained GAN**\n",
    ">\n",
    "> Conozca el significado de las entradas de un GAN y cómo afectan a su resultado [aqui](https://colab.research.google.com/github/https-deeplearning-ai/GANs-Public/blob/master/C1W1_(Colab)_Inputs_to_a_pre_trained_GAN.ipynb)."
   ]
  },
  {
   "cell_type": "markdown",
   "metadata": {},
   "source": [
    "> **Programming Assignment: Your First GAN**"
   ]
  }
 ],
 "metadata": {
  "kernelspec": {
   "display_name": "Python 3",
   "language": "python",
   "name": "python3"
  },
  "language_info": {
   "codemirror_mode": {
    "name": "ipython",
    "version": 3
   },
   "file_extension": ".py",
   "mimetype": "text/x-python",
   "name": "python",
   "nbconvert_exporter": "python",
   "pygments_lexer": "ipython3",
   "version": "3.7.3"
  }
 },
 "nbformat": 4,
 "nbformat_minor": 4
}
