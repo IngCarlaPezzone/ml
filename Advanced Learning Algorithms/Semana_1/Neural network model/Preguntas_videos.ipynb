{
 "cells": [
  {
   "cell_type": "markdown",
   "metadata": {},
   "source": [
    "¿Puedes completar los superíndices y subíndices de la segunda neurona?\n",
    "\n",
    "<img src=\"More complex neural networks.png\">\n",
    "\n",
    "+ $ a^{[3]}_{2}=g(\\vec{w}^{[3]}_{2} \\cdot \\vec{a}^{[2]} + b^{[3]}_{2})$\n",
    "+ $ a^{[3]}_{2}=g(\\vec{w}^{[3]}_{2} \\cdot \\vec{a}^{[3]} + b^{[3]}_{2})$\n",
    "+ $ a^{[3]}_{2}=g(\\vec{w}^{[3]}_{2} \\cdot a^{[2]} + b^{[3]}_{2})$}\n",
    "\n",
    "<details>\n",
    "$ a^{[3]}_{2}=g(\\vec{w}^{[3]}_{2} \\cdot \\vec{a}^{[2]} + b^{[3]}_{2})$ \n",
    "    <br>\n",
    "This is correct.\n",
    "</details>"
   ]
  },
  {
   "cell_type": "code",
   "execution_count": null,
   "metadata": {},
   "outputs": [],
   "source": []
  }
 ],
 "metadata": {
  "kernelspec": {
   "display_name": "Python 3",
   "language": "python",
   "name": "python3"
  },
  "language_info": {
   "codemirror_mode": {
    "name": "ipython",
    "version": 3
   },
   "file_extension": ".py",
   "mimetype": "text/x-python",
   "name": "python",
   "nbconvert_exporter": "python",
   "pygments_lexer": "ipython3",
   "version": "3.6.9"
  }
 },
 "nbformat": 4,
 "nbformat_minor": 4
}
